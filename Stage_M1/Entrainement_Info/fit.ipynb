{
 "cells": [
  {
   "cell_type": "code",
   "execution_count": 1,
   "id": "42bdd664",
   "metadata": {},
   "outputs": [
    {
     "name": "stderr",
     "output_type": "stream",
     "text": [
      "/Users/mariehartmann/opt/anaconda3/envs/myenv38/lib/python3.8/site-packages/zfit/__init__.py:48: UserWarning: TensorFlow warnings are by default suppressed by zfit. In order to show them, set the environment variable ZFIT_DISABLE_TF_WARNINGS=0. In order to suppress the TensorFlow warnings AND this warning, set ZFIT_DISABLE_TF_WARNINGS=1.\n",
      "  warnings.warn(\"TensorFlow warnings are by default suppressed by zfit.\"\n",
      "/Users/mariehartmann/opt/anaconda3/envs/myenv38/lib/python3.8/site-packages/zfit/util/execution.py:73: UserWarning: Not running on Linux. Determining available cpus for thread can failand be overestimated. Workaround (only if too many cpus are used):`zfit.run.set_n_cpu(your_cpu_number)`\n",
      "  warnings.warn(\"Not running on Linux. Determining available cpus for thread can fail\"\n"
     ]
    }
   ],
   "source": [
    "import zfit"
   ]
  },
  {
   "cell_type": "code",
   "execution_count": 2,
   "id": "ebfff3ea",
   "metadata": {},
   "outputs": [],
   "source": [
    "import tensorflow as tf"
   ]
  },
  {
   "cell_type": "code",
   "execution_count": 3,
   "id": "134577f2",
   "metadata": {},
   "outputs": [],
   "source": [
    "from zfit import z"
   ]
  },
  {
   "cell_type": "code",
   "execution_count": 4,
   "id": "beade9de",
   "metadata": {},
   "outputs": [],
   "source": [
    "import numpy as np"
   ]
  },
  {
   "cell_type": "code",
   "execution_count": 5,
   "id": "7905eded",
   "metadata": {},
   "outputs": [],
   "source": [
    "import matplotlib.pyplot as plt"
   ]
  },
  {
   "cell_type": "code",
   "execution_count": 55,
   "id": "a03297a5",
   "metadata": {},
   "outputs": [],
   "source": [
    "import mplhep"
   ]
  },
  {
   "cell_type": "markdown",
   "id": "03fe5797",
   "metadata": {},
   "source": [
    "## Définir une PDF - model"
   ]
  },
  {
   "cell_type": "markdown",
   "id": "1cfd39c5",
   "metadata": {},
   "source": [
    "Définir l'espace observable "
   ]
  },
  {
   "cell_type": "code",
   "execution_count": 6,
   "id": "eca1da4e",
   "metadata": {},
   "outputs": [],
   "source": [
    "obs = zfit.Space('x', limits=(-10,10))"
   ]
  },
  {
   "cell_type": "code",
   "execution_count": 7,
   "id": "ecad96a7",
   "metadata": {},
   "outputs": [
    {
     "name": "stdout",
     "output_type": "stream",
     "text": [
      "<zfit Space obs=('x',), axes=None, limits=(array([[-10.]]), array([[10.]]))>\n"
     ]
    },
    {
     "name": "stderr",
     "output_type": "stream",
     "text": [
      "<ipython-input-7-657e9309e113>:2: UserWarning: The function <function Space.limits at 0x15223a700> may does not return the actual area/limits but rather the rectangular limits. <zfit Space obs=('x',), axes=None, limits=(array([[-10.]]), array([[10.]]))> can also have functional limits that are arbitrarily defined and lay inside the rect_limits. To test if a value is inside, use `inside` or `filter`.\n",
      "  print(obs.limits)\n"
     ]
    },
    {
     "name": "stdout",
     "output_type": "stream",
     "text": [
      "(array([[-10.]]), array([[10.]]))\n"
     ]
    }
   ],
   "source": [
    "print(obs)\n",
    "print(obs.limits)"
   ]
  },
  {
   "cell_type": "markdown",
   "id": "b94c84c3",
   "metadata": {},
   "source": [
    "Définir les paramètres de la fonction de densité de probabilité (pdf)"
   ]
  },
  {
   "cell_type": "code",
   "execution_count": 8,
   "id": "58a8f634",
   "metadata": {},
   "outputs": [],
   "source": [
    "mu = zfit.Parameter('mu', 2.4, -1, 5)\n",
    "#le nom du paramètre, sa valeur, ses limites"
   ]
  },
  {
   "cell_type": "code",
   "execution_count": 9,
   "id": "dfd7334b",
   "metadata": {},
   "outputs": [],
   "source": [
    "sigma = zfit.Parameter('sigma', 1.3, 0, 5)"
   ]
  },
  {
   "cell_type": "code",
   "execution_count": 13,
   "id": "1298a0d1",
   "metadata": {},
   "outputs": [
    {
     "name": "stdout",
     "output_type": "stream",
     "text": [
      "<zfit.Parameter 'mu' floating=True value=2.4>\n",
      "<bound method Parameter.value of <zfit.Parameter 'mu' floating=True value=2.4>>\n",
      "<zfit.Parameter 'sigma' floating=True value=1.3>\n"
     ]
    }
   ],
   "source": [
    "print(mu)\n",
    "print(mu.value)\n",
    "print(sigma)"
   ]
  },
  {
   "cell_type": "markdown",
   "id": "f4385e6f",
   "metadata": {},
   "source": [
    "Initialiser la gausienne avec les paramètres"
   ]
  },
  {
   "cell_type": "code",
   "execution_count": 14,
   "id": "e66bee23",
   "metadata": {},
   "outputs": [],
   "source": [
    "gauss = zfit.pdf.Gauss(obs=obs, mu=mu, sigma=sigma)"
   ]
  },
  {
   "cell_type": "code",
   "execution_count": 73,
   "id": "12942ad8",
   "metadata": {},
   "outputs": [
    {
     "ename": "AttributeError",
     "evalue": "'Gauss' object has no attribute 'values'",
     "output_type": "error",
     "traceback": [
      "\u001b[0;31m---------------------------------------------------------------------------\u001b[0m",
      "\u001b[0;31mAttributeError\u001b[0m                            Traceback (most recent call last)",
      "\u001b[0;32m<ipython-input-73-e87a8c6a994e>\u001b[0m in \u001b[0;36m<module>\u001b[0;34m\u001b[0m\n\u001b[0;32m----> 1\u001b[0;31m \u001b[0mprint\u001b[0m\u001b[0;34m(\u001b[0m\u001b[0mgauss\u001b[0m\u001b[0;34m.\u001b[0m\u001b[0mvalues\u001b[0m\u001b[0;34m(\u001b[0m\u001b[0;34m)\u001b[0m\u001b[0;34m)\u001b[0m\u001b[0;34m\u001b[0m\u001b[0;34m\u001b[0m\u001b[0m\n\u001b[0m",
      "\u001b[0;31mAttributeError\u001b[0m: 'Gauss' object has no attribute 'values'"
     ]
    }
   ],
   "source": []
  },
  {
   "cell_type": "markdown",
   "id": "eec4ed0b",
   "metadata": {},
   "source": [
    "## Créer le dataset que l'on veut fitter - data"
   ]
  },
  {
   "cell_type": "code",
   "execution_count": 19,
   "id": "d2354298",
   "metadata": {},
   "outputs": [],
   "source": [
    "#use Data.from_numpy for simplicity\n",
    "data_np = np.random.normal(0,1, size = 10000)\n",
    "data = zfit.Data.from_numpy(obs=obs, array=data_np)\n",
    "#on remplit 'x' et 'y'"
   ]
  },
  {
   "cell_type": "code",
   "execution_count": 42,
   "id": "27fee80a",
   "metadata": {},
   "outputs": [
    {
     "name": "stdout",
     "output_type": "stream",
     "text": [
      "<zfit.Data: Data obs=('x',)>\n",
      "tf.Tensor(\n",
      "[[ 0.32271228]\n",
      " [ 1.24940311]\n",
      " [-1.80271093]\n",
      " ...\n",
      " [-0.5609349 ]\n",
      " [ 1.08201015]\n",
      " [ 0.14138166]], shape=(10000, 1), dtype=float64)\n",
      "   \n",
      "tf.Tensor([0.32271228], shape=(1,), dtype=float64)\n",
      "   \n",
      "tf.Tensor(\n",
      "[ 0.32271228  1.24940311 -1.80271093 ... -0.5609349   1.08201015\n",
      "  0.14138166], shape=(10000,), dtype=float64)\n",
      "   \n",
      "[ 0.32271228  1.24940311 -1.80271093 ... -0.5609349   1.08201015\n",
      "  0.14138166]\n"
     ]
    }
   ],
   "source": [
    "print(data)\n",
    "print(data.value())\n",
    "print('   ')\n",
    "print(data.value()[0])\n",
    "print('   ')\n",
    "print(data.value()[:,0]) \n",
    "#je manipule des Tensor tensorflow, c'est comme un array?\n",
    "print('   ')\n",
    "print(zfit.run(data.value()[:,0]))\n",
    "#transforme en liste l'objet TF"
   ]
  },
  {
   "cell_type": "markdown",
   "id": "119a23f5",
   "metadata": {},
   "source": [
    "## Faire un maximum likelihood fit"
   ]
  },
  {
   "cell_type": "markdown",
   "id": "465f5083",
   "metadata": {},
   "source": [
    "Stage 1 : create a loss function"
   ]
  },
  {
   "cell_type": "code",
   "execution_count": 24,
   "id": "e92fad7a",
   "metadata": {},
   "outputs": [],
   "source": [
    "nll = zfit.loss.UnbinnedNLL(model=gauss, data=data)"
   ]
  },
  {
   "cell_type": "code",
   "execution_count": 29,
   "id": "274db23b",
   "metadata": {},
   "outputs": [
    {
     "name": "stdout",
     "output_type": "stream",
     "text": [
      "<UnbinnedNLL model=[<zfit.<class 'zfit.models.dist_tfp.Gauss'>  params=[mu, sigma]] data=[<zfit.core.data.Data object at 0x156a50ca0>] constraints=[]>\n",
      "  \n",
      "[<zfit.core.data.Data object at 0x156a50ca0>]\n"
     ]
    }
   ],
   "source": [
    "print(nll)\n",
    "print('  ')\n",
    "print(nll.data)"
   ]
  },
  {
   "cell_type": "markdown",
   "id": "adba25c2",
   "metadata": {},
   "source": [
    "Stage 2 : instancier un minimiseur"
   ]
  },
  {
   "cell_type": "code",
   "execution_count": 30,
   "id": "893c48fd",
   "metadata": {},
   "outputs": [],
   "source": [
    "minimizer = zfit.minimize.Minuit()\n",
    "#ici basic minimizer"
   ]
  },
  {
   "cell_type": "markdown",
   "id": "35a73c6c",
   "metadata": {},
   "source": [
    "Stage 3 : minimiser la loss function"
   ]
  },
  {
   "cell_type": "code",
   "execution_count": 31,
   "id": "2a92e352",
   "metadata": {},
   "outputs": [],
   "source": [
    "result = minimizer.minimize(nll) #paramètres fixés"
   ]
  },
  {
   "cell_type": "code",
   "execution_count": 32,
   "id": "d0f27cef",
   "metadata": {},
   "outputs": [],
   "source": [
    "result2 = minimizer.minimize(nll, params=[mu]) #mu varie"
   ]
  },
  {
   "cell_type": "markdown",
   "id": "a54333c8",
   "metadata": {},
   "source": [
    "Estimer les erreurs sur le fit"
   ]
  },
  {
   "cell_type": "code",
   "execution_count": 33,
   "id": "9522878e",
   "metadata": {},
   "outputs": [
    {
     "name": "stderr",
     "output_type": "stream",
     "text": [
      "/Users/mariehartmann/opt/anaconda3/envs/myenv38/lib/python3.8/site-packages/zfit/minimizers/fitresult.py:1097: FutureWarning: 'minuit_minos' will be changed as the default errors method to a custom implementationwith the same functionality. If you want to make sure that 'minuit_minos' will be used in the future, add it explicitly as in `errors(method='minuit_minos')`\n",
      "  warnings.warn(\"'minuit_minos' will be changed as the default errors method to a custom implementation\"\n"
     ]
    },
    {
     "name": "stdout",
     "output_type": "stream",
     "text": [
      "OrderedDict([(<zfit.Parameter 'mu' floating=True value=0.00814>, {'lower': -0.009989816444506973, 'upper': 0.009992584176584987, 'is_valid': True, 'upper_valid': True, 'lower_valid': True, 'at_lower_limit': False, 'at_upper_limit': False, 'nfcn': 12, 'original': <MError number=0 name='mu' lower=-0.009989816444506973 upper=0.009992584176584987 is_valid=True lower_valid=True upper_valid=True at_lower_limit=False at_upper_limit=False at_lower_max_fcn=False at_upper_max_fcn=False lower_new_min=False upper_new_min=False nfcn=12 min=0.00813908288074039>, 'cl': 0.68268949}), (<zfit.Parameter 'sigma' floating=True value=0.9991>, {'lower': -0.007011214013711303, 'upper': 0.007118555225377248, 'is_valid': True, 'upper_valid': True, 'lower_valid': True, 'at_lower_limit': False, 'at_upper_limit': False, 'nfcn': 20, 'original': <MError number=1 name='sigma' lower=-0.007011214013711303 upper=0.007118555225377248 is_valid=True lower_valid=True upper_valid=True at_lower_limit=False at_upper_limit=False at_lower_max_fcn=False at_upper_max_fcn=False lower_new_min=False upper_new_min=False nfcn=20 min=0.9990815407276301>, 'cl': 0.68268949})])\n"
     ]
    }
   ],
   "source": [
    "param_errors, _ = result.errors()\n",
    "print(param_errors)"
   ]
  },
  {
   "cell_type": "markdown",
   "id": "d08a8b61",
   "metadata": {},
   "source": [
    "Examiner les résultats du fit"
   ]
  },
  {
   "cell_type": "code",
   "execution_count": 34,
   "id": "2fa1be69",
   "metadata": {},
   "outputs": [
    {
     "name": "stdout",
     "output_type": "stream",
     "text": [
      "FitResult of\n",
      "<UnbinnedNLL model=[<zfit.<class 'zfit.models.dist_tfp.Gauss'>  params=[mu, sigma]] data=[<zfit.core.data.Data object at 0x156a50ca0>] constraints=[]> \n",
      "with\n",
      "<Minuit Minuit tol=0.001>\n",
      "\n",
      "╒═════════╤═════════════╤══════════════════╤═════════╤═════════════╕\n",
      "│ valid   │ converged   │ param at limit   │ edm     │ min value   │\n",
      "╞═════════╪═════════════╪══════════════════╪═════════╪═════════════╡\n",
      "│ True    │ True        │ False            │ 1.5e-06 │ -1.651e+04  │\n",
      "╘═════════╧═════════════╧══════════════════╧═════════╧═════════════╛\n",
      "\n",
      "Parameters\n",
      "name       value         minuit_minos    at limit\n",
      "------  --------  -------------------  ----------\n",
      "mu      0.008139  -   0.01   +   0.01       False\n",
      "sigma     0.9991  -  0.007   + 0.0071       False\n"
     ]
    }
   ],
   "source": [
    "print(result)"
   ]
  },
  {
   "cell_type": "code",
   "execution_count": 35,
   "id": "3ffa193e",
   "metadata": {},
   "outputs": [
    {
     "name": "stdout",
     "output_type": "stream",
     "text": [
      "name       value         minuit_minos    at limit\n",
      "------  --------  -------------------  ----------\n",
      "mu      0.008139  -   0.01   +   0.01       False\n",
      "sigma     0.9991  -  0.007   + 0.0071       False\n"
     ]
    }
   ],
   "source": [
    "print(result.params)"
   ]
  },
  {
   "cell_type": "code",
   "execution_count": 36,
   "id": "4e5d8e5d",
   "metadata": {},
   "outputs": [
    {
     "name": "stdout",
     "output_type": "stream",
     "text": [
      "0.00813908288074039\n"
     ]
    }
   ],
   "source": [
    "print(result.params[mu]['value'])"
   ]
  },
  {
   "cell_type": "code",
   "execution_count": 37,
   "id": "3dc929b3",
   "metadata": {},
   "outputs": [
    {
     "name": "stdout",
     "output_type": "stream",
     "text": [
      "0.9990815407276301\n"
     ]
    }
   ],
   "source": [
    "print(result.params[sigma]['value'])"
   ]
  },
  {
   "cell_type": "markdown",
   "id": "d3ed68ed",
   "metadata": {},
   "source": [
    "## Plotter un fit avec maptplotlib"
   ]
  },
  {
   "cell_type": "code",
   "execution_count": 50,
   "id": "15cbf157",
   "metadata": {},
   "outputs": [
    {
     "name": "stdout",
     "output_type": "stream",
     "text": [
      "10.0\n",
      "-10.0\n",
      "[ 0.32271228  1.24940311 -1.80271093 ... -0.5609349   1.08201015\n",
      "  0.14138166]\n"
     ]
    }
   ],
   "source": [
    "lower, upper = obs.limits\n",
    "data_list = zfit.run(data.value()[:,0])\n",
    "print(upper[0][0])\n",
    "print(lower[0][0])\n",
    "print(data_list)"
   ]
  },
  {
   "cell_type": "code",
   "execution_count": null,
   "id": "cef6261b",
   "metadata": {},
   "outputs": [],
   "source": []
  },
  {
   "cell_type": "markdown",
   "id": "affd2988",
   "metadata": {},
   "source": [
    "Faire l'histogramme des données"
   ]
  },
  {
   "cell_type": "code",
   "execution_count": 65,
   "id": "de98abc8",
   "metadata": {},
   "outputs": [
    {
     "ename": "ValueError",
     "evalue": "too many values to unpack (expected 2)",
     "output_type": "error",
     "traceback": [
      "\u001b[0;31m---------------------------------------------------------------------------\u001b[0m",
      "\u001b[0;31mValueError\u001b[0m                                Traceback (most recent call last)",
      "\u001b[0;32m<ipython-input-65-67d41f5e2091>\u001b[0m in \u001b[0;36m<module>\u001b[0;34m\u001b[0m\n\u001b[1;32m      1\u001b[0m \u001b[0mrange\u001b[0m \u001b[0;34m=\u001b[0m \u001b[0;34m(\u001b[0m\u001b[0mlower\u001b[0m\u001b[0;34m[\u001b[0m\u001b[0;36m0\u001b[0m\u001b[0;34m]\u001b[0m\u001b[0;34m[\u001b[0m\u001b[0;36m0\u001b[0m\u001b[0;34m]\u001b[0m\u001b[0;34m,\u001b[0m\u001b[0mupper\u001b[0m\u001b[0;34m[\u001b[0m\u001b[0;36m0\u001b[0m\u001b[0;34m]\u001b[0m\u001b[0;34m[\u001b[0m\u001b[0;36m0\u001b[0m\u001b[0;34m]\u001b[0m\u001b[0;34m)\u001b[0m\u001b[0;34m\u001b[0m\u001b[0;34m\u001b[0m\u001b[0m\n\u001b[0;32m----> 2\u001b[0;31m \u001b[0mcounts\u001b[0m\u001b[0;34m,\u001b[0m \u001b[0mbin_edges\u001b[0m \u001b[0;34m=\u001b[0m \u001b[0mplt\u001b[0m\u001b[0;34m.\u001b[0m\u001b[0mhist\u001b[0m\u001b[0;34m(\u001b[0m\u001b[0mdata_list\u001b[0m\u001b[0;34m,\u001b[0m \u001b[0mbins\u001b[0m \u001b[0;34m=\u001b[0m \u001b[0;36m100\u001b[0m\u001b[0;34m,\u001b[0m \u001b[0mrange\u001b[0m \u001b[0;34m=\u001b[0m \u001b[0mrange\u001b[0m\u001b[0;34m,\u001b[0m \u001b[0mhisttype\u001b[0m\u001b[0;34m=\u001b[0m\u001b[0;34m'step'\u001b[0m\u001b[0;34m)\u001b[0m\u001b[0;34m\u001b[0m\u001b[0;34m\u001b[0m\u001b[0m\n\u001b[0m\u001b[1;32m      3\u001b[0m \u001b[0mplt\u001b[0m\u001b[0;34m.\u001b[0m\u001b[0mshow\u001b[0m\u001b[0;34m(\u001b[0m\u001b[0;34m)\u001b[0m\u001b[0;34m\u001b[0m\u001b[0;34m\u001b[0m\u001b[0m\n",
      "\u001b[0;31mValueError\u001b[0m: too many values to unpack (expected 2)"
     ]
    },
    {
     "data": {
      "image/png": "[encoded data removed]",
      "text/plain": [
       "<Figure size 432x288 with 1 Axes>"
      ]
     },
     "metadata": {
      "needs_background": "light"
     },
     "output_type": "display_data"
    }
   ],
   "source": [
    "range = (lower[0][0],upper[0][0])\n",
    "counts, bin_edges = plt.hist(data_list, bins = 100, range = range, histtype='step')\n",
    "plt.show()"
   ]
  },
  {
   "cell_type": "code",
   "execution_count": 67,
   "id": "3262bca2",
   "metadata": {},
   "outputs": [
    {
     "data": {
      "text/plain": [
       "[ErrorBarArtists(errorbar=<ErrorbarContainer object of 3 artists>)]"
      ]
     },
     "execution_count": 67,
     "metadata": {},
     "output_type": "execute_result"
    },
    {
     "data": {
      "image/png": "[encoded data removed]",
      "text/plain": [
       "<Figure size 432x288 with 1 Axes>"
      ]
     },
     "metadata": {
      "needs_background": "light"
     },
     "output_type": "display_data"
    }
   ],
   "source": [
    "range = (lower[0][0],upper[0][0])\n",
    "#les datas\n",
    "counts, bin_edges = np.histogram(data_list, bins = 100, range = range)\n",
    "mplhep.histplot((counts,bin_edges), yerr = True, color = 'black', histtype='errorbar')\n",
    "## d'où viennent les erreurs ?"
   ]
  },
  {
   "cell_type": "markdown",
   "id": "aca8fac7",
   "metadata": {},
   "source": [
    "Tracer la courbe et faire le plot (à partir de l'histogramme)"
   ]
  },
  {
   "cell_type": "code",
   "execution_count": 68,
   "id": "a2370ea7",
   "metadata": {},
   "outputs": [],
   "source": [
    "#la courbe théorique\n",
    "x_plot = np.linspace(lower[0][0], upper[0][0], num=1000)"
   ]
  },
  {
   "cell_type": "code",
   "execution_count": 75,
   "id": "89530d43",
   "metadata": {},
   "outputs": [],
   "source": [
    "#print(gauss.pdf(x_plot, norm_range=obs))\n",
    "y_plot = zfit.run(gauss.pdf(x_plot, norm_range=obs))"
   ]
  },
  {
   "cell_type": "code",
   "execution_count": 77,
   "id": "26f0453f",
   "metadata": {},
   "outputs": [
    {
     "data": {
      "image/png": "[encoded data removed]",
      "text/plain": [
       "<Figure size 432x288 with 1 Axes>"
      ]
     },
     "metadata": {
      "needs_background": "light"
     },
     "output_type": "display_data"
    }
   ],
   "source": [
    "plt.plot(x_plot, y_plot*data_list.shape[0]/100*obs.area(), color='blue')\n",
    "plt.show()"
   ]
  },
  {
   "cell_type": "code",
   "execution_count": 78,
   "id": "1a4be5b0",
   "metadata": {},
   "outputs": [
    {
     "data": {
      "image/png": "[encoded data removed]",
      "text/plain": [
       "<Figure size 432x288 with 1 Axes>"
      ]
     },
     "metadata": {
      "needs_background": "light"
     },
     "output_type": "display_data"
    }
   ],
   "source": [
    "mplhep.histplot((counts,bin_edges), yerr = True, color = 'black', histtype='errorbar')\n",
    "plt.plot(x_plot, y_plot*data_list.shape[0]/100*obs.area(), color='blue')\n",
    "plt.show()"
   ]
  },
  {
   "cell_type": "code",
   "execution_count": null,
   "id": "04e90bed",
   "metadata": {},
   "outputs": [],
   "source": []
  }
 ],
 "metadata": {
  "kernelspec": {
   "display_name": "Python 3",
   "language": "python",
   "name": "python3"
  },
  "language_info": {
   "codemirror_mode": {
    "name": "ipython",
    "version": 3
   },
   "file_extension": ".py",
   "mimetype": "text/x-python",
   "name": "python",
   "nbconvert_exporter": "python",
   "pygments_lexer": "ipython3",
   "version": "3.8.10"
  }
 },
 "nbformat": 4,
 "nbformat_minor": 5
}
