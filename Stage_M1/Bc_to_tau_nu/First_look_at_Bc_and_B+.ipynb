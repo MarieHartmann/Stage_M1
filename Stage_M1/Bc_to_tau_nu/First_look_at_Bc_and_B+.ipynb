{
 "cells": [
  {
   "cell_type": "markdown",
   "id": "appreciated-powder",
   "metadata": {},
   "source": [
    "# First look at $B_c^+ \\rightarrow \\tau^+ \\nu_\\tau$ and $B^+ \\rightarrow \\tau^+ \\nu_\\tau$"
   ]
  },
  {
   "cell_type": "code",
   "execution_count": 1,
   "id": "novel-remains",
   "metadata": {},
   "outputs": [],
   "source": [
    "import uproot"
   ]
  },
  {
   "cell_type": "code",
   "execution_count": 2,
   "id": "civilian-russell",
   "metadata": {},
   "outputs": [],
   "source": [
    "import pandas"
   ]
  },
  {
   "cell_type": "code",
   "execution_count": 3,
   "id": "royal-wrestling",
   "metadata": {},
   "outputs": [],
   "source": [
    "Bc_tree = uproot.open('/eos/experiment/fcc/ee/analyses/case-studies/flavour/Bc2TauNu/flatNtuples/spring2021/prod_04/Analysis_stage2/p8_ee_Zbb_ecm91_EvtGen_Bc2TauNuTAUHADNU.root')['events']"
   ]
  },
  {
   "cell_type": "code",
   "execution_count": 4,
   "id": "collected-conversion",
   "metadata": {},
   "outputs": [],
   "source": [
    "Bu_tree = uproot.open('/eos/experiment/fcc/ee/analyses/case-studies/flavour/Bc2TauNu/flatNtuples/spring2021/prod_04/Analysis_stage2/p8_ee_Zbb_ecm91_EvtGen_Bu2TauNuTAUHADNU.root')['events']"
   ]
  },
  {
   "cell_type": "markdown",
   "id": "conservative-subject",
   "metadata": {},
   "source": [
    "#print(Bc_tree.keys())\n",
    "#print(Bu_tree.keys())\n",
    "#Bc_df = Bc_tree.arrays(library=\"pd\")\n",
    "#Bu_df = Bu_tree.arrays(library=\"pd\")"
   ]
  },
  {
   "cell_type": "code",
   "execution_count": null,
   "id": "efficient-barbados",
   "metadata": {},
   "outputs": [],
   "source": [
    "Bc_df = Bc_tree.arrays(library=\"pd\", how=\"zip\", filter_name=[\"EVT_*\"])"
   ]
  },
  {
   "cell_type": "code",
   "execution_count": null,
   "id": "activated-invitation",
   "metadata": {},
   "outputs": [],
   "source": [
    "Bu_df = Bu_tree.arrays(library=\"pd\", how=\"zip\", filter_name=[\"EVT_*\"])"
   ]
  },
  {
   "cell_type": "markdown",
   "id": "suspended-ground",
   "metadata": {},
   "source": [
    "## Purity calculation"
   ]
  },
  {
   "cell_type": "code",
   "execution_count": null,
   "id": "competitive-memory",
   "metadata": {},
   "outputs": [],
   "source": [
    "tree_gen = uproot.open(\"/eos/experiment/fcc/ee/analyses/case-studies/flavour/Bc2TauNu/flatNtuples/spring2021/prod_04/Analysis_stage2/p8_ee_Zbb_ecm91_EvtGen_Bc2TauNuTAUHADNU.root\")[\"metadata\"]\n",
    "df_gen = tree_gen.arrays(library=\"pd\", how=\"zip\")\n",
    "N_gen = df_gen.iloc[0][\"eventsProcessed\"]\n",
    "N_event = len(Bc_df['EVT_MVA1'])\n",
    "\n",
    "print(f\"Number generated: {N_gen}\")\n",
    "print(f\"Number of events in the tree: {N_event}\")\n",
    "mva_e = N_event/N_gen\n",
    "print(f\"Cut efficiency : {mva_e}\")"
   ]
  },
  {
   "cell_type": "markdown",
   "id": "expanded-halifax",
   "metadata": {},
   "source": [
    "## Histogrammes"
   ]
  },
  {
   "cell_type": "code",
   "execution_count": null,
   "id": "passive-trust",
   "metadata": {},
   "outputs": [],
   "source": [
    "import matplotlib.pyplot as plt\n",
    "import numpy as np"
   ]
  },
  {
   "cell_type": "code",
   "execution_count": null,
   "id": "coordinated-carolina",
   "metadata": {},
   "outputs": [],
   "source": [
    "from matplotlib import rc\n",
    "rc('font',**{'family':'serif','serif':['Roman']})\n",
    "rc('text', usetex=True)\n",
    "params= {'text.latex.preamble' : [r'\\usepackage{amsmath}']}\n",
    "plt.rcParams.update(params)\n",
    "plt.rcParams['text.latex.preamble'] = r\"\\usepackage{bm} \\usepackage{amsmath}\""
   ]
  },
  {
   "cell_type": "code",
   "execution_count": null,
   "id": "moderate-hands",
   "metadata": {},
   "outputs": [],
   "source": [
    "Bc_df.keys()"
   ]
  },
  {
   "cell_type": "code",
   "execution_count": null,
   "id": "devoted-centre",
   "metadata": {},
   "outputs": [],
   "source": [
    "Bc_df.head()"
   ]
  },
  {
   "cell_type": "code",
   "execution_count": null,
   "id": "coated-shape",
   "metadata": {},
   "outputs": [],
   "source": [
    "Bc_df[\"EVT_MVA1\"].min()"
   ]
  },
  {
   "cell_type": "code",
   "execution_count": null,
   "id": "relevant-musician",
   "metadata": {},
   "outputs": [],
   "source": [
    "Bu_df[\"EVT_MVA1\"].min()"
   ]
  },
  {
   "cell_type": "markdown",
   "id": "irish-phase",
   "metadata": {},
   "source": [
    "### *Histogramme pour $B_c^+ \\rightarrow \\tau^+ \\nu_\\tau$*"
   ]
  },
  {
   "cell_type": "code",
   "execution_count": null,
   "id": "other-agenda",
   "metadata": {},
   "outputs": [],
   "source": [
    "l=(Bc_df['EVT_MVA1']>0.8)\n",
    "print('Il y a {} évènements au total'.format(len(Bc_df['EVT_MVA1']))+\" correspondant à la désintégration Bc et {} d'entre eux ont une probabilité entre 0.99 et 1 d'être du signal.\".format(l.sum()))\n",
    "print('Cela correspond à {} % des évènements'.format(round(l.sum()/len(Bc_df['EVT_MVA1']),2)))"
   ]
  },
  {
   "cell_type": "code",
   "execution_count": null,
   "id": "private-advancement",
   "metadata": {},
   "outputs": [],
   "source": [
    "s_bin = 0.6\n",
    "f_bin = 1\n",
    "nb_bins = 100\n",
    "name_bc = r\"$B_c^{+}$ $\\longrightarrow$ $\\tau^{+}\\nu_\\tau$\""
   ]
  },
  {
   "cell_type": "code",
   "execution_count": null,
   "id": "subject-commander",
   "metadata": {},
   "outputs": [],
   "source": [
    "proba_limit=0.8\n",
    "l=(Bc_df['EVT_MVA1']>proba_limit)\n",
    "print(\"Il y a {} évènements au total correspondant à la désintégration Bc et {} d'entre eux ont une probabilité entre {} et 1 d'être du signal.\".format(len(Bc_df['EVT_MVA1']),l.sum(),proba_limit))\n",
    "print('Cela correspond à {} % des évènements'.format(round(l.sum()/len(Bc_df['EVT_MVA1']),2)))\n",
    "\n",
    "\n",
    "plt.figure()\n",
    "plt.hist(Bc_df['EVT_MVA1'], bins=nb_bins, range=(s_bin,f_bin), histtype='step', color= '#3182bd', label=name_bc)\n",
    "plt.xlim(s_bin,f_bin)\n",
    "plt.xlabel(\"EVT$\\_$MVA1 (signal probability)\")\n",
    "plt.ylabel(\"Number of events / ({}) EVT$\\_$MVA1 value\".format(round((f_bin-s_bin)/nb_bins,3)))\n",
    "plt.legend()\n",
    "plt.show()"
   ]
  },
  {
   "cell_type": "code",
   "execution_count": null,
   "id": "gross-customer",
   "metadata": {
    "scrolled": true
   },
   "outputs": [],
   "source": [
    "proba_limit=0.8\n",
    "l=(Bc_df['EVT_MVA2']>proba_limit)\n",
    "print(\"Il y a {} évènements au total correspondant à la désintégration Bc et {} d'entre eux ont une probabilité entre {} et 1 d'être du signal.\".format(len(Bc_df['EVT_MVA2']),l.sum(),proba_limit))\n",
    "print('Cela correspond à {} % des évènements'.format(round(l.sum()/len(Bc_df['EVT_MVA2']),2)))\n",
    "\n",
    "plt.figure()\n",
    "plt.hist(Bc_df['EVT_MVA2'], bins=nb_bins, range=(s_bin,f_bin), histtype='step', color= '#3182bd',label=name_bc)\n",
    "plt.xlim(s_bin,f_bin)\n",
    "plt.xlabel(\"EVT$\\_$MVA2 (signal probability)\")\n",
    "plt.ylabel(\"Number of events / ({}) EVT$\\_$MVA2 value\".format(round((f_bin-s_bin)/nb_bins,3)))\n",
    "plt.legend()\n",
    "plt.show()"
   ]
  },
  {
   "cell_type": "markdown",
   "id": "verified-november",
   "metadata": {},
   "source": [
    "### *Histogramme pour $B^+ \\rightarrow \\tau^+ \\nu_\\tau$*"
   ]
  },
  {
   "cell_type": "code",
   "execution_count": null,
   "id": "peaceful-offer",
   "metadata": {},
   "outputs": [],
   "source": [
    "proba_limit=0.8\n",
    "l=(Bu_df['EVT_MVA1']>proba_limit)\n",
    "print(\"Il y a {} évènements au total correspondant à la désintégration Bu et {} d'entre eux ont une probabilité entre {} et 1 d'être du signal.\".format(len(Bu_df['EVT_MVA1']),l.sum(),proba_limit))\n",
    "print('Cela correspond à {} % des évènements'.format(round(l.sum()/len(Bu_df['EVT_MVA1']),2)))"
   ]
  },
  {
   "cell_type": "code",
   "execution_count": null,
   "id": "impressed-landscape",
   "metadata": {},
   "outputs": [],
   "source": [
    "proba_limit=0.8\n",
    "l=(Bu_df['EVT_MVA2']>proba_limit)\n",
    "print(\"Il y a {} évènements au total correspondant à la désintégration Bu et {} d'entre eux ont une probabilité entre {} et 1 d'être du signal.\".format(len(Bu_df['EVT_MVA2']),l.sum(),proba_limit))\n",
    "print('Cela correspond à {} % des évènements'.format(round(l.sum()/len(Bu_df['EVT_MVA2']),2)))"
   ]
  },
  {
   "cell_type": "code",
   "execution_count": null,
   "id": "minor-specification",
   "metadata": {},
   "outputs": [],
   "source": [
    "s_bin = 0.6\n",
    "f_bin = 1\n",
    "nb_bins = 100\n",
    "name_bu = r\"$B^{+}$ $\\longrightarrow$ $\\tau^{+}\\nu_\\tau$\"\n",
    "\n",
    "plt.figure()\n",
    "plt.hist(Bu_df['EVT_MVA1'], bins=nb_bins, range=(s_bin,f_bin), histtype='step', color= '#3182bd', label=name_bu)\n",
    "plt.xlim(s_bin,f_bin)\n",
    "plt.xlabel(\"EVT$\\_$MVA1 (signal probability)\")\n",
    "plt.ylabel(\"Number of events / ({}) EVT$\\_$MVA1 value\".format(round((f_bin-s_bin)/nb_bins,3)))\n",
    "plt.legend()\n",
    "plt.show()\n",
    "\n",
    "plt.figure()\n",
    "plt.hist(Bu_df['EVT_MVA2'], bins=nb_bins, range=(s_bin,f_bin), histtype='step', color= '#3182bd',label=name_bu)\n",
    "plt.xlim(s_bin,f_bin)\n",
    "plt.xlabel(\"EVT$\\_$MVA2 (signal probability)\")\n",
    "plt.ylabel(\"Number of events / ({}) EVT$\\_$MVA2 value\".format(round((f_bin-s_bin)/nb_bins,3)))\n",
    "plt.legend()\n",
    "plt.show()"
   ]
  },
  {
   "cell_type": "markdown",
   "id": "great-membrane",
   "metadata": {},
   "source": [
    "### *Comparaison des deux decays*"
   ]
  },
  {
   "cell_type": "code",
   "execution_count": null,
   "id": "suspended-pakistan",
   "metadata": {},
   "outputs": [],
   "source": [
    "s_bin = 0.95\n",
    "f_bin = 1\n",
    "nb_bins = 50\n",
    "name_bu = r\"$B^{+}$ $\\longrightarrow$ $\\tau^{+}\\nu_\\tau$\"\n",
    "name_bc = r\"$B_c^{+}$ $\\longrightarrow$ $\\tau^{+}\\nu_\\tau$\"\n",
    "variable= 'EVT_MVA1'\n",
    "\n",
    "plt.figure()\n",
    "plt.hist(Bc_df[variable], bins=nb_bins, range=(s_bin,f_bin), histtype='step', color= '#3182bd', label=name_bc, density=True)\n",
    "plt.hist(Bu_df[variable], bins=nb_bins, range=(s_bin,f_bin), histtype='step', color= \"#2ca25f\", label=name_bu, density=True)\n",
    "plt.xlim(s_bin,f_bin)\n",
    "plt.xlabel(\"EVT$\\_$MVA1 (signal probability)\")\n",
    "plt.ylabel(\"Number of events / ({}) EVT$\\_$MVA1 value\".format(round((f_bin-s_bin)/nb_bins,3)))\n",
    "plt.legend()\n",
    "plt.show()"
   ]
  },
  {
   "cell_type": "code",
   "execution_count": null,
   "id": "thorough-founder",
   "metadata": {},
   "outputs": [],
   "source": [
    "s_bin = 0.95\n",
    "f_bin = 1\n",
    "nb_bins = 50\n",
    "name_bu = r\"$B^{+}$ $\\longrightarrow$ $\\tau^{+}\\nu_\\tau$\"\n",
    "name_bc = r\"$B_c^{+}$ $\\longrightarrow$ $\\tau^{+}\\nu_\\tau$\"\n",
    "\n",
    "plt.figure()\n",
    "plt.hist(Bc_df['EVT_MVA2'], bins=nb_bins, range=(s_bin,f_bin), histtype='step', color= '#3182bd',label=name_bc, density=True)\n",
    "plt.hist(Bu_df['EVT_MVA2'], bins=nb_bins, range=(s_bin,f_bin), histtype='step', color= \"#2ca25f\",label=name_bu, density=True)\n",
    "plt.xlim(s_bin,f_bin)\n",
    "plt.xlabel(\"EVT$\\_$MVA2 (signal probability)\")\n",
    "plt.ylabel(\"Number of events / ({}) EVT$\\_$MVA2 value\".format(round((f_bin-s_bin)/nb_bins,3)))\n",
    "plt.legend()\n",
    "plt.show()"
   ]
  },
  {
   "cell_type": "markdown",
   "id": "international-coral",
   "metadata": {},
   "source": [
    "##### Emin"
   ]
  },
  {
   "cell_type": "code",
   "execution_count": null,
   "id": "meaningful-supplement",
   "metadata": {},
   "outputs": [],
   "source": [
    "variable= 'EVT_ThrustEmin_E'\n",
    "plt.figure()\n",
    "plt.hist(Bc_df[variable], density=True, histtype='step', color= '#3182bd', label=name_bc)\n",
    "plt.hist(Bu_df[variable], density=True, histtype='step', color= \"#2ca25f\", label=name_bu)\n",
    "plt.legend()\n",
    "plt.show()"
   ]
  },
  {
   "cell_type": "code",
   "execution_count": null,
   "id": "copyrighted-globe",
   "metadata": {},
   "outputs": [],
   "source": [
    "s_bin = 0\n",
    "f_bin = 45\n",
    "nb_bins = 50\n",
    "name_bu = r\"$B^{+}$ $\\longrightarrow$ $\\tau^{+}\\nu_\\tau$\"\n",
    "name_bc = r\"$B_c^{+}$ $\\longrightarrow$ $\\tau^{+}\\nu_\\tau$\"\n",
    "variable= 'EVT_ThrustEmin_E'\n",
    "\n",
    "plt.figure()\n",
    "plt.hist(Bc_df[variable], bins=nb_bins, range=(s_bin,f_bin), histtype='step', color= '#3182bd', label=name_bc, density=True)\n",
    "plt.hist(Bu_df[variable], bins=nb_bins, range=(s_bin,f_bin), histtype='step', color= \"#2ca25f\", label=name_bu, density=True)\n",
    "plt.xlim(s_bin,f_bin)\n",
    "plt.xlabel(\"Hemisphere minimum energy [GeV]\")\n",
    "plt.ylabel(\"Number of events / {} GeV\".format(round((f_bin-s_bin)/nb_bins,3)))\n",
    "plt.legend()\n",
    "plt.show()"
   ]
  },
  {
   "cell_type": "markdown",
   "id": "filled-reducing",
   "metadata": {},
   "source": [
    "##### Emax"
   ]
  },
  {
   "cell_type": "code",
   "execution_count": null,
   "id": "seasonal-preview",
   "metadata": {},
   "outputs": [],
   "source": [
    "variable= 'EVT_ThrustEmax_E'\n",
    "\n",
    "plt.figure()\n",
    "plt.hist(Bc_df[variable], histtype='step', color= '#3182bd', label=name_bc, density=True)\n",
    "plt.hist(Bu_df[variable], histtype='step', color= \"#2ca25f\", label=name_bu, density=True)\n",
    "plt.legend()\n",
    "plt.show()"
   ]
  },
  {
   "cell_type": "code",
   "execution_count": null,
   "id": "beautiful-karma",
   "metadata": {},
   "outputs": [],
   "source": [
    "s_bin = 15\n",
    "f_bin = 55\n",
    "nb_bins = 50\n",
    "name_bu = r\"$B^{+}$ $\\longrightarrow$ $\\tau^{+}\\nu_\\tau$\"\n",
    "name_bc = r\"$B_c^{+}$ $\\longrightarrow$ $\\tau^{+}\\nu_\\tau$\"\n",
    "variable= 'EVT_ThrustEmax_E'\n",
    "\n",
    "plt.figure()\n",
    "plt.hist(Bc_df[variable], bins=nb_bins, range=(s_bin,f_bin), histtype='step', color= '#3182bd', label=name_bc, density=True)\n",
    "plt.hist(Bu_df[variable], bins=nb_bins, range=(s_bin,f_bin), histtype='step', color= \"#2ca25f\", label=name_bu, density=True)\n",
    "plt.xlim(s_bin,f_bin)\n",
    "plt.xlabel(\"Hemisphere maximum energy [GeV]\")\n",
    "plt.ylabel(\"Number of events / {} GeV\".format(round((f_bin-s_bin)/nb_bins,3)))\n",
    "plt.legend()\n",
    "plt.show()"
   ]
  },
  {
   "cell_type": "markdown",
   "id": "uniform-perspective",
   "metadata": {},
   "source": [
    "##### Echargedmin"
   ]
  },
  {
   "cell_type": "code",
   "execution_count": null,
   "id": "hundred-rebecca",
   "metadata": {},
   "outputs": [],
   "source": [
    "variable= 'EVT_ThrustEmin_Echarged'\n",
    "\n",
    "plt.figure()\n",
    "plt.hist(Bc_df[variable], histtype='step', color= '#3182bd', label=name_bc, density=True)\n",
    "plt.hist(Bu_df[variable], histtype='step', color= \"#2ca25f\", label=name_bu, density=True)\n",
    "plt.legend()\n",
    "plt.show()"
   ]
  },
  {
   "cell_type": "code",
   "execution_count": null,
   "id": "popular-principle",
   "metadata": {},
   "outputs": [],
   "source": [
    "s_bin = 0\n",
    "f_bin = 45\n",
    "nb_bins = 50\n",
    "name_bu = r\"$B^{+}$ $\\longrightarrow$ $\\tau^{+}\\nu_\\tau$\"\n",
    "name_bc = r\"$B_c^{+}$ $\\longrightarrow$ $\\tau^{+}\\nu_\\tau$\"\n",
    "variable= 'EVT_ThrustEmin_Echarged'\n",
    "\n",
    "plt.figure()\n",
    "plt.hist(Bc_df[variable], bins=nb_bins, range=(s_bin,f_bin), histtype='step', color= '#3182bd', label=name_bc, density=True)\n",
    "plt.hist(Bu_df[variable], bins=nb_bins, range=(s_bin,f_bin), histtype='step', color= \"#2ca25f\", label=name_bu, density=True)\n",
    "plt.xlim(s_bin,f_bin)\n",
    "plt.xlabel(\"Hemisphere minimum charged energy [GeV]\")\n",
    "plt.ylabel(\"Number of events / {} GeV\".format(round((f_bin-s_bin)/nb_bins,3)))\n",
    "plt.legend()\n",
    "plt.show()"
   ]
  },
  {
   "cell_type": "markdown",
   "id": "cross-longer",
   "metadata": {},
   "source": [
    "##### Emaxcharged"
   ]
  },
  {
   "cell_type": "code",
   "execution_count": null,
   "id": "sonic-democracy",
   "metadata": {},
   "outputs": [],
   "source": [
    "variable= 'EVT_ThrustEmax_Echarged'\n",
    "\n",
    "plt.figure()\n",
    "plt.hist(Bc_df[variable], histtype='step', color= '#3182bd', label=name_bc, density=True)\n",
    "plt.hist(Bu_df[variable], histtype='step', color= \"#2ca25f\", label=name_bu, density=True)\n",
    "plt.legend()\n",
    "plt.show()"
   ]
  },
  {
   "cell_type": "code",
   "execution_count": null,
   "id": "vertical-serial",
   "metadata": {},
   "outputs": [],
   "source": [
    "s_bin = 0\n",
    "f_bin = 46\n",
    "nb_bins = 50\n",
    "name_bu = r\"$B^{+}$ $\\longrightarrow$ $\\tau^{+}\\nu_\\tau$\"\n",
    "name_bc = r\"$B_c^{+}$ $\\longrightarrow$ $\\tau^{+}\\nu_\\tau$\"\n",
    "variable= 'EVT_ThrustEmax_Echarged'\n",
    "\n",
    "plt.figure()\n",
    "plt.hist(Bc_df[variable], bins=nb_bins, range=(s_bin,f_bin), histtype='step', color= '#3182bd', label=name_bc, density=True)\n",
    "plt.hist(Bu_df[variable], bins=nb_bins, range=(s_bin,f_bin), histtype='step', color= \"#2ca25f\", label=name_bu, density=True)\n",
    "plt.xlim(s_bin,f_bin)\n",
    "plt.xlabel(\"Hemisphere maximum charged energy [GeV]\")\n",
    "plt.ylabel(\"Number of events / {} GeV\".format(round((f_bin-s_bin)/nb_bins,3)))\n",
    "plt.legend()\n",
    "plt.show()"
   ]
  },
  {
   "cell_type": "markdown",
   "id": "internal-traffic",
   "metadata": {},
   "source": [
    "##### Hemisphere neutral energy max"
   ]
  },
  {
   "cell_type": "code",
   "execution_count": null,
   "id": "ethical-occurrence",
   "metadata": {},
   "outputs": [],
   "source": [
    "variable= 'EVT_ThrustEmax_Eneutral'\n",
    "\n",
    "plt.figure()\n",
    "plt.hist(Bc_df[variable], histtype='step', color= '#3182bd', label=name_bc, density=True)\n",
    "plt.hist(Bu_df[variable], histtype='step', color= \"#2ca25f\", label=name_bu, density=True)\n",
    "plt.legend()\n",
    "plt.show()"
   ]
  },
  {
   "cell_type": "code",
   "execution_count": null,
   "id": "trained-treat",
   "metadata": {},
   "outputs": [],
   "source": [
    "s_bin = 0\n",
    "f_bin = 43\n",
    "nb_bins = 50\n",
    "name_bu = r\"$B^{+}$ $\\longrightarrow$ $\\tau^{+}\\nu_\\tau$\"\n",
    "name_bc = r\"$B_c^{+}$ $\\longrightarrow$ $\\tau^{+}\\nu_\\tau$\"\n",
    "variable= 'EVT_ThrustEmax_Eneutral'\n",
    "\n",
    "plt.figure()\n",
    "plt.hist(Bc_df[variable], bins=nb_bins, range=(s_bin,f_bin), histtype='step', color= '#3182bd', label=name_bc, density=True)\n",
    "plt.hist(Bu_df[variable], bins=nb_bins, range=(s_bin,f_bin), histtype='step', color= \"#2ca25f\", label=name_bu, density=True)\n",
    "plt.xlim(s_bin,f_bin)\n",
    "plt.xlabel(\"Hemisphere maximum neutral energy [GeV]\")\n",
    "plt.ylabel(\"Number of events / {} GeV\".format(round((f_bin-s_bin)/nb_bins,3)))\n",
    "plt.legend()\n",
    "plt.show()"
   ]
  },
  {
   "cell_type": "markdown",
   "id": "marked-month",
   "metadata": {},
   "source": [
    "##### Hemisphere neutral min energy"
   ]
  },
  {
   "cell_type": "code",
   "execution_count": null,
   "id": "broke-stuart",
   "metadata": {},
   "outputs": [],
   "source": [
    "variable= 'EVT_ThrustEmin_Eneutral'\n",
    "\n",
    "plt.figure()\n",
    "plt.hist(Bc_df[variable], histtype='step', color= '#3182bd', label=name_bc, density=True)\n",
    "plt.hist(Bu_df[variable], histtype='step', color= \"#2ca25f\", label=name_bu, density=True)\n",
    "plt.legend()\n",
    "plt.show()"
   ]
  },
  {
   "cell_type": "code",
   "execution_count": null,
   "id": "crude-sociology",
   "metadata": {},
   "outputs": [],
   "source": [
    "s_bin = 0\n",
    "f_bin = 17\n",
    "nb_bins = 50\n",
    "name_bu = r\"$B^{+}$ $\\longrightarrow$ $\\tau^{+}\\nu_\\tau$\"\n",
    "name_bc = r\"$B_c^{+}$ $\\longrightarrow$ $\\tau^{+}\\nu_\\tau$\"\n",
    "variable= 'EVT_ThrustEmin_Eneutral'\n",
    "\n",
    "plt.figure()\n",
    "plt.hist(Bc_df[variable], bins=nb_bins, range=(s_bin,f_bin), histtype='step', color= '#3182bd', label=name_bc, density=True)\n",
    "plt.hist(Bu_df[variable], bins=nb_bins, range=(s_bin,f_bin), histtype='step', color= \"#2ca25f\", label=name_bu, density=True)\n",
    "plt.xlim(s_bin,f_bin)\n",
    "plt.xlabel(\"Hemisphere minimum neutral energy [GeV]\")\n",
    "plt.ylabel(\"Number of events / {} GeV\".format(round((f_bin-s_bin)/nb_bins,3)))\n",
    "plt.legend()\n",
    "plt.show()"
   ]
  },
  {
   "cell_type": "code",
   "execution_count": null,
   "id": "inappropriate-recording",
   "metadata": {},
   "outputs": [],
   "source": []
  },
  {
   "cell_type": "code",
   "execution_count": null,
   "id": "august-worry",
   "metadata": {},
   "outputs": [],
   "source": [
    "variable= 'EVT_CandVtxFD'\n",
    "\n",
    "plt.figure()\n",
    "plt.hist(Bc_df[variable], histtype='step', color= '#3182bd', label=name_bc, density=True)\n",
    "plt.hist(Bu_df[variable], histtype='step', color= \"#2ca25f\", label=name_bu, density=True)\n",
    "plt.legend()\n",
    "plt.show()"
   ]
  },
  {
   "cell_type": "code",
   "execution_count": null,
   "id": "valued-indian",
   "metadata": {},
   "outputs": [],
   "source": [
    "s_bin = 0\n",
    "f_bin = 12\n",
    "nb_bins = 50\n",
    "name_bu = r\"$B^{+}$ $\\longrightarrow$ $\\tau^{+}\\nu_\\tau$\"\n",
    "name_bc = r\"$B_c^{+}$ $\\longrightarrow$ $\\tau^{+}\\nu_\\tau$\"\n",
    "variable= 'EVT_CandVtxFD'\n",
    "\n",
    "plt.figure()\n",
    "plt.hist(Bc_df[variable], bins=nb_bins, range=(s_bin,f_bin), histtype='step', color= '#3182bd', label=name_bc, density=True)\n",
    "plt.hist(Bu_df[variable], bins=nb_bins, range=(s_bin,f_bin), histtype='step', color= \"#2ca25f\", label=name_bu, density=True)\n",
    "plt.xlim(s_bin,f_bin)\n",
    "plt.xlabel(\"EVT$\\_$CandVtxFD\")\n",
    "plt.ylabel(\"Number of events / {}\".format(round((f_bin-s_bin)/nb_bins,3)))\n",
    "plt.legend()\n",
    "plt.show()"
   ]
  },
  {
   "cell_type": "markdown",
   "id": "young-python",
   "metadata": {},
   "source": [
    "#### Histogramme à 2D "
   ]
  },
  {
   "cell_type": "code",
   "execution_count": null,
   "id": "marine-throat",
   "metadata": {},
   "outputs": [],
   "source": [
    "s_bin_x = 0.9\n",
    "f_bin_x = 1\n",
    "n_bin_x = 70\n",
    "x_var = 'EVT_MVA2'\n",
    "\n",
    "s_bin_y = 0\n",
    "f_bin_y = 12\n",
    "n_bin_y = 70\n",
    "y_var = 'EVT_CandVtxFD'"
   ]
  },
  {
   "cell_type": "code",
   "execution_count": null,
   "id": "incredible-language",
   "metadata": {},
   "outputs": [],
   "source": [
    "plt.figure()\n",
    "plt.hist2d(Bu_df[x_var],Bu_df[y_var], bins=[n_bin_x, n_bin_y], range=[[s_bin_x,f_bin_x],[s_bin_y,f_bin_y]], density=True, cmap='magma')\n",
    "plt.xlabel(\"MVA2\")\n",
    "plt.ylabel(\"3$\\pi$ seperation from the PV [mm]\")\n",
    "plt.xlim(0.97,1)\n",
    "plt.ylim(0,6)\n",
    "plt.title(r\"$B^{+}$ $\\rightarrow$ $\\tau^{+}\\nu_\\tau$\")\n",
    "plt.colorbar()\n",
    "plt.show()"
   ]
  },
  {
   "cell_type": "code",
   "execution_count": null,
   "id": "auburn-airport",
   "metadata": {},
   "outputs": [],
   "source": [
    "plt.figure()\n",
    "plt.hist2d(Bc_df[x_var],Bc_df[y_var], bins=[n_bin_x, n_bin_y], range=[[s_bin_x,f_bin_x],[s_bin_y,f_bin_y]], density=True, cmap='magma')\n",
    "plt.xlabel(\"MVA2\")\n",
    "plt.ylabel(\"3$\\pi$ seperation from the PV [mm]\")\n",
    "plt.xlim(0.97,1)\n",
    "plt.ylim(0,6)\n",
    "plt.colorbar() #nous donne une idée du nombre d'évènements associés aux couleurs\n",
    "plt.title(r\"$B_c^{+}$ $\\rightarrow$ $\\tau^{+}\\nu_\\tau$\")\n",
    "plt.show()"
   ]
  },
  {
   "cell_type": "code",
   "execution_count": null,
   "id": "fatty-miller",
   "metadata": {},
   "outputs": [],
   "source": [
    "s_bin_x = 0.995\n",
    "f_bin_x = 1\n",
    "n_bin_x = 50\n",
    "x_var = 'EVT_MVA1'\n",
    "\n",
    "s_bin_y = 0.98\n",
    "f_bin_y = 1\n",
    "n_bin_y = 50\n",
    "y_var = 'EVT_MVA2'"
   ]
  },
  {
   "cell_type": "code",
   "execution_count": null,
   "id": "binary-handling",
   "metadata": {},
   "outputs": [],
   "source": [
    "plt.figure()\n",
    "plt.hist2d(Bc_df[x_var],Bc_df[y_var], bins=[n_bin_x, n_bin_y], range=[[s_bin_x,f_bin_x],[s_bin_y,f_bin_y]], density=True, cmap='magma')\n",
    "plt.xlabel(\"MVA1\")\n",
    "plt.ylabel(\"MVA2\")\n",
    "plt.xlim(s_bin_x,f_bin_x)\n",
    "plt.ylim(s_bin_y,f_bin_y)\n",
    "plt.colorbar() #nous donne une idée du nombre d'évènements associés aux couleurs\n",
    "plt.title(r\"$B_c^{+}$ $\\rightarrow$ $\\tau^{+}\\nu_\\tau$\")\n",
    "plt.show()\n",
    "\n",
    "plt.figure()\n",
    "plt.hist2d(Bu_df[x_var],Bu_df[y_var], bins=[n_bin_x, n_bin_y], range=[[s_bin_x,f_bin_x],[s_bin_y,f_bin_y]], density=True, cmap='magma')\n",
    "plt.xlabel(\"MVA1\")\n",
    "plt.ylabel(\"MVA2\")\n",
    "plt.xlim(s_bin_x,f_bin_x)\n",
    "plt.ylim(s_bin_y,f_bin_y)\n",
    "plt.title(r\"$B^{+}$ $\\rightarrow$ $\\tau^{+}\\nu_\\tau$\")\n",
    "plt.colorbar()\n",
    "plt.show()"
   ]
  },
  {
   "cell_type": "code",
   "execution_count": null,
   "id": "announced-verification",
   "metadata": {},
   "outputs": [],
   "source": []
  }
 ],
 "metadata": {
  "kernelspec": {
   "display_name": "Python 3",
   "language": "python",
   "name": "python3"
  },
  "language_info": {
   "codemirror_mode": {
    "name": "ipython",
    "version": 3
   },
   "file_extension": ".py",
   "mimetype": "text/x-python",
   "name": "python",
   "nbconvert_exporter": "python",
   "pygments_lexer": "ipython3",
   "version": "3.8.6"
  }
 },
 "nbformat": 4,
 "nbformat_minor": 5
}
