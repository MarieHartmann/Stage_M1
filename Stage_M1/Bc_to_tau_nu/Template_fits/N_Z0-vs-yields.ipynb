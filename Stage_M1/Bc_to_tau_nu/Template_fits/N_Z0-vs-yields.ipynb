{
 "cells": [
  {
   "cell_type": "markdown",
   "id": "altered-teach",
   "metadata": {},
   "source": [
    "Plot the signal yield vs the number of $Z^0$"
   ]
  },
  {
   "cell_type": "code",
   "execution_count": 2,
   "id": "existing-watch",
   "metadata": {},
   "outputs": [
    {
     "name": "stderr",
     "output_type": "stream",
     "text": [
      "/cvmfs/sft.cern.ch/lcg/releases/Python/3.8.6-3199b/x86_64-centos7-gcc8-opt/lib/python3.8/_collections_abc.py:832: MatplotlibDeprecationWarning: Support for setting the 'text.latex.preamble' or 'pgf.preamble' rcParam to a list of strings is deprecated since 3.3 and will be removed two minor releases later; set it to a single string instead.\n",
      "  self[key] = other[key]\n"
     ]
    }
   ],
   "source": [
    "import pandas\n",
    "import uproot\n",
    "import matplotlib.pyplot as plt\n",
    "import numpy as np\n",
    "import scipy.interpolate as interpolate\n",
    "import pickle\n",
    "\n",
    "from matplotlib import rc\n",
    "rc('font',**{'family':'serif','serif':['Roman']})\n",
    "rc('text', usetex=True)\n",
    "params= {'text.latex.preamble' : [r'\\usepackage{amsmath}']}\n",
    "plt.rcParams.update(params)\n",
    "plt.rcParams['text.latex.preamble'] = r\"\\usepackage{bm} \\usepackage{amsmath}\""
   ]
  },
  {
   "cell_type": "code",
   "execution_count": 3,
   "id": "blocked-warehouse",
   "metadata": {},
   "outputs": [],
   "source": [
    "#Dowloading the data\n",
    "bc_tree = uproot.open('/eos/experiment/fcc/ee/analyses/case-studies/flavour/Bc2TauNu/flatNtuples/spring2021/prod_04/Analysis_stage2/p8_ee_Zbb_ecm91_EvtGen_Bc2TauNuTAUHADNU.root')['events']\n",
    "bu_tree = uproot.open('/eos/experiment/fcc/ee/analyses/case-studies/flavour/Bc2TauNu/flatNtuples/spring2021/prod_04/Analysis_stage2/p8_ee_Zbb_ecm91_EvtGen_Bu2TauNuTAUHADNU.root')['events']\n",
    "bb_tree = uproot.open('/eos/experiment/fcc/ee/analyses/case-studies/flavour/Bc2TauNu/flatNtuples/spring2021/prod_04/Analysis_stage2/p8_ee_Zbb_ecm91_EvtGen.root')['events']\n",
    "cc_tree = uproot.open('/eos/experiment/fcc/ee/analyses/case-studies/flavour/Bc2TauNu/flatNtuples/spring2021/prod_04/Analysis_stage2/p8_ee_Zcc_ecm91.root')['events']\n",
    "qq_tree = uproot.open('/eos/experiment/fcc/ee/analyses/case-studies/flavour/Bc2TauNu/flatNtuples/spring2021/prod_04/Analysis_stage2/p8_ee_Zuds_ecm91.root')['events']\n",
    "tree_gen = uproot.open(\"/eos/experiment/fcc/ee/analyses/case-studies/flavour/Bc2TauNu/flatNtuples/spring2021/prod_04/Analysis_stage2/p8_ee_Zbb_ecm91_EvtGen_Bc2TauNuTAUHADNU.root\")[\"metadata\"]"
   ]
  },
  {
   "cell_type": "markdown",
   "id": "talented-people",
   "metadata": {},
   "source": [
    "## Initializatoin of the yield and yield errors"
   ]
  },
  {
   "cell_type": "code",
   "execution_count": 6,
   "id": "figured-conditions",
   "metadata": {},
   "outputs": [],
   "source": [
    "N_Z0 = np.array([5e11, 1e12, 2e12, 3e12, 4e12, 5e12])"
   ]
  },
  {
   "cell_type": "code",
   "execution_count": null,
   "id": "banner-morocco",
   "metadata": {},
   "outputs": [],
   "source": [
    "N_SIG_5e12 = 4009.2649482816005\n",
    "sig_yield_5e12 = 4010\n",
    "err_sig_yield_5e12 = 125.2\n",
    "\n",
    "N_SIG_4e12 = 3207.4119586252805\n",
    "sig_yield_4e12 = 3214\n",
    "err_sig_yield_4e12 = 110.6\n",
    "\n",
    "N_SIG_3e12 = 2405.55896896896\n",
    "sig_yield_3e12 = 2403\n",
    "err_sig_yield_3e12 = 98.76\n",
    "\n",
    "N_SIG_2e12 = 1603.7059793126402\n",
    "sig_yield_2e12 = 1607\n",
    "err_sig_yield_2e12 = 80.78\n",
    "\n",
    "N_SIG_1e12 = 801.8529896563201\n",
    "sig_yield_1e12 = 804\n",
    "err_sig_yield_1e12 = 57.34\n",
    "\n",
    "N_SIG_5e11 = 400.92649482816006\n",
    "sig_yield_5e11 = \n",
    "err_sig_yield_5e11 = \n",
    "\n",
    "N_SIG = np.array([N_SIG_5e12, N_SIG_4e12, N_SIG_3e12, N_SIG_2e12, N_SIG_1e12, N_SIG_5e11])\n",
    "SIG = np.array([sig_yield_5e11, sig_yield_1e12, sig_yield_2e12, sig_yield_3e12, sig_yield_4e12, sig_yield_5e12])\n",
    "ERR_SIG = np.array([err_sig_yield_5e11, err_sig_yield_1e12, err_sig_yield_2e12, err_sig_yield_3e12, err_sig_yield_4e12, err_sig_yield_5e12])"
   ]
  },
  {
   "cell_type": "code",
   "execution_count": null,
   "id": "central-question",
   "metadata": {},
   "outputs": [],
   "source": [
    "N_BU_BKG_5e12 = 241.47796710240002\n",
    "bu_bkg_yield_5e12 = 241.6\n",
    "err_bu_bkg_yield_5e12 = 5.638\n",
    "\n",
    "N_BU_BKG_4e12 = 193.18237368191998\n",
    "bu_bkg_yield_4e12 = 193.8\n",
    "err_bu_bkg_yield_4e12 = 5.21\n",
    "\n",
    "N_BU_BKG_3e12 = 144.88678026144\n",
    "bu_bkg_yield_3e12 = 144.7\n",
    "err_bu_bkg_yield_3e12 = 4.232\n",
    "\n",
    "N_BU_BKG_2e12 = 96.59118684095999\n",
    "bu_bkg_yield_2e12 = 96.89\n",
    "err_bu_bkg_yield_2e12 = 3.47\n",
    "\n",
    "N_BU_BKG_1e12 = 48.295593420479996\n",
    "bu_bkg_yield_1e12 = 48.3\n",
    "err_bu_bkg_yield_1e12 = 2.444\n",
    "\n",
    "N_BU_BKG_5e11 = 24.147796710239998\n",
    "bu_bkg_yield_5e11 = \n",
    "err_bu_bkg_yield_5e11 =\n",
    "\n",
    "N_BU = np.array([N_BU_BKG_5e12, N_BU_BKG_4e12, N_BU_BKG_3e12, N_BU_BKG_2e12, N_BU_BKG_1e12, N_BU_BKG_5e11])\n",
    "BU = np.array([bu_bkg_yield_5e11, bu_bkg_yield_1e12, bu_bkg_yield_2e12, bu_bkg_yield_3e12, bu_bkg_yield_4e12, bu_bkg_yield_5e12])\n",
    "ERR_BU = np.array([err_bu_bkg_yield_5e11, err_bu_bkg_yield_1e12, err_bu_bkg_yield_2e12, err_bu_bkg_yield_3e12, err_bu_bkg_yield_4e12, err_bu_bkg_yield_5e12])"
   ]
  },
  {
   "cell_type": "code",
   "execution_count": null,
   "id": "aggressive-norfolk",
   "metadata": {},
   "outputs": [],
   "source": [
    "N_INC_BKG_5e12 = 4231.413002270805\n",
    "inc_bkg_yield_5e12 = 4227\n",
    "err_inc_bkg_yield_5e12 = 126.3\n",
    "\n",
    "N_INC_BKG_4e12 = 3578.312775498564\n",
    "inc_bkg_yield_4e12 = 3380\n",
    "err_inc_bkg_yield_4e12 = 110.5\n",
    "\n",
    "N_INC_BKG_3e12 = 2538.8478013624826\n",
    "inc_bkg_yield_3e12 = 2537\n",
    "err_inc_bkg_yield_3e12 = 96.21\n",
    "\n",
    "N_INC_BKG_2e12 = 1692.565200908322\n",
    "inc_bkg_yield_2e12 = 1689\n",
    "err_inc_bkg_yield_2e12 = 79.08\n",
    "\n",
    "N_INC_BKG_1e12 = 846.282600454161\n",
    "inc_bkg_yield_1e12 = 844.4\n",
    "err_inc_bkg_yield_1e12 = 55.41\n",
    "\n",
    "N_INC_BKG_5e11 = 423.1413002270805\n",
    "inc_bkg_yield_5e11 = \n",
    "err_inc_bkg_yield_5e11 =\n",
    "\n",
    "N_INC_BKG = np.array([N_INC_BKG_5e12, N_INC_BKG_4e12, N_INC_BKG_3e12, N_INC_BKG_2e12, N_INC_BKG_1e12, N_INC_BKG_5e11])\n",
    "INC_BKG = np.array([inc_bkg_yield_5e11, inc_bkg_yield_1e12, inc_bkg_yield_2e12, inc_bkg_yield_3e12, inc_bkg_yield_4e12, inc_bkg_yield_5e12])\n",
    "ERR_INC_BKG = np.array([err_inc_bkg_yield_5e11, err_inc_bkg_yield_1e12, err_inc_bkg_yield_2e12, err_inc_bkg_yield_3e12, err_inc_bkg_yield_4e12, err_inc_bkg_yield_5e12])"
   ]
  },
  {
   "cell_type": "markdown",
   "id": "million-sarah",
   "metadata": {},
   "source": [
    "## Yield vs N($Z^0$)"
   ]
  },
  {
   "cell_type": "code",
   "execution_count": null,
   "id": "killing-boutique",
   "metadata": {},
   "outputs": [],
   "source": [
    "name_bc = r\"$B_c^+$ $\\rightarrow$ $\\tau^+$ $\\nu_\\tau$ \"\n",
    "name_bu = r\"$B^+$ $\\rightarrow$ $\\tau^+$ $\\nu_\\tau$ \"\n",
    "name_bb = r\"$Z^0$ $\\rightarrow$ $b\\bar{b}$ \"\n",
    "name_cc = r\"$Z^0$ $\\rightarrow$ $c\\bar{c}$ \"\n",
    "\n",
    "colour_bc = \"#fdae61\"\n",
    "colour_bu = \"#74add1\"\n",
    "colour_bb_cc = \"#4575b4\""
   ]
  },
  {
   "cell_type": "markdown",
   "id": "acting-copper",
   "metadata": {},
   "source": [
    "### Signal yield vs number of $Z^0$"
   ]
  },
  {
   "cell_type": "code",
   "execution_count": null,
   "id": "circular-winning",
   "metadata": {},
   "outputs": [],
   "source": [
    "plt.figure()\n",
    "\n",
    "#Yield and errors obtained with the fits for the optimized cut\n",
    "plt.errorbar(N_Z0, \n",
    "             SIG, \n",
    "             yerr = ERR_SIG,\n",
    "             fmt = 'o', \n",
    "             markersize = 2,\n",
    "             color = colour_bc, \n",
    "             label = \"Fit value\"\n",
    "             )\n",
    "\n",
    "#Theoretical yield value for the optimized cut\n",
    "plt.errorbar(N_Z0,\n",
    "             N_BC,\n",
    "             fmt = 'o', \n",
    "             markersize = 2,\n",
    "             color = colour_bc, \n",
    "             label = \"Theoretical value\"\n",
    "             )\n",
    "\n",
    "plt.xlabel(\"Number of $Z^0$ bosons\")\n",
    "plt.legend(\"Signal yield\")\n",
    "plt.plot()"
   ]
  },
  {
   "cell_type": "markdown",
   "id": "unsigned-landscape",
   "metadata": {},
   "source": [
    "### $B^+$ yield vs number of $Z^0$"
   ]
  },
  {
   "cell_type": "code",
   "execution_count": 5,
   "id": "severe-annotation",
   "metadata": {},
   "outputs": [
    {
     "ename": "NameError",
     "evalue": "name 'N_Z0' is not defined",
     "output_type": "error",
     "traceback": [
      "\u001b[0;31m---------------------------------------------------------------------------\u001b[0m",
      "\u001b[0;31mNameError\u001b[0m                                 Traceback (most recent call last)",
      "\u001b[0;32m<ipython-input-5-9122c32b0f71>\u001b[0m in \u001b[0;36m<module>\u001b[0;34m\u001b[0m\n\u001b[1;32m      2\u001b[0m \u001b[0;34m\u001b[0m\u001b[0m\n\u001b[1;32m      3\u001b[0m \u001b[0;31m#Yield and errors obtained with the fits for the optimized cut\u001b[0m\u001b[0;34m\u001b[0m\u001b[0;34m\u001b[0m\u001b[0;34m\u001b[0m\u001b[0m\n\u001b[0;32m----> 4\u001b[0;31m plt.errorbar(N_Z0, \n\u001b[0m\u001b[1;32m      5\u001b[0m              \u001b[0mBU\u001b[0m\u001b[0;34m,\u001b[0m\u001b[0;34m\u001b[0m\u001b[0;34m\u001b[0m\u001b[0m\n\u001b[1;32m      6\u001b[0m              \u001b[0myerr\u001b[0m \u001b[0;34m=\u001b[0m \u001b[0mERR_BU\u001b[0m\u001b[0;34m,\u001b[0m\u001b[0;34m\u001b[0m\u001b[0;34m\u001b[0m\u001b[0m\n",
      "\u001b[0;31mNameError\u001b[0m: name 'N_Z0' is not defined"
     ]
    },
    {
     "data": {
      "text/plain": [
       "<Figure size 432x288 with 0 Axes>"
      ]
     },
     "metadata": {},
     "output_type": "display_data"
    }
   ],
   "source": [
    "plt.figure()\n",
    "\n",
    "#Yield and errors obtained with the fits for the optimized cut\n",
    "plt.errorbar(N_Z0, \n",
    "             BU, \n",
    "             yerr = ERR_BU,\n",
    "             fmt = 'o', \n",
    "             markersize = 2,\n",
    "             color = colour_bu, \n",
    "             label = \"Fit value\"\n",
    "             )\n",
    "\n",
    "#Theoretical yield value for the optimized cut\n",
    "plt.errorbar(N_Z0,\n",
    "             N_BU,\n",
    "             fmt = 'o', \n",
    "             markersize = 2,\n",
    "             color = colour_bu, \n",
    "             label = \"Theoretical value\"\n",
    "             )\n",
    "\n",
    "plt.xlabel(\"Number of $Z^0$ bosons\")\n",
    "plt.legend(r\"$B^+$ $\\rightarrow$ $\\tau^+$ $\\nu_\\tau$ yield\")\n",
    "plt.plot()"
   ]
  },
  {
   "cell_type": "markdown",
   "id": "latin-sitting",
   "metadata": {},
   "source": [
    "### $Z^0$ $\\rightarrow$ $b\\bar{b}$ and $Z^0$ $\\rightarrow$ $c\\bar{c}$ background yield vs number of $Z^0$"
   ]
  },
  {
   "cell_type": "code",
   "execution_count": null,
   "id": "sonic-motion",
   "metadata": {},
   "outputs": [],
   "source": [
    "plt.figure()\n",
    "\n",
    "#Yield and errors obtained with the fits for the optimized cut\n",
    "plt.errorbar(N_Z0, \n",
    "             INC_BKG, \n",
    "             yerr = ERR_INC_BKG,\n",
    "             fmt = 'o', \n",
    "             markersize = 2,\n",
    "             color = colour_bu, \n",
    "             label = \"Fit value\"\n",
    "             )\n",
    "\n",
    "#Theoretical yield value for the optimized cut\n",
    "plt.errorbar(N_Z0,\n",
    "             N_INC_BKG,\n",
    "             fmt = 'o', \n",
    "             markersize = 2,\n",
    "             color = colour_bb_cc, \n",
    "             label = \"Theoretical value\"\n",
    "             )\n",
    "\n",
    "plt.xlabel(\"Number of $Z^0$ bosons\")\n",
    "plt.legend(r\"$Z^0$ $\\rightarrow$ $b\\bar{b}$ and $Z^0$ $\\rightarrow$ $c\\bar{c}$ background yield \")\n",
    "plt.plot()"
   ]
  }
 ],
 "metadata": {
  "kernelspec": {
   "display_name": "Python 3",
   "language": "python",
   "name": "python3"
  },
  "language_info": {
   "codemirror_mode": {
    "name": "ipython",
    "version": 3
   },
   "file_extension": ".py",
   "mimetype": "text/x-python",
   "name": "python",
   "nbconvert_exporter": "python",
   "pygments_lexer": "ipython3",
   "version": "3.8.6"
  }
 },
 "nbformat": 4,
 "nbformat_minor": 5
}
