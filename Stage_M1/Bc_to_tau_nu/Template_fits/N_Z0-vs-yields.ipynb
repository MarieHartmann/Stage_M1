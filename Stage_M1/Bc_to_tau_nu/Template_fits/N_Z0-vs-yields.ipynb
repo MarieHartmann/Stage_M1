{
 "cells": [
  {
   "cell_type": "markdown",
   "id": "mathematical-maria",
   "metadata": {},
   "source": [
    "Plot the signal yield vs the number of $Z^0$"
   ]
  },
  {
   "cell_type": "code",
   "execution_count": 3,
   "id": "premier-induction",
   "metadata": {},
   "outputs": [],
   "source": [
    "import pandas\n",
    "import uproot\n",
    "import matplotlib.pyplot as plt\n",
    "import numpy as np\n",
    "import scipy.interpolate as interpolate\n",
    "import pickle\n",
    "\n",
    "from matplotlib import rc\n",
    "rc('font',**{'family':'serif','serif':['Roman']})\n",
    "rc('text', usetex=True)\n",
    "params= {'text.latex.preamble' : [r'\\usepackage{amsmath}']}\n",
    "plt.rcParams.update(params)\n",
    "plt.rcParams['text.latex.preamble'] = r\"\\usepackage{bm} \\usepackage{amsmath}\""
   ]
  },
  {
   "cell_type": "code",
   "execution_count": 4,
   "id": "impressive-slovak",
   "metadata": {},
   "outputs": [],
   "source": [
    "#Dowloading the data\n",
    "bc_tree = uproot.open('/eos/experiment/fcc/ee/analyses/case-studies/flavour/Bc2TauNu/flatNtuples/spring2021/prod_04/Analysis_stage2/p8_ee_Zbb_ecm91_EvtGen_Bc2TauNuTAUHADNU.root')['events']\n",
    "bu_tree = uproot.open('/eos/experiment/fcc/ee/analyses/case-studies/flavour/Bc2TauNu/flatNtuples/spring2021/prod_04/Analysis_stage2/p8_ee_Zbb_ecm91_EvtGen_Bu2TauNuTAUHADNU.root')['events']\n",
    "bb_tree = uproot.open('/eos/experiment/fcc/ee/analyses/case-studies/flavour/Bc2TauNu/flatNtuples/spring2021/prod_04/Analysis_stage2/p8_ee_Zbb_ecm91_EvtGen.root')['events']\n",
    "cc_tree = uproot.open('/eos/experiment/fcc/ee/analyses/case-studies/flavour/Bc2TauNu/flatNtuples/spring2021/prod_04/Analysis_stage2/p8_ee_Zcc_ecm91.root')['events']\n",
    "qq_tree = uproot.open('/eos/experiment/fcc/ee/analyses/case-studies/flavour/Bc2TauNu/flatNtuples/spring2021/prod_04/Analysis_stage2/p8_ee_Zuds_ecm91.root')['events']\n",
    "tree_gen = uproot.open(\"/eos/experiment/fcc/ee/analyses/case-studies/flavour/Bc2TauNu/flatNtuples/spring2021/prod_04/Analysis_stage2/p8_ee_Zbb_ecm91_EvtGen_Bc2TauNuTAUHADNU.root\")[\"metadata\"]"
   ]
  },
  {
   "cell_type": "markdown",
   "id": "liked-contact",
   "metadata": {},
   "source": [
    "## Initializatoin of the yield and yield errors"
   ]
  },
  {
   "cell_type": "code",
   "execution_count": 5,
   "id": "inclusive-category",
   "metadata": {},
   "outputs": [
    {
     "name": "stdout",
     "output_type": "stream",
     "text": [
      "[2. 2. 1.]\n"
     ]
    }
   ],
   "source": [
    "a = np.array([4,2,5])\n",
    "b = np.array([2,1,5])\n",
    "print(a/b)"
   ]
  },
  {
   "cell_type": "code",
   "execution_count": 6,
   "id": "basic-adams",
   "metadata": {},
   "outputs": [],
   "source": [
    "N_Z0 = np.array([5e11, 1e12, 2e12, 3e12, 4e12, 5e12])"
   ]
  },
  {
   "cell_type": "code",
   "execution_count": 7,
   "id": "dirty-population",
   "metadata": {},
   "outputs": [],
   "source": [
    "N_SIG_5e12 = 4009.2649482816005\n",
    "sig_yield_5e12 = 4010\n",
    "err_sig_yield_5e12 = 125.2\n",
    "\n",
    "N_SIG_4e12 = 3207.4119586252805\n",
    "sig_yield_4e12 = 3214\n",
    "err_sig_yield_4e12 = 110.6\n",
    "\n",
    "N_SIG_3e12 = 2405.55896896896\n",
    "sig_yield_3e12 = 2403\n",
    "err_sig_yield_3e12 = 98.76\n",
    "\n",
    "N_SIG_2e12 = 1603.7059793126402\n",
    "sig_yield_2e12 = 1607\n",
    "err_sig_yield_2e12 = 80.78\n",
    "\n",
    "N_SIG_1e12 = 801.8529896563201\n",
    "sig_yield_1e12 = 804\n",
    "err_sig_yield_1e12 = 57.34\n",
    "\n",
    "N_SIG_5e11 = 400.92649482816006\n",
    "sig_yield_5e11 = 399.2\n",
    "err_sig_yield_5e11 = 40.26\n",
    "\n",
    "N_SIG = np.array([N_SIG_5e11, N_SIG_1e12, N_SIG_2e12, N_SIG_3e12, N_SIG_4e12, N_SIG_5e12])\n",
    "SIG = np.array([sig_yield_5e11, sig_yield_1e12, sig_yield_2e12, sig_yield_3e12, sig_yield_4e12, sig_yield_5e12])\n",
    "ERR_SIG = np.array([err_sig_yield_5e11, err_sig_yield_1e12, err_sig_yield_2e12, err_sig_yield_3e12, err_sig_yield_4e12, err_sig_yield_5e12])\n",
    "\n",
    "REL_PREC_SIG = ERR_SIG/SIG"
   ]
  },
  {
   "cell_type": "code",
   "execution_count": 8,
   "id": "automotive-award",
   "metadata": {},
   "outputs": [],
   "source": [
    "N_BU_BKG_5e12 = 241.47796710240002\n",
    "bu_bkg_yield_5e12 = 241.6\n",
    "err_bu_bkg_yield_5e12 = 5.638\n",
    "\n",
    "N_BU_BKG_4e12 = 193.18237368191998\n",
    "bu_bkg_yield_4e12 = 193.8\n",
    "err_bu_bkg_yield_4e12 = 5.21\n",
    "\n",
    "N_BU_BKG_3e12 = 144.88678026144\n",
    "bu_bkg_yield_3e12 = 144.7\n",
    "err_bu_bkg_yield_3e12 = 4.232\n",
    "\n",
    "N_BU_BKG_2e12 = 96.59118684095999\n",
    "bu_bkg_yield_2e12 = 96.89\n",
    "err_bu_bkg_yield_2e12 = 3.47\n",
    "\n",
    "N_BU_BKG_1e12 = 48.295593420479996\n",
    "bu_bkg_yield_1e12 = 48.3\n",
    "err_bu_bkg_yield_1e12 = 2.444\n",
    "\n",
    "N_BU_BKG_5e11 = 24.147796710239998\n",
    "bu_bkg_yield_5e11 = 24.18\n",
    "err_bu_bkg_yield_5e11 = 1.545\n",
    "\n",
    "N_BU = np.array([N_BU_BKG_5e11, N_BU_BKG_1e12, N_BU_BKG_2e12, N_BU_BKG_3e12, N_BU_BKG_4e12, N_BU_BKG_5e12])\n",
    "BU = np.array([bu_bkg_yield_5e11, bu_bkg_yield_1e12, bu_bkg_yield_2e12, bu_bkg_yield_3e12, bu_bkg_yield_4e12, bu_bkg_yield_5e12])\n",
    "ERR_BU = np.array([err_bu_bkg_yield_5e11, err_bu_bkg_yield_1e12, err_bu_bkg_yield_2e12, err_bu_bkg_yield_3e12, err_bu_bkg_yield_4e12, err_bu_bkg_yield_5e12])"
   ]
  },
  {
   "cell_type": "code",
   "execution_count": 9,
   "id": "continental-porter",
   "metadata": {},
   "outputs": [],
   "source": [
    "N_INC_BKG_5e12 = 4231.413002270805\n",
    "inc_bkg_yield_5e12 = 4227\n",
    "err_inc_bkg_yield_5e12 = 126.3\n",
    "\n",
    "N_INC_BKG_4e12 = 3385.130401816644\n",
    "inc_bkg_yield_4e12 = 3380\n",
    "err_inc_bkg_yield_4e12 = 110.5\n",
    "\n",
    "N_INC_BKG_3e12 = 2538.8478013624826\n",
    "inc_bkg_yield_3e12 = 2537\n",
    "err_inc_bkg_yield_3e12 = 96.21\n",
    "\n",
    "N_INC_BKG_2e12 = 1692.565200908322\n",
    "inc_bkg_yield_2e12 = 1689\n",
    "err_inc_bkg_yield_2e12 = 79.08\n",
    "\n",
    "N_INC_BKG_1e12 = 846.282600454161\n",
    "inc_bkg_yield_1e12 = 844.4\n",
    "err_inc_bkg_yield_1e12 = 55.41\n",
    "\n",
    "N_INC_BKG_5e11 = 423.1413002270805\n",
    "inc_bkg_yield_5e11 = 424\n",
    "err_inc_bkg_yield_5e11 = 40.4\n",
    "\n",
    "N_INC_BKG = np.array([N_INC_BKG_5e11, N_INC_BKG_1e12, N_INC_BKG_2e12, N_INC_BKG_3e12, N_INC_BKG_4e12, N_INC_BKG_5e12])\n",
    "INC_BKG = np.array([inc_bkg_yield_5e11, inc_bkg_yield_1e12, inc_bkg_yield_2e12, inc_bkg_yield_3e12, inc_bkg_yield_4e12, inc_bkg_yield_5e12])\n",
    "ERR_INC_BKG = np.array([err_inc_bkg_yield_5e11, err_inc_bkg_yield_1e12, err_inc_bkg_yield_2e12, err_inc_bkg_yield_3e12, err_inc_bkg_yield_4e12, err_inc_bkg_yield_5e12])"
   ]
  },
  {
   "cell_type": "markdown",
   "id": "directed-richmond",
   "metadata": {},
   "source": [
    "   "
   ]
  },
  {
   "cell_type": "markdown",
   "id": "tribal-television",
   "metadata": {},
   "source": [
    "    "
   ]
  },
  {
   "cell_type": "markdown",
   "id": "genetic-berry",
   "metadata": {},
   "source": [
    "## Yield vs N($Z^0$)"
   ]
  },
  {
   "cell_type": "code",
   "execution_count": 10,
   "id": "unlikely-arizona",
   "metadata": {},
   "outputs": [],
   "source": [
    "name_bc = r\"$B_c^+$ $\\rightarrow$ $\\tau^+$ $\\nu_\\tau$ \"\n",
    "name_bu = r\"$B^+$ $\\rightarrow$ $\\tau^+$ $\\nu_\\tau$ \"\n",
    "name_bb = r\"$Z^0$ $\\rightarrow$ $b\\bar{b}$ \"\n",
    "name_cc = r\"$Z^0$ $\\rightarrow$ $c\\bar{c}$ \"\n",
    "\n",
    "colour_bc = \"#fdae61\"\n",
    "colour_bu = \"#74add1\"\n",
    "colour_bb_cc = \"#4575b4\""
   ]
  },
  {
   "cell_type": "markdown",
   "id": "lovely-requirement",
   "metadata": {},
   "source": [
    "### Signal yield vs number of $Z^0$"
   ]
  },
  {
   "cell_type": "code",
   "execution_count": 11,
   "id": "premium-offer",
   "metadata": {},
   "outputs": [
    {
     "data": {
      "text/plain": [
       "[]"
      ]
     },
     "execution_count": 11,
     "metadata": {},
     "output_type": "execute_result"
    },
    {
     "name": "stderr",
     "output_type": "stream",
     "text": [
      "findfont: Font family ['serif'] not found. Falling back to DejaVu Sans.\n"
     ]
    },
    {
     "data": {
      "image/png": "[encoded data removed]",
      "text/plain": [
       "<Figure size 720x432 with 1 Axes>"
      ]
     },
     "metadata": {
      "needs_background": "light"
     },
     "output_type": "display_data"
    }
   ],
   "source": [
    "plt.figure(figsize=(10,6))\n",
    "\n",
    "#Yield and errors obtained with the fits for the optimized cut\n",
    "plt.errorbar(N_Z0, \n",
    "             SIG, \n",
    "             yerr = ERR_SIG,\n",
    "             fmt = 'o', \n",
    "             markersize = 2,\n",
    "             color = 'black', #colour_bc, \n",
    "             label = \"Fit value\"\n",
    "             )\n",
    "\n",
    "#Theoretical yield value for the optimized cut\n",
    "plt.plot(N_Z0,\n",
    "         N_SIG,\n",
    "         color = colour_bc, \n",
    "         label = \"Theoretical value\"\n",
    "        )\n",
    "\n",
    "plt.xlabel(\"Number of $Z^0$ bosons\", fontsize=15, labelpad=10)\n",
    "plt.ylabel(r\"$B_c^+$ $\\rightarrow$ $\\tau^+$ $\\nu_\\tau$ signal yield\", fontsize=15, labelpad=10)\n",
    "\n",
    "plt.tick_params(axis='both', which='major', labelsize=12)\n",
    "plt.legend(fontsize=13)\n",
    "\n",
    "plt.plot()"
   ]
  },
  {
   "cell_type": "markdown",
   "id": "monthly-level",
   "metadata": {},
   "source": [
    "### $B^+$ yield vs number of $Z^0$"
   ]
  },
  {
   "cell_type": "code",
   "execution_count": 12,
   "id": "laden-bishop",
   "metadata": {},
   "outputs": [
    {
     "data": {
      "text/plain": [
       "[]"
      ]
     },
     "execution_count": 12,
     "metadata": {},
     "output_type": "execute_result"
    },
    {
     "data": {
      "image/png": "[encoded data removed]",
      "text/plain": [
       "<Figure size 720x432 with 1 Axes>"
      ]
     },
     "metadata": {
      "needs_background": "light"
     },
     "output_type": "display_data"
    }
   ],
   "source": [
    "plt.figure(figsize=(10,6))\n",
    "\n",
    "#Yield and errors obtained with the fits for the optimized cut\n",
    "plt.errorbar(N_Z0, \n",
    "             BU, \n",
    "             yerr = ERR_BU,\n",
    "             fmt = 'o', \n",
    "             markersize = 2,\n",
    "             color = \"black\", \n",
    "             label = \"Fit value\"\n",
    "             )\n",
    "\n",
    "#Theoretical yield value for the optimized cut\n",
    "plt.plot(N_Z0,\n",
    "         N_BU,\n",
    "         color = colour_bu, \n",
    "         label = \"Theoretical value\"\n",
    "        )\n",
    "\n",
    "plt.xlabel(\"Number of $Z^0$ bosons\", fontsize=15, labelpad=10)\n",
    "plt.ylabel(r\"$B^+$ $\\rightarrow$ $\\tau^+$ $\\nu_\\tau$ yield\", fontsize=15, labelpad=10)\n",
    "\n",
    "plt.tick_params(axis='both', which='major', labelsize=12)\n",
    "plt.legend(fontsize=13)\n",
    "\n",
    "plt.plot()"
   ]
  },
  {
   "cell_type": "markdown",
   "id": "accessible-lease",
   "metadata": {},
   "source": [
    "### $Z^0$ $\\rightarrow$ $b\\bar{b}$ and $Z^0$ $\\rightarrow$ $c\\bar{c}$ background yield vs number of $Z^0$"
   ]
  },
  {
   "cell_type": "code",
   "execution_count": 13,
   "id": "encouraging-school",
   "metadata": {},
   "outputs": [
    {
     "data": {
      "text/plain": [
       "[]"
      ]
     },
     "execution_count": 13,
     "metadata": {},
     "output_type": "execute_result"
    },
    {
     "data": {
      "image/png": "[encoded data removed]",
      "text/plain": [
       "<Figure size 720x432 with 1 Axes>"
      ]
     },
     "metadata": {
      "needs_background": "light"
     },
     "output_type": "display_data"
    }
   ],
   "source": [
    "plt.figure(figsize=(10,6))\n",
    "\n",
    "#Yield and errors obtained with the fits for the optimized cut\n",
    "plt.errorbar(N_Z0, \n",
    "             INC_BKG, \n",
    "             yerr = ERR_INC_BKG,\n",
    "             fmt = 'o', \n",
    "             markersize = 2,\n",
    "             color = 'black', \n",
    "             label = \"Fit value\"\n",
    "             )\n",
    "\n",
    "#Theoretical yield value for the optimized cut\n",
    "plt.plot(N_Z0,\n",
    "         N_INC_BKG,\n",
    "         color = colour_bb_cc, \n",
    "         label = \"Theoretical value\"\n",
    "        )\n",
    "\n",
    "plt.xlabel(\"Number of $Z^0$ bosons\", fontsize=15, labelpad=10)\n",
    "plt.ylabel(r\"$Z^0$ $\\rightarrow$ $b\\bar{b}$ and $Z^0$ $\\rightarrow$ $c\\bar{c}$ background yield \", fontsize=15, labelpad=10)\n",
    "#plt.xscale('log')\n",
    "#plt.yscale('log')\n",
    "\n",
    "plt.tick_params(axis='both', which='major', labelsize=12)\n",
    "plt.legend(fontsize=13)\n",
    "\n",
    "plt.plot()"
   ]
  },
  {
   "cell_type": "markdown",
   "id": "analyzed-implementation",
   "metadata": {},
   "source": [
    "   "
   ]
  },
  {
   "cell_type": "markdown",
   "id": "offensive-biotechnology",
   "metadata": {},
   "source": [
    "## Relative precision vs number of $Z^0$ bosons"
   ]
  },
  {
   "cell_type": "code",
   "execution_count": 14,
   "id": "generous-greenhouse",
   "metadata": {},
   "outputs": [
    {
     "name": "stderr",
     "output_type": "stream",
     "text": [
      "No handles with labels found to put in legend.\n"
     ]
    },
    {
     "data": {
      "text/plain": [
       "[]"
      ]
     },
     "execution_count": 14,
     "metadata": {},
     "output_type": "execute_result"
    },
    {
     "data": {
      "image/png": "[encoded data removed]",
      "text/plain": [
       "<Figure size 720x432 with 1 Axes>"
      ]
     },
     "metadata": {
      "needs_background": "light"
     },
     "output_type": "display_data"
    }
   ],
   "source": [
    "plt.figure(figsize=(10,6))\n",
    "\n",
    "#Yield and errors obtained with the fits for the optimized cut\n",
    "plt.errorbar(N_Z0, \n",
    "             REL_PREC_SIG, \n",
    "             fmt = 'o', \n",
    "             markersize = 8,\n",
    "             color = \"k\"\n",
    "             #label = \"Fit value\"\n",
    "             )\n",
    "\n",
    "\n",
    "plt.xlabel(\"Number of $Z^0$ produced\", fontsize=18, labelpad=10)\n",
    "plt.ylabel(r\"Relative error on $N_{fit}(B_c^+ \\rightarrow \\tau^+ \\nu_\\tau)$\", fontsize=18, labelpad=10)\n",
    "\n",
    "plt.tick_params(axis='both', which='major', labelsize=15)\n",
    "plt.legend(fontsize=13)\n",
    "\n",
    "plt.plot()"
   ]
  },
  {
   "cell_type": "markdown",
   "id": "analyzed-piano",
   "metadata": {},
   "source": [
    "## Plot with systematic uncertainties "
   ]
  },
  {
   "cell_type": "code",
   "execution_count": 15,
   "id": "median-jonathan",
   "metadata": {},
   "outputs": [
    {
     "ename": "ValueError",
     "evalue": "operands could not be broadcast together with shapes (5,) (6,) ",
     "output_type": "error",
     "traceback": [
      "\u001b[0;31m---------------------------------------------------------------------------\u001b[0m",
      "\u001b[0;31mValueError\u001b[0m                                Traceback (most recent call last)",
      "\u001b[0;32m<ipython-input-15-6098201a4308>\u001b[0m in \u001b[0;36m<module>\u001b[0;34m\u001b[0m\n\u001b[1;32m      1\u001b[0m \u001b[0mX\u001b[0m \u001b[0;34m=\u001b[0m \u001b[0mnp\u001b[0m\u001b[0;34m.\u001b[0m\u001b[0marray\u001b[0m\u001b[0;34m(\u001b[0m\u001b[0;34m[\u001b[0m\u001b[0;36m0\u001b[0m\u001b[0;34m,\u001b[0m \u001b[0;36m0.25\u001b[0m\u001b[0;34m,\u001b[0m \u001b[0;36m0.5\u001b[0m\u001b[0;34m,\u001b[0m \u001b[0;36m0.75\u001b[0m\u001b[0;34m,\u001b[0m \u001b[0;36m1\u001b[0m\u001b[0;34m]\u001b[0m\u001b[0;34m)\u001b[0m\u001b[0;34m\u001b[0m\u001b[0;34m\u001b[0m\u001b[0m\n\u001b[0;32m----> 2\u001b[0;31m \u001b[0mTOT_ERR\u001b[0m \u001b[0;34m=\u001b[0m \u001b[0mnp\u001b[0m\u001b[0;34m.\u001b[0m\u001b[0msqrt\u001b[0m\u001b[0;34m(\u001b[0m\u001b[0mERR_SIG\u001b[0m\u001b[0;34m**\u001b[0m\u001b[0;36m2\u001b[0m \u001b[0;34m+\u001b[0m \u001b[0;34m(\u001b[0m\u001b[0mX\u001b[0m\u001b[0;34m*\u001b[0m\u001b[0mERR_SIG\u001b[0m\u001b[0;34m)\u001b[0m\u001b[0;34m**\u001b[0m\u001b[0;36m2\u001b[0m\u001b[0;34m)\u001b[0m\u001b[0;34m\u001b[0m\u001b[0;34m\u001b[0m\u001b[0m\n\u001b[0m",
      "\u001b[0;31mValueError\u001b[0m: operands could not be broadcast together with shapes (5,) (6,) "
     ]
    }
   ],
   "source": [
    "X = np.array([0, 0.25, 0.5, 0.75, 1])\n",
    "TOT_ERR = np.sqrt(ERR_SIG**2 + (X*ERR_SIG)**2)"
   ]
  },
  {
   "cell_type": "code",
   "execution_count": null,
   "id": "seven-semester",
   "metadata": {},
   "outputs": [],
   "source": [
    "X = np.array([0, 0.25, 0.5, 0.75, 1])\n",
    "colour = [\"#fee090\", \"#fdae61\", \"#f46d43\", \"#d73027\", \"#a50026\"]\n",
    "\n",
    "plt.figure(figsize=(10,6))\n",
    "\n",
    "for i in range (len(X)) :\n",
    "    TOT_ERR = np.sqrt(ERR_SIG**2 + (X[i]*ERR_SIG)**2)\n",
    "    \n",
    "    plt.errorbar(N_Z0, \n",
    "             SIG, \n",
    "             yerr = TOT_ERR,\n",
    "             fmt = 'o', \n",
    "             ls = 'solid',\n",
    "             markersize = 2,\n",
    "             color = colour[i], \n",
    "             label = \"X = {}\".format(X[i])\n",
    "             )\n",
    "\n",
    "\n",
    "plt.xlabel(\"Number of $Z^0$ bosons\", fontsize=15, labelpad=10)\n",
    "plt.ylabel(r\"$B_c^+$ $\\rightarrow$ $\\tau^+$ $\\nu_\\tau$ signal yield\", fontsize=15, labelpad=10)\n",
    "\n",
    "plt.tick_params(axis='both', which='major', labelsize=12)\n",
    "plt.legend(fontsize=13)\n",
    "\n",
    "plt.plot()\n",
    "\n",
    "plt.figure(figsize=(10,6))\n",
    "\n",
    "for i in range (len(X)) :\n",
    "    TOT_ERR = np.sqrt(ERR_SIG**2 + (X[i]*ERR_SIG)**2)\n",
    "    \n",
    "    plt.errorbar(N_Z0, \n",
    "             TOT_ERR/SIG, \n",
    "             fmt = 'o', \n",
    "             ls = 'solid',\n",
    "             markersize = 2,\n",
    "             color = colour[i], \n",
    "             label = \"X = {}\".format(X[i])\n",
    "             )\n",
    "\n",
    "plt.xlabel(\"Number of $Z^0$ bosons\", fontsize=15, labelpad=10)\n",
    "plt.ylabel(r\"Relative precision of the signal yield\", fontsize=15, labelpad=10)\n",
    "\n",
    "plt.tick_params(axis='both', which='major', labelsize=12)\n",
    "plt.legend(fontsize=13)\n",
    "\n",
    "plt.plot()"
   ]
  },
  {
   "cell_type": "code",
   "execution_count": null,
   "id": "taken-scheme",
   "metadata": {},
   "outputs": [],
   "source": [
    "X = np.array([0, 0.25, 0.5, 0.75, 1])\n",
    "colour = [\"#e0f3f8\", \"#abd9e9\", \"#74add1\", \"#4575b4\", \"#313695\"]\n",
    "\n",
    "plt.figure(figsize=(10,6))\n",
    "\n",
    "for i in range (len(X)) :\n",
    "    TOT_ERR = np.sqrt(ERR_INC_BKG**2 + (X[i]*ERR_INC_BKG)**2)\n",
    "    \n",
    "    plt.errorbar(N_Z0, \n",
    "             TOT_ERR/INC_BKG, \n",
    "             fmt = 'o', \n",
    "             ls = 'solid',\n",
    "             markersize = 2,\n",
    "             color = colour[i], \n",
    "             label = \"X = {}\".format(X[i])\n",
    "             )\n",
    "\n",
    "plt.xlabel(\"Number of $Z^0$ bosons\", fontsize=15, labelpad=10)\n",
    "plt.ylabel(r\"Relative precision for the $Z^0$$\\rightarrow$$b\\bar{b}$ and $Z^0$$\\rightarrow$$c\\bar{c}$ yield\", fontsize=15, labelpad=10)\n",
    "\n",
    "plt.tick_params(axis='both', which='major', labelsize=12)\n",
    "plt.legend(fontsize=13)\n",
    "\n",
    "plt.plot()"
   ]
  },
  {
   "cell_type": "code",
   "execution_count": null,
   "id": "impressive-concentration",
   "metadata": {},
   "outputs": [],
   "source": [
    "X = np.array([0, 0.25, 0.5, 0.75, 1])\n",
    "colour = [\"#e0f3f8\", \"#abd9e9\", \"#74add1\", \"#4575b4\", \"#313695\"]\n",
    "\n",
    "plt.figure(figsize=(10,6))\n",
    "\n",
    "for i in range (len(X)) :\n",
    "    TOT_ERR = np.sqrt(ERR_BU**2 + (X[i]*ERR_BU)**2)\n",
    "    \n",
    "    plt.errorbar(N_Z0, \n",
    "             TOT_ERR/BU, \n",
    "             fmt = 'o', \n",
    "             ls = 'solid',\n",
    "             markersize = 2,\n",
    "             color = colour[i], \n",
    "             label = \"X = {}\".format(X[i])\n",
    "             )\n",
    "\n",
    "plt.xlabel(\"Number of $Z^0$ bosons\", fontsize=15, labelpad=10)\n",
    "plt.ylabel(r\"Relative precision for the $B^+$ $\\rightarrow$ $\\tau^+$ $\\nu_\\tau$ yield\", fontsize=15, labelpad=10)\n",
    "\n",
    "plt.tick_params(axis='both', which='major', labelsize=12)\n",
    "plt.legend(fontsize=13)\n",
    "\n",
    "plt.plot()"
   ]
  },
  {
   "cell_type": "code",
   "execution_count": null,
   "id": "reverse-depression",
   "metadata": {},
   "outputs": [],
   "source": []
  },
  {
   "cell_type": "code",
   "execution_count": null,
   "id": "statewide-diameter",
   "metadata": {},
   "outputs": [],
   "source": []
  },
  {
   "cell_type": "code",
   "execution_count": null,
   "id": "beneficial-acrylic",
   "metadata": {},
   "outputs": [],
   "source": []
  }
 ],
 "metadata": {
  "kernelspec": {
   "display_name": "Python 3",
   "language": "python",
   "name": "python3"
  },
  "language_info": {
   "codemirror_mode": {
    "name": "ipython",
    "version": 3
   },
   "file_extension": ".py",
   "mimetype": "text/x-python",
   "name": "python",
   "nbconvert_exporter": "python",
   "pygments_lexer": "ipython3",
   "version": "3.9.5"
  }
 },
 "nbformat": 4,
 "nbformat_minor": 5
}
