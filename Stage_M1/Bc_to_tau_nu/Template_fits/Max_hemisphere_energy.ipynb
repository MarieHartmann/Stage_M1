{
 "cells": [
  {
   "cell_type": "markdown",
   "id": "endless-agenda",
   "metadata": {},
   "source": [
    "Max Hemisphere Energy"
   ]
  },
  {
   "cell_type": "code",
   "execution_count": 2,
   "id": "alpha-column",
   "metadata": {},
   "outputs": [
    {
     "name": "stderr",
     "output_type": "stream",
     "text": [
      "/cvmfs/sft.cern.ch/lcg/releases/Python/3.8.6-3199b/x86_64-centos7-gcc8-opt/lib/python3.8/_collections_abc.py:832: MatplotlibDeprecationWarning: Support for setting the 'text.latex.preamble' or 'pgf.preamble' rcParam to a list of strings is deprecated since 3.3 and will be removed two minor releases later; set it to a single string instead.\n",
      "  self[key] = other[key]\n"
     ]
    }
   ],
   "source": [
    "import pandas\n",
    "import uproot\n",
    "import matplotlib.pyplot as plt\n",
    "import numpy as np\n",
    "import scipy.interpolate as interpolate\n",
    "import pickle\n",
    "\n",
    "from matplotlib import rc\n",
    "rc('font',**{'family':'serif','serif':['Roman']})\n",
    "rc('text', usetex=True)\n",
    "params= {'text.latex.preamble' : [r'\\usepackage{amsmath}']}\n",
    "plt.rcParams.update(params)\n",
    "plt.rcParams['text.latex.preamble'] = r\"\\usepackage{bm} \\usepackage{amsmath}\""
   ]
  },
  {
   "cell_type": "code",
   "execution_count": 3,
   "id": "optional-vegetation",
   "metadata": {},
   "outputs": [],
   "source": [
    "#Dowloading the data\n",
    "bc_tree = uproot.open('/eos/experiment/fcc/ee/analyses/case-studies/flavour/Bc2TauNu/flatNtuples/spring2021/prod_04/Analysis_stage2/p8_ee_Zbb_ecm91_EvtGen_Bc2TauNuTAUHADNU.root')['events']\n",
    "bu_tree = uproot.open('/eos/experiment/fcc/ee/analyses/case-studies/flavour/Bc2TauNu/flatNtuples/spring2021/prod_04/Analysis_stage2/p8_ee_Zbb_ecm91_EvtGen_Bu2TauNuTAUHADNU.root')['events']\n",
    "bb_tree = uproot.open('/eos/experiment/fcc/ee/analyses/case-studies/flavour/Bc2TauNu/flatNtuples/spring2021/prod_04/Analysis_stage2/p8_ee_Zbb_ecm91_EvtGen.root')['events']\n",
    "cc_tree = uproot.open('/eos/experiment/fcc/ee/analyses/case-studies/flavour/Bc2TauNu/flatNtuples/spring2021/prod_04/Analysis_stage2/p8_ee_Zcc_ecm91.root')['events']\n",
    "#qq_tree = uproot.open('/eos/experiment/fcc/ee/analyses/case-studies/flavour/Bc2TauNu/flatNtuples/spring2021/prod_04/Analysis_stage2/p8_ee_Zuds_ecm91.root')['events']\n",
    "tree_gen = uproot.open(\"/eos/experiment/fcc/ee/analyses/case-studies/flavour/Bc2TauNu/flatNtuples/spring2021/prod_04/Analysis_stage2/p8_ee_Zbb_ecm91_EvtGen_Bc2TauNuTAUHADNU.root\")[\"metadata\"]"
   ]
  },
  {
   "cell_type": "code",
   "execution_count": 4,
   "id": "incorporated-commercial",
   "metadata": {},
   "outputs": [],
   "source": [
    "#Transforming the data into a dataframe\n",
    "bc_df = bc_tree.arrays(library=\"pd\", how=\"zip\", filter_name=[\"EVT_*\"])\n",
    "bu_df = bu_tree.arrays(library=\"pd\", how=\"zip\", filter_name=[\"EVT_*\"])\n",
    "bb_df = bb_tree.arrays(library=\"pd\", how=\"zip\", filter_name=[\"EVT_*\"])\n",
    "cc_df = cc_tree.arrays(library=\"pd\", how=\"zip\", filter_name=[\"EVT_*\"])\n",
    "#qq_df = qq_tree.arrays(library=\"pd\", how=\"zip\", filter_name=[\"EVT_*\"])\n",
    "\n",
    "#Getting general information on the data\n",
    "df_gen = tree_gen.arrays(library=\"pd\", how=\"zip\")"
   ]
  },
  {
   "cell_type": "code",
   "execution_count": 4,
   "id": "intimate-gauge",
   "metadata": {},
   "outputs": [],
   "source": [
    "#We consider as initial data the data whose MVAs are between 0.95 and 1\n",
    "\n",
    "bc_sig = bc_df[bc_df['EVT_MVA2']> 0.95]\n",
    "bc_sig = bc_sig[bc_sig['EVT_MVA1']> 0.95]\n",
    "\n",
    "bu_bkg = bu_df[bu_df['EVT_MVA2']> 0.95]\n",
    "bu_bkg = bu_bkg[bu_bkg['EVT_MVA1']> 0.95] \n",
    "\n",
    "bb_bkg = bb_df[bb_df['EVT_MVA2']> 0.95]\n",
    "bb_bkg = bb_bkg[bb_bkg['EVT_MVA1']> 0.95] \n",
    "\n",
    "cc_bkg = cc_df[cc_df['EVT_MVA2']> 0.95]\n",
    "cc_bkg = cc_bkg[cc_bkg['EVT_MVA1']> 0.95] \n"
   ]
  },
  {
   "cell_type": "code",
   "execution_count": 5,
   "id": "lined-market",
   "metadata": {},
   "outputs": [],
   "source": [
    "#Number of Z0 produced\n",
    "N_Z0_init = 5*10**(12)\n",
    "N_Z0 = 5*10**(12)\n",
    "\n",
    "#Branching fraction Z->quark-pair\n",
    "BF_Zbb = 0.1512\n",
    "BF_Zcc = 0.1203\n",
    "\n",
    "#Production ratio of Bc+ and B+\n",
    "f_Bc = 0.0004\n",
    "f_Bu = 0.43\n",
    "\n",
    "#Branching fraction Bc+->tau nu B+->tau nu and tau->3pions\n",
    "BF_Bctaunu = 0.0194\n",
    "BF_Butaunu = 1.09*10**(-4)\n",
    "BF_tau3pion = 0.0931"
   ]
  },
  {
   "cell_type": "code",
   "execution_count": 6,
   "id": "funky-buffer",
   "metadata": {},
   "outputs": [],
   "source": [
    "#Definition of the functions computing the different yields\n",
    "\n",
    "def S_bc_cut_init(initial_eff) :\n",
    "    return (N_Z0*BF_Zbb*2*f_Bc*BF_Bctaunu*BF_tau3pion)*initial_eff\n",
    "\n",
    "def B_bu_cut_init(initial_eff) :\n",
    "    return (N_Z0*BF_Zbb*2*f_Bu*BF_Butaunu*BF_tau3pion)*initial_eff\n",
    "\n",
    "def B_bb_cut_init(initial_eff) :\n",
    "    return (N_Z0*BF_Zbb*2)*initial_eff\n",
    "\n",
    "def B_cc_cut_init(initial_eff) :\n",
    "    return (N_Z0*BF_Zcc*2)*initial_eff\n",
    "\n",
    "#Dowloading the splines to compute the number of inclusive background events\n",
    "\n",
    "bb_spline_MVA1_log = pickle.load(open(r'../Finding_the_best_MVA_cut/2D_plot/Spline_functions/MVA1_spline_log.pkl','rb'))\n",
    "bb_spline_MVA2_log = pickle.load(open(r'../Finding_the_best_MVA_cut/2D_plot/Spline_functions/MVA2_spline_log.pkl','rb'))\n",
    "\n",
    "cc_spline_MVA1_log = pickle.load(open(r'../Finding_the_best_MVA_cut/2D_plot/Spline_functions/cc_MVA1_spline_log.pkl','rb'))\n",
    "cc_spline_MVA2_log = pickle.load(open(r'../Finding_the_best_MVA_cut/2D_plot/Spline_functions/cc_MVA2_spline_log.pkl','rb'))\n"
   ]
  },
  {
   "cell_type": "code",
   "execution_count": 9,
   "id": "level-consistency",
   "metadata": {},
   "outputs": [
    {
     "name": "stdout",
     "output_type": "stream",
     "text": [
      "initial number of bc = 253496.462302944\n",
      "initial number of b+ = 334136.2300037496\n",
      "initial number of bb = 1152144000.0\n",
      "initial number of cc = 342734700.0\n"
     ]
    }
   ],
   "source": [
    "#Initialization of the number of events in the MVAs for all contributions\n",
    "nb_total_events = df_gen.iloc[0][\"eventsProcessed\"]\n",
    "nb_bc_events = len(bc_sig)\n",
    "nb_bu_events = len(bu_bkg)\n",
    "nb_bb_events = len(bb_bkg)\n",
    "nb_cc_events = len(cc_bkg)\n",
    "\n",
    "#Computing of the initial efficiencies for all backgrounds\n",
    "initial_eff_bc_sig = nb_bc_events / nb_total_events\n",
    "initial_eff_bu_bkg = nb_bu_events / nb_total_events\n",
    "initial_eff_bb_bkg = nb_bb_events / nb_total_events\n",
    "initial_eff_cc_bkg = nb_cc_events / nb_total_events\n",
    "\n",
    "#Computing the yields\n",
    "INIT_N_BC = S_bc_cut_init(initial_eff_bc_sig)\n",
    "INIT_N_BU = B_bu_cut_init(initial_eff_bu_bkg)\n",
    "INIT_N_BB = B_bb_cut_init(initial_eff_bb_bkg)\n",
    "INIT_N_CC = B_cc_cut_init(initial_eff_cc_bkg)\n",
    "\n",
    "print('initial number of bc = {}'.format(INIT_N_BC))\n",
    "print('initial number of b+ = {}'.format(INIT_N_BU))\n",
    "print('initial number of bb = {}'.format(INIT_N_BB))\n",
    "print('initial number of cc = {}'.format(INIT_N_CC))"
   ]
  },
  {
   "cell_type": "code",
   "execution_count": 1,
   "id": "complimentary-healthcare",
   "metadata": {},
   "outputs": [
    {
     "ename": "NameError",
     "evalue": "name 'np' is not defined",
     "output_type": "error",
     "traceback": [
      "\u001b[0;31m---------------------------------------------------------------------------\u001b[0m",
      "\u001b[0;31mNameError\u001b[0m                                 Traceback (most recent call last)",
      "\u001b[0;32m<ipython-input-1-dbcbdc9cb337>\u001b[0m in \u001b[0;36m<module>\u001b[0;34m\u001b[0m\n\u001b[1;32m      1\u001b[0m \u001b[0mvariable\u001b[0m \u001b[0;34m=\u001b[0m \u001b[0;34m'EVT_ThrustEmax_E'\u001b[0m\u001b[0;34m\u001b[0m\u001b[0;34m\u001b[0m\u001b[0m\n\u001b[1;32m      2\u001b[0m \u001b[0;34m\u001b[0m\u001b[0m\n\u001b[0;32m----> 3\u001b[0;31m \u001b[0mnb_bins\u001b[0m \u001b[0;34m=\u001b[0m \u001b[0mint\u001b[0m\u001b[0;34m(\u001b[0m\u001b[0;36m50\u001b[0m\u001b[0;34m/\u001b[0m\u001b[0mnp\u001b[0m\u001b[0;34m.\u001b[0m\u001b[0msqrt\u001b[0m\u001b[0;34m(\u001b[0m\u001b[0mN_Z0_init\u001b[0m\u001b[0;34m/\u001b[0m\u001b[0mN_Z0\u001b[0m\u001b[0;34m)\u001b[0m\u001b[0;34m)\u001b[0m\u001b[0;34m\u001b[0m\u001b[0;34m\u001b[0m\u001b[0m\n\u001b[0m\u001b[1;32m      4\u001b[0m \u001b[0mmin_bin\u001b[0m \u001b[0;34m=\u001b[0m \u001b[0;36m20\u001b[0m\u001b[0;34m\u001b[0m\u001b[0;34m\u001b[0m\u001b[0m\n\u001b[1;32m      5\u001b[0m \u001b[0mmax_bin\u001b[0m \u001b[0;34m=\u001b[0m \u001b[0;36m50\u001b[0m\u001b[0;34m\u001b[0m\u001b[0;34m\u001b[0m\u001b[0m\n",
      "\u001b[0;31mNameError\u001b[0m: name 'np' is not defined"
     ]
    }
   ],
   "source": [
    "variable = 'EVT_ThrustEmax_E'\n",
    "\n",
    "nb_bins = int(50/np.sqrt(N_Z0_init/N_Z0))\n",
    "min_bin = 20\n",
    "max_bin = 50\n",
    "\n",
    "name_bc = r\"$B_c^+$ $\\rightarrow$ $\\tau^+$ $\\nu_\\tau$ \"\n",
    "name_bu = r\"$B^+$ $\\rightarrow$ $\\tau^+$ $\\nu_\\tau$ \"\n",
    "name_bb = r\"$Z^0$ $\\rightarrow$ $b\\bar{b}$ \"\n",
    "name_cc = r\"$Z^0$ $\\rightarrow$ $c\\bar{c}$ \"\n",
    "\n",
    "colour_bc = \"#fdae61\"#\"#fdae61\" #\"#fee090\" #\"#756bb1\"\n",
    "colour_bu = \"#74add1\"#\"#abd9e9\" #\"#3182bd\" #\"#2c7fb8\" #\n",
    "colour_bb = \"#4575b4\"#\"#74add1\" #43a2ca\" #\"#edf8b1\" #\"#a6bddb\"\n",
    "colour_cc = \"#313695\"#\"#4575b4\" #\"#9ecae1\" #\"#7fcdbb\" #\n",
    "\n",
    "counts_bc, bins_bc = np.histogram(bc_sig[variable], bins = nb_bins, range = (min_bin, max_bin))\n",
    "counts_bu, bins_bu = np.histogram(bu_bkg[variable], bins = nb_bins, range = (min_bin, max_bin))\n",
    "counts_bb, bins_bb = np.histogram(bb_bkg[variable], bins = nb_bins, range = (min_bin, max_bin))\n",
    "counts_cc, bins_cc = np.histogram(cc_bkg[variable], bins = nb_bins, range = (min_bin, max_bin))\n",
    "\n",
    "\n",
    "#Normalized plot\n",
    "counts_bc = (counts_bc/np.sum(counts_bc)) * INIT_N_BC\n",
    "counts_bu = (counts_bu/np.sum(counts_bu)) * INIT_N_BU\n",
    "counts_bb = (counts_bb/np.sum(counts_bb)) * INIT_N_BB\n",
    "counts_cc = (counts_cc/np.sum(counts_cc)) * INIT_N_CC\n",
    "\n",
    "plt.figure(figsize=(10,6))\n",
    "plt.hist(bins_bc[:-1], bins_bc, weights=counts_bc, histtype='step', color= colour_bc, label=name_bc)\n",
    "plt.hist(bins_bu[:-1], bins_bu, weights=counts_bu, histtype='step', color= colour_bu, label=name_bu)\n",
    "plt.hist(bins_bb[:-1], bins_bb, weights=counts_bb, histtype='step', color= colour_bb, label=name_bb)\n",
    "plt.hist(bins_cc[:-1], bins_bb, weights=counts_cc, histtype='step', color= colour_cc, label=name_cc)\n",
    "\n",
    "plt.xlim(min_bin,max_bin)\n",
    "plt.xlabel(\"Hemisphere maximum energy [GeV]\", fontsize=15, labelpad=10)\n",
    "plt.ylabel(\"Number of events / {} GeV\".format(round((max_bin-min_bin)/nb_bins,3)), fontsize=15, labelpad=10)\n",
    "plt.tick_params(axis='both', which='major', labelsize=12)\n",
    "plt.legend(fontsize=15, loc='upper left')\n",
    "plt.show()\n",
    "\n",
    "\n",
    "#With the predicted yields\n",
    "counts_bc = (counts_bc/np.sum(counts_bc)) * INIT_N_BC\n",
    "counts_bu = (counts_bu/np.sum(counts_bu)) * INIT_N_BU\n",
    "counts_bb = (counts_bb/np.sum(counts_bb)) * INIT_N_BB\n",
    "counts_cc = (counts_cc/np.sum(counts_cc)) * INIT_N_CC\n",
    "\n",
    "plt.figure(figsize=(10,6))\n",
    "plt.hist(bins_bc[:-1], bins_bc, weights=counts_bc, histtype='step', color= colour_bc, label=name_bc)\n",
    "plt.hist(bins_bu[:-1], bins_bu, weights=counts_bu, histtype='step', color= colour_bu, label=name_bu)\n",
    "plt.hist(bins_bb[:-1], bins_bb, weights=counts_bb, histtype='step', color= colour_bb, label=name_bb)\n",
    "plt.hist(bins_cc[:-1], bins_bb, weights=counts_cc, histtype='step', color= colour_cc, label=name_cc)\n",
    "\n",
    "plt.xlim(min_bin,max_bin)\n",
    "plt.xlabel(\"Hemisphere maximum energy [GeV]\", fontsize=15, labelpad=10)\n",
    "plt.ylabel(\"Number of events / {} GeV\".format(round((max_bin-min_bin)/nb_bins,3)), fontsize=15, labelpad=10)\n",
    "plt.tick_params(axis='both', which='major', labelsize=12)\n",
    "plt.legend(fontsize=15, loc='upper left')\n",
    "plt.show()\n",
    "\n",
    "\n",
    "#Superposed with the predicted yields\n",
    "x = [bins_bb[:-1], bins_cc[:-1], bins_bu[:-1], bins_bc[:-1]]\n",
    "bins = bins_bc\n",
    "weights = [counts_cc, counts_bb, counts_bu, counts_bc ]\n",
    "colour = [colour_cc, colour_bb, colour_bu, colour_bc]\n",
    "name = [name_cc, name_bb, name_bu, name_bc]\n",
    "\n",
    "plt.figure(figsize=(10,6))\n",
    "counts, bin_edges, _ = plt.hist(x, bins, weights=weights, color=colour, label=name, stacked=True)\n",
    "bin_centres = (bin_edges[:-1]+ bin_edges[1:])/2\n",
    "err = np.sqrt(counts[3])\n",
    "plt.errorbar(bin_centres, counts[3], yerr=err, fmt='o', color='k', markersize=2)\n",
    "\n",
    "plt.xlim(min_bin,max_bin)\n",
    "plt.xlabel(\"Hemisphere maximum energy [GeV]\", fontsize=15, labelpad=10)\n",
    "plt.ylabel(\"Number of events / {} GeV\".format(round((max_bin-min_bin)/nb_bins,3)), fontsize=15, labelpad=10)\n",
    "plt.tick_params(axis='both', which='major', labelsize=12)\n",
    "plt.yscale('log')\n",
    "plt.legend(fontsize=15)\n",
    "plt.plot()"
   ]
  },
  {
   "cell_type": "code",
   "execution_count": null,
   "id": "enhanced-disposition",
   "metadata": {},
   "outputs": [],
   "source": []
  }
 ],
 "metadata": {
  "kernelspec": {
   "display_name": "Python 3",
   "language": "python",
   "name": "python3"
  },
  "language_info": {
   "codemirror_mode": {
    "name": "ipython",
    "version": 3
   },
   "file_extension": ".py",
   "mimetype": "text/x-python",
   "name": "python",
   "nbconvert_exporter": "python",
   "pygments_lexer": "ipython3",
   "version": "3.8.6"
  }
 },
 "nbformat": 4,
 "nbformat_minor": 5
}
