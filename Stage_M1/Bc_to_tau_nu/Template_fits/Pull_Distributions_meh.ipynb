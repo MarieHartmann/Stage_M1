{
 "cells": [
  {
   "cell_type": "markdown",
   "id": "conscious-plant",
   "metadata": {},
   "source": [
    "Pull distributions"
   ]
  },
  {
   "cell_type": "code",
   "execution_count": 1,
   "id": "powered-breakfast",
   "metadata": {},
   "outputs": [
    {
     "name": "stderr",
     "output_type": "stream",
     "text": [
      "/cvmfs/sft.cern.ch/lcg/releases/Python/3.8.6-3199b/x86_64-centos7-gcc8-opt/lib/python3.8/_collections_abc.py:832: MatplotlibDeprecationWarning: Support for setting the 'text.latex.preamble' or 'pgf.preamble' rcParam to a list of strings is deprecated since 3.3 and will be removed two minor releases later; set it to a single string instead.\n",
      "  self[key] = other[key]\n"
     ]
    }
   ],
   "source": [
    "import pandas\n",
    "import uproot\n",
    "import matplotlib.pyplot as plt\n",
    "import numpy as np\n",
    "import scipy.interpolate as interpolate\n",
    "import pickle\n",
    "\n",
    "from matplotlib import rc\n",
    "rc('font',**{'family':'serif','serif':['Roman']})\n",
    "rc('text', usetex=True)\n",
    "params= {'text.latex.preamble' : [r'\\usepackage{amsmath}']}\n",
    "plt.rcParams.update(params)\n",
    "plt.rcParams['text.latex.preamble'] = r\"\\usepackage{bm} \\usepackage{amsmath}\""
   ]
  },
  {
   "cell_type": "code",
   "execution_count": 3,
   "id": "wicked-wales",
   "metadata": {},
   "outputs": [],
   "source": [
    "N_Z0 = np.array([5e11, 1e12, 2e12, 3e12, 4e12, 5e12])"
   ]
  },
  {
   "cell_type": "code",
   "execution_count": 4,
   "id": "mysterious-color",
   "metadata": {},
   "outputs": [
    {
     "ename": "NameError",
     "evalue": "name 'ERR_SIG' is not defined",
     "output_type": "error",
     "traceback": [
      "\u001b[0;31m---------------------------------------------------------------------------\u001b[0m",
      "\u001b[0;31mNameError\u001b[0m                                 Traceback (most recent call last)",
      "\u001b[0;32m<ipython-input-4-87412b427f78>\u001b[0m in \u001b[0;36m<module>\u001b[0;34m\u001b[0m\n\u001b[1;32m     27\u001b[0m \u001b[0mFIT_ERR_SIG\u001b[0m \u001b[0;34m=\u001b[0m \u001b[0mnp\u001b[0m\u001b[0;34m.\u001b[0m\u001b[0marray\u001b[0m\u001b[0;34m(\u001b[0m\u001b[0;34m[\u001b[0m\u001b[0merr_sig_yield_5e11\u001b[0m\u001b[0;34m,\u001b[0m \u001b[0merr_sig_yield_1e12\u001b[0m\u001b[0;34m,\u001b[0m \u001b[0merr_sig_yield_2e12\u001b[0m\u001b[0;34m,\u001b[0m \u001b[0merr_sig_yield_3e12\u001b[0m\u001b[0;34m,\u001b[0m \u001b[0merr_sig_yield_4e12\u001b[0m\u001b[0;34m,\u001b[0m \u001b[0merr_sig_yield_5e12\u001b[0m\u001b[0;34m]\u001b[0m\u001b[0;34m)\u001b[0m\u001b[0;34m\u001b[0m\u001b[0;34m\u001b[0m\u001b[0m\n\u001b[1;32m     28\u001b[0m \u001b[0;34m\u001b[0m\u001b[0m\n\u001b[0;32m---> 29\u001b[0;31m \u001b[0mREL_PREC_SIG\u001b[0m \u001b[0;34m=\u001b[0m \u001b[0mERR_SIG\u001b[0m\u001b[0;34m/\u001b[0m\u001b[0mSIG\u001b[0m\u001b[0;34m\u001b[0m\u001b[0;34m\u001b[0m\u001b[0m\n\u001b[0m",
      "\u001b[0;31mNameError\u001b[0m: name 'ERR_SIG' is not defined"
     ]
    }
   ],
   "source": [
    "N_SIG_5e12 = 4009.2649482816005\n",
    "sig_yield_5e12 = 4010\n",
    "err_sig_yield_5e12 = 125.2\n",
    "\n",
    "N_SIG_4e12 = 3207.4119586252805\n",
    "sig_yield_4e12 = 3214\n",
    "err_sig_yield_4e12 = 110.6\n",
    "\n",
    "N_SIG_3e12 = 2405.55896896896\n",
    "sig_yield_3e12 = 2403\n",
    "err_sig_yield_3e12 = 98.76\n",
    "\n",
    "N_SIG_2e12 = 1603.7059793126402\n",
    "sig_yield_2e12 = 1607\n",
    "err_sig_yield_2e12 = 80.78\n",
    "\n",
    "N_SIG_1e12 = 801.8529896563201\n",
    "sig_yield_1e12 = 804\n",
    "err_sig_yield_1e12 = 57.34\n",
    "\n",
    "N_SIG_5e11 = 400.92649482816006\n",
    "sig_yield_5e11 = 399.2\n",
    "err_sig_yield_5e11 = 40.26\n",
    "\n",
    "GEN_SIG = np.array([N_SIG_5e11, N_SIG_1e12, N_SIG_2e12, N_SIG_3e12, N_SIG_4e12, N_SIG_5e12])\n",
    "FIT_SIG = np.array([sig_yield_5e11, sig_yield_1e12, sig_yield_2e12, sig_yield_3e12, sig_yield_4e12, sig_yield_5e12])\n",
    "FIT_ERR_SIG = np.array([err_sig_yield_5e11, err_sig_yield_1e12, err_sig_yield_2e12, err_sig_yield_3e12, err_sig_yield_4e12, err_sig_yield_5e12])\n"
   ]
  },
  {
   "cell_type": "code",
   "execution_count": 7,
   "id": "humanitarian-board",
   "metadata": {},
   "outputs": [],
   "source": [
    "N_BU_BKG_5e12 = 241.47796710240002\n",
    "bu_bkg_yield_5e12 = 241.6\n",
    "err_bu_bkg_yield_5e12 = 5.638\n",
    "\n",
    "N_BU_BKG_4e12 = 193.18237368191998\n",
    "bu_bkg_yield_4e12 = 193.8\n",
    "err_bu_bkg_yield_4e12 = 5.21\n",
    "\n",
    "N_BU_BKG_3e12 = 144.88678026144\n",
    "bu_bkg_yield_3e12 = 144.7\n",
    "err_bu_bkg_yield_3e12 = 4.232\n",
    "\n",
    "N_BU_BKG_2e12 = 96.59118684095999\n",
    "bu_bkg_yield_2e12 = 96.89\n",
    "err_bu_bkg_yield_2e12 = 3.47\n",
    "\n",
    "N_BU_BKG_1e12 = 48.295593420479996\n",
    "bu_bkg_yield_1e12 = 48.3\n",
    "err_bu_bkg_yield_1e12 = 2.444\n",
    "\n",
    "N_BU_BKG_5e11 = 24.147796710239998\n",
    "bu_bkg_yield_5e11 = 24.18\n",
    "err_bu_bkg_yield_5e11 = 1.545\n",
    "\n",
    "GEN_BU = np.array([N_BU_BKG_5e11, N_BU_BKG_1e12, N_BU_BKG_2e12, N_BU_BKG_3e12, N_BU_BKG_4e12, N_BU_BKG_5e12])\n",
    "FIT_BU = np.array([bu_bkg_yield_5e11, bu_bkg_yield_1e12, bu_bkg_yield_2e12, bu_bkg_yield_3e12, bu_bkg_yield_4e12, bu_bkg_yield_5e12])\n",
    "FIT_ERR_BU = np.array([err_bu_bkg_yield_5e11, err_bu_bkg_yield_1e12, err_bu_bkg_yield_2e12, err_bu_bkg_yield_3e12, err_bu_bkg_yield_4e12, err_bu_bkg_yield_5e12])"
   ]
  },
  {
   "cell_type": "code",
   "execution_count": 8,
   "id": "dietary-professor",
   "metadata": {},
   "outputs": [],
   "source": [
    "N_INC_BKG_5e12 = 4231.413002270805\n",
    "inc_bkg_yield_5e12 = 4227\n",
    "err_inc_bkg_yield_5e12 = 126.3\n",
    "\n",
    "N_INC_BKG_4e12 = 3385.130401816644\n",
    "inc_bkg_yield_4e12 = 3380\n",
    "err_inc_bkg_yield_4e12 = 110.5\n",
    "\n",
    "N_INC_BKG_3e12 = 2538.8478013624826\n",
    "inc_bkg_yield_3e12 = 2537\n",
    "err_inc_bkg_yield_3e12 = 96.21\n",
    "\n",
    "N_INC_BKG_2e12 = 1692.565200908322\n",
    "inc_bkg_yield_2e12 = 1689\n",
    "err_inc_bkg_yield_2e12 = 79.08\n",
    "\n",
    "N_INC_BKG_1e12 = 846.282600454161\n",
    "inc_bkg_yield_1e12 = 844.4\n",
    "err_inc_bkg_yield_1e12 = 55.41\n",
    "\n",
    "N_INC_BKG_5e11 = 423.1413002270805\n",
    "inc_bkg_yield_5e11 = 424\n",
    "err_inc_bkg_yield_5e11 = 40.4\n",
    "\n",
    "GEN_INC_BKG = np.array([N_INC_BKG_5e11, N_INC_BKG_1e12, N_INC_BKG_2e12, N_INC_BKG_3e12, N_INC_BKG_4e12, N_INC_BKG_5e12])\n",
    "FIT_INC_BKG = np.array([inc_bkg_yield_5e11, inc_bkg_yield_1e12, inc_bkg_yield_2e12, inc_bkg_yield_3e12, inc_bkg_yield_4e12, inc_bkg_yield_5e12])\n",
    "FIT_ERR_INC_BKG = np.array([err_inc_bkg_yield_5e11, err_inc_bkg_yield_1e12, err_inc_bkg_yield_2e12, err_inc_bkg_yield_3e12, err_inc_bkg_yield_4e12, err_inc_bkg_yield_5e12])"
   ]
  },
  {
   "cell_type": "code",
   "execution_count": 9,
   "id": "retired-penalty",
   "metadata": {},
   "outputs": [],
   "source": [
    "Pull_Sig = (FIT_SIG - GEN_SIG) / FIT_ERR_SIG\n",
    "Pull_Bu = (FIT_BU - GEN_BU) / FIT_ERR_BU\n",
    "Pull_Inc_Bkg = (FIT_INC_BKG - GEN_INC_BKG) /FIT_ERR_INC_BKG"
   ]
  },
  {
   "cell_type": "markdown",
   "id": "helpful-horizon",
   "metadata": {},
   "source": [
    "sigma_sig = 0 \n",
    "mean_sig = 0\n",
    "for elt in Pull_Sig :\n",
    "    sigma_sig += elt**2\n",
    "    mean_sig += elt\n",
    "\n",
    "mean_sig = mean_sig/len(Pull_Sig)\n",
    "sigma_sig = sigma_sig/len(Pull_Sig)\n",
    "sigma_sig = sigma_sig - mean_sig**2\n",
    "sigma_sig = np.sqrt(sigma_sig)"
   ]
  },
  {
   "cell_type": "code",
   "execution_count": 26,
   "id": "equivalent-password",
   "metadata": {},
   "outputs": [
    {
     "name": "stdout",
     "output_type": "stream",
     "text": [
      "0.012477326994512957\n",
      "0.037021929101561483\n",
      " \n",
      "0.012477326994512957\n",
      "0.037021929101561483\n",
      "0.03413594746789528\n",
      "0.053745184352030434\n",
      "-0.02639664673700598\n",
      "0.023105973489183525\n"
     ]
    }
   ],
   "source": [
    "Mean_Sig = np.mean(Pull_Sig)\n",
    "Sigma_Sig = np.std(Pull_Sig) \n",
    "\n",
    "print(Mean_Sig)\n",
    "print(Sigma_Sig)\n",
    "\n",
    "Mean_Bu = np.mean(Pull_Bu)\n",
    "Sigma_Bu = np.std(Pull_Bu) \n",
    "\n",
    "print(Mean_Bu)\n",
    "print(Sigma_Bu)\n",
    "\n",
    "Mean_Inc_Bkg = np.mean(Pull_Inc_Bkg)\n",
    "Sigma_Inc_Bkg = np.std(Pull_Inc_Bkg) \n",
    "\n",
    "print(Mean_Inc_Bkg)\n",
    "print(Sigma_Inc_Bkg)"
   ]
  },
  {
   "cell_type": "code",
   "execution_count": 14,
   "id": "funky-healing",
   "metadata": {},
   "outputs": [],
   "source": [
    "colour_bc = \"#fdae61\"\n",
    "colour_bu = \"#74add1\"\n",
    "colour_bb_cc = \"#4575b4\""
   ]
  },
  {
   "cell_type": "code",
   "execution_count": 36,
   "id": "individual-boutique",
   "metadata": {},
   "outputs": [
    {
     "name": "stderr",
     "output_type": "stream",
     "text": [
      "No handles with labels found to put in legend.\n"
     ]
    },
    {
     "data": {
      "text/plain": [
       "[]"
      ]
     },
     "execution_count": 36,
     "metadata": {},
     "output_type": "execute_result"
    },
    {
     "data": {
      "image/png": "[encoded data removed]",
      "text/plain": [
       "<Figure size 720x432 with 1 Axes>"
      ]
     },
     "metadata": {
      "needs_background": "light"
     },
     "output_type": "display_data"
    }
   ],
   "source": [
    "plt.figure(figsize=(10,6))\n",
    "\n",
    "#Yield and errors obtained with the fits for the optimized cut\n",
    "plt.errorbar(N_Z0, \n",
    "             Pull_Sig, \n",
    "             #yerr = ERR_SIG,\n",
    "             fmt = 'o', \n",
    "             markersize = 5,\n",
    "             color = colour_bc \n",
    "             #label = \"Fit value\"\n",
    "            )\n",
    "\n",
    "plt.xlabel(\"Number of $Z^0$ bosons\", fontsize=15, labelpad=10)\n",
    "plt.ylabel(r\"Pull distributio of the $B_c^+$ $\\rightarrow$ $\\tau^+$ $\\nu_\\tau$ signal yield\", fontsize=15, labelpad=10)\n",
    "\n",
    "plt.tick_params(axis='both', which='major', labelsize=12)\n",
    "plt.legend(fontsize=13)\n",
    "plt.title(\"Mean = {} and Sigma = {}\".format(round(Mean_Sig,3), round(Sigma_Sig,3)), fontsize=15)\n",
    "\n",
    "plt.plot()"
   ]
  },
  {
   "cell_type": "code",
   "execution_count": 34,
   "id": "coated-sellers",
   "metadata": {},
   "outputs": [
    {
     "name": "stderr",
     "output_type": "stream",
     "text": [
      "No handles with labels found to put in legend.\n"
     ]
    },
    {
     "data": {
      "text/plain": [
       "[]"
      ]
     },
     "execution_count": 34,
     "metadata": {},
     "output_type": "execute_result"
    },
    {
     "data": {
      "image/png": "[encoded data removed]",
      "text/plain": [
       "<Figure size 720x432 with 1 Axes>"
      ]
     },
     "metadata": {
      "needs_background": "light"
     },
     "output_type": "display_data"
    }
   ],
   "source": [
    "plt.figure(figsize=(10,6))\n",
    "\n",
    "#Yield and errors obtained with the fits for the optimized cut\n",
    "plt.errorbar(N_Z0, \n",
    "             Pull_Bu, \n",
    "             #yerr = ERR_BU,\n",
    "             fmt = 'o', \n",
    "             markersize = 5,\n",
    "             color = colour_bu, \n",
    "             #label = \"Fit value\"\n",
    "            )\n",
    "\n",
    "plt.xlabel(\"Number of $Z^0$ bosons\", fontsize=15, labelpad=10)\n",
    "plt.ylabel(r\"Pull distribution for $B^+$ $\\rightarrow$ $\\tau^+$ $\\nu_\\tau$ yield\", fontsize=15, labelpad=10)\n",
    "\n",
    "plt.tick_params(axis='both', which='major', labelsize=12)\n",
    "plt.legend(fontsize=13)\n",
    "plt.title(\"Mean = {} and Sigma = {}\".format(round(Mean_Bu,3), round(Sigma_Bu,3)), fontsize=15)\n",
    "\n",
    "plt.plot()"
   ]
  },
  {
   "cell_type": "code",
   "execution_count": 39,
   "id": "still-hardwood",
   "metadata": {},
   "outputs": [
    {
     "name": "stderr",
     "output_type": "stream",
     "text": [
      "No handles with labels found to put in legend.\n"
     ]
    },
    {
     "data": {
      "text/plain": [
       "[]"
      ]
     },
     "execution_count": 39,
     "metadata": {},
     "output_type": "execute_result"
    },
    {
     "data": {
      "image/png": "[encoded data removed]",
      "text/plain": [
       "<Figure size 720x432 with 1 Axes>"
      ]
     },
     "metadata": {
      "needs_background": "light"
     },
     "output_type": "display_data"
    }
   ],
   "source": [
    "plt.figure(figsize=(10,6))\n",
    "\n",
    "#Yield and errors obtained with the fits for the optimized cut\n",
    "plt.errorbar(N_Z0, \n",
    "             Pull_Inc_Bkg, \n",
    "             #yerr = ERR_INC_BKG,\n",
    "             fmt = 'o', \n",
    "             markersize = 5,\n",
    "             color = colour_bb_cc \n",
    "             #label = \"Fit value\"\n",
    "             )\n",
    "\n",
    "plt.xlabel(\"Number of $Z^0$ bosons\", fontsize=15, labelpad=10)\n",
    "plt.ylabel(r\"Pull distribution for the $Z^0$ $\\rightarrow$ $b\\bar{b}$/$c\\bar{c}$ yield \", fontsize=15, labelpad=10)\n",
    "#plt.xscale('log')\n",
    "#plt.yscale('log')\n",
    "\n",
    "plt.tick_params(axis='both', which='major', labelsize=12)\n",
    "plt.legend(fontsize=13)\n",
    "plt.title(\"Mean = {} and Sigma = {}\".format(round(Mean_Inc_Bkg,3), round(Sigma_Inc_Bkg,3)), fontsize=15)\n",
    "\n",
    "plt.plot()"
   ]
  },
  {
   "cell_type": "code",
   "execution_count": null,
   "id": "computational-artist",
   "metadata": {},
   "outputs": [],
   "source": []
  }
 ],
 "metadata": {
  "kernelspec": {
   "display_name": "Python 3",
   "language": "python",
   "name": "python3"
  },
  "language_info": {
   "codemirror_mode": {
    "name": "ipython",
    "version": 3
   },
   "file_extension": ".py",
   "mimetype": "text/x-python",
   "name": "python",
   "nbconvert_exporter": "python",
   "pygments_lexer": "ipython3",
   "version": "3.8.6"
  }
 },
 "nbformat": 4,
 "nbformat_minor": 5
}
