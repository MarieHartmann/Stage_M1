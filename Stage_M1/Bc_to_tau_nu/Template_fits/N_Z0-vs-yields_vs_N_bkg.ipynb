{
 "cells": [
  {
   "cell_type": "markdown",
   "id": "separate-ceiling",
   "metadata": {},
   "source": [
    "Plot the signal yield vs the number of $Z^0$"
   ]
  },
  {
   "cell_type": "code",
   "execution_count": 1,
   "id": "sealed-veteran",
   "metadata": {},
   "outputs": [
    {
     "name": "stderr",
     "output_type": "stream",
     "text": [
      "/Users/mariehartmann/opt/anaconda3/envs/myenv38/lib/python3.8/_collections_abc.py:832: MatplotlibDeprecationWarning: Support for setting the 'text.latex.preamble' or 'pgf.preamble' rcParam to a list of strings is deprecated since 3.3 and will be removed two minor releases later; set it to a single string instead.\n",
      "  self[key] = other[key]\n"
     ]
    }
   ],
   "source": [
    "import pandas\n",
    "import uproot\n",
    "import matplotlib.pyplot as plt\n",
    "import numpy as np\n",
    "import scipy.interpolate as interpolate\n",
    "import pickle\n",
    "\n",
    "from matplotlib import rc\n",
    "rc('font',**{'family':'serif','serif':['Roman']})\n",
    "rc('text', usetex=True)\n",
    "params= {'text.latex.preamble' : [r'\\usepackage{amsmath}']}\n",
    "plt.rcParams.update(params)\n",
    "plt.rcParams['text.latex.preamble'] = r\"\\usepackage{bm} \\usepackage{amsmath}\""
   ]
  },
  {
   "cell_type": "code",
   "execution_count": 2,
   "id": "increasing-costa",
   "metadata": {},
   "outputs": [],
   "source": [
    "#Dowloading the data\n",
    "bc_tree = uproot.open('root://eospublic.cern.ch//eos/experiment/fcc/ee/analyses/case-studies/flavour/Bc2TauNu/flatNtuples/spring2021/prod_04/Analysis_stage2/p8_ee_Zbb_ecm91_EvtGen_Bc2TauNuTAUHADNU.root')['events']\n",
    "bu_tree = uproot.open('root://eospublic.cern.ch//eos/experiment/fcc/ee/analyses/case-studies/flavour/Bc2TauNu/flatNtuples/spring2021/prod_04/Analysis_stage2/p8_ee_Zbb_ecm91_EvtGen_Bu2TauNuTAUHADNU.root')['events']\n",
    "bb_tree = uproot.open('root://eospublic.cern.ch//eos/experiment/fcc/ee/analyses/case-studies/flavour/Bc2TauNu/flatNtuples/spring2021/prod_04/Analysis_stage2/p8_ee_Zbb_ecm91_EvtGen.root')['events']\n",
    "cc_tree = uproot.open('root://eospublic.cern.ch//eos/experiment/fcc/ee/analyses/case-studies/flavour/Bc2TauNu/flatNtuples/spring2021/prod_04/Analysis_stage2/p8_ee_Zcc_ecm91.root')['events']\n",
    "\n",
    "tree_gen = uproot.open(\"root://eospublic.cern.ch//eos/experiment/fcc/ee/analyses/case-studies/flavour/Bc2TauNu/flatNtuples/spring2021/prod_04/Analysis_stage2/p8_ee_Zbb_ecm91_EvtGen_Bc2TauNuTAUHADNU.root\")[\"metadata\"]"
   ]
  },
  {
   "cell_type": "markdown",
   "id": "african-heath",
   "metadata": {},
   "source": [
    "## Initializatoin of the yield and yield errors"
   ]
  },
  {
   "cell_type": "markdown",
   "id": "continued-preparation",
   "metadata": {},
   "source": [
    "a = np.array([4,2,5])\n",
    "b = np.array([2,1,5])\n",
    "print(a/b)"
   ]
  },
  {
   "cell_type": "markdown",
   "id": "c6b605cd",
   "metadata": {},
   "source": [
    "N_Z0 = np.array([(5e11, 1e12, 2e12, 3e12, 4e12, 5e12)])"
   ]
  },
  {
   "cell_type": "markdown",
   "id": "d2cebb7d",
   "metadata": {},
   "source": [
    "N_bkg = np.array([0.1, 0.25, 1, 5, 10])\n",
    "N_bkg = N_bkg*4231.413002270805"
   ]
  },
  {
   "cell_type": "markdown",
   "id": "d0a72069",
   "metadata": {},
   "source": [
    "##### N($Z^0$) = 5e12"
   ]
  },
  {
   "cell_type": "code",
   "execution_count": 10,
   "id": "robust-isaac",
   "metadata": {},
   "outputs": [],
   "source": [
    "#N_SIG_10 = 4009.2649482816005\n",
    "sig_yield_10 = 4004\n",
    "err_sig_yield_10 = 239.5\n",
    "\n",
    "#N_SIG_5 = 4009.2649482816005\n",
    "sig_yield_5 = 4011\n",
    "err_sig_yield_5 = 190.3\n",
    "\n",
    "#N_SIG_1 = 4009.2649482816005\n",
    "sig_yield_1 = 4010\n",
    "err_sig_yield_1 = 125.2\n",
    "\n",
    "#N_SIG_0_25 = 4009.2649482816005\n",
    "sig_yield_0_25 = 4011\n",
    "err_sig_yield_0_25 = 103.4\n",
    "\n",
    "#N_SIG_0_1 = 4009.2649482816005\n",
    "sig_yield_0_1 = 4008\n",
    "err_sig_yield_0_1 = 98\n",
    "\n",
    "#N_SIG = np.array([N_SIG_0_1, N_SIG_0_25, N_SIG_1, N_SIG_5, N_SIG_10])\n",
    "SIG_5e12 = np.array([sig_yield_0_1, sig_yield_0_25, sig_yield_1, sig_yield_5, sig_yield_10])\n",
    "ERR_SIG_5e12 = np.array([err_sig_yield_0_1, err_sig_yield_0_25, err_sig_yield_1, err_sig_yield_5, err_sig_yield_10])\n",
    "\n",
    "REL_PREC_SIG_5e12 = ERR_SIG_5e12/SIG_5e12"
   ]
  },
  {
   "cell_type": "markdown",
   "id": "3ec30469",
   "metadata": {},
   "source": [
    "##### N($Z^0$) = 4e12"
   ]
  },
  {
   "cell_type": "code",
   "execution_count": 11,
   "id": "ab7f7299",
   "metadata": {},
   "outputs": [],
   "source": [
    "#N_SIG = 3207.4119586252805\n",
    "\n",
    "sig_yield_10 = 3210\n",
    "err_sig_yield_10 = 216.1\n",
    "\n",
    "sig_yield_5 = 3209\n",
    "err_sig_yield_5 = 169.4\n",
    "\n",
    "sig_yield_1 = 3214\n",
    "err_sig_yield_1 = 110.6\n",
    "\n",
    "sig_yield_0_25 = 3205\n",
    "err_sig_yield_0_25 = 90.12\n",
    "\n",
    "sig_yield_0_1 = 3208\n",
    "err_sig_yield_0_1 = 94.39\n",
    "\n",
    "SIG_4e12 = np.array([sig_yield_0_1, sig_yield_0_25, sig_yield_1, sig_yield_5, sig_yield_10])\n",
    "ERR_SIG_4e12 = np.array([err_sig_yield_0_1, err_sig_yield_0_25, err_sig_yield_1, err_sig_yield_5, err_sig_yield_10])\n",
    "\n",
    "REL_PREC_SIG_4e12 = ERR_SIG_4e12/SIG_4e12"
   ]
  },
  {
   "cell_type": "markdown",
   "id": "7947ba93",
   "metadata": {},
   "source": [
    "##### N($Z^0$) = 3e12"
   ]
  },
  {
   "cell_type": "code",
   "execution_count": 12,
   "id": "e614c7e6",
   "metadata": {},
   "outputs": [],
   "source": [
    "sig_yield_10 = 2411\n",
    "err_sig_yield_10 = 185\n",
    "\n",
    "sig_yield_5 = 2409\n",
    "err_sig_yield_5 = 144\n",
    "\n",
    "sig_yield_1 = 2403\n",
    "err_sig_yield_1 = 98.76\n",
    "\n",
    "sig_yield_0_25 = 2403\n",
    "err_sig_yield_0_25 = 83.39\n",
    "\n",
    "sig_yield_0_1 = 2408\n",
    "err_sig_yield_0_1 = 78.42\n",
    "\n",
    "SIG_3e12 = np.array([sig_yield_0_1, sig_yield_0_25, sig_yield_1, sig_yield_5, sig_yield_10])\n",
    "ERR_SIG_3e12 = np.array([err_sig_yield_0_1, err_sig_yield_0_25, err_sig_yield_1, err_sig_yield_5, err_sig_yield_10])\n",
    "\n",
    "REL_PREC_SIG_3e12 = ERR_SIG_3e12/SIG_3e12"
   ]
  },
  {
   "cell_type": "markdown",
   "id": "0d550301",
   "metadata": {},
   "source": [
    "##### N($Z^0$) = 2e12"
   ]
  },
  {
   "cell_type": "code",
   "execution_count": 13,
   "id": "6fed102d",
   "metadata": {},
   "outputs": [],
   "source": [
    "sig_yield_10 = 1591\n",
    "err_sig_yield_10 = 153.3\n",
    "\n",
    "sig_yield_5 = 1601\n",
    "err_sig_yield_5 = 117.4\n",
    "\n",
    "sig_yield_1 = 1607\n",
    "err_sig_yield_1 = 80.78\n",
    "\n",
    "sig_yield_0_25 = 1603\n",
    "err_sig_yield_0_25 = 67.63\n",
    "\n",
    "sig_yield_0_1 = 1602\n",
    "err_sig_yield_0_1 = 64.38\n",
    "\n",
    "SIG_2e12 = np.array([sig_yield_0_1, sig_yield_0_25, sig_yield_1, sig_yield_5, sig_yield_10])\n",
    "ERR_SIG_2e12 = np.array([err_sig_yield_0_1, err_sig_yield_0_25, err_sig_yield_1, err_sig_yield_5, err_sig_yield_10])\n",
    "\n",
    "REL_PREC_SIG_2e12 = ERR_SIG_2e12/SIG_2e12"
   ]
  },
  {
   "cell_type": "markdown",
   "id": "c8dba7ab",
   "metadata": {},
   "source": [
    "##### N($Z^0$) = 1e12"
   ]
  },
  {
   "cell_type": "code",
   "execution_count": 14,
   "id": "c9c66b5e",
   "metadata": {},
   "outputs": [],
   "source": [
    "sig_yield_10 = 803.1\n",
    "err_sig_yield_10 = 110.5\n",
    "\n",
    "sig_yield_5 = 800.6\n",
    "err_sig_yield_5 = 84.01\n",
    "\n",
    "sig_yield_1 = 804\n",
    "err_sig_yield_1 = 57.34\n",
    "\n",
    "sig_yield_0_25 = 800.5\n",
    "err_sig_yield_0_25 = 48.63\n",
    "\n",
    "sig_yield_0_1 = 800.6\n",
    "err_sig_yield_0_1 = 44.78\n",
    "\n",
    "SIG_1e12 = np.array([sig_yield_0_1, sig_yield_0_25, sig_yield_1, sig_yield_5, sig_yield_10])\n",
    "ERR_SIG_1e12 = np.array([err_sig_yield_0_1, err_sig_yield_0_25, err_sig_yield_1, err_sig_yield_5, err_sig_yield_10])\n",
    "\n",
    "REL_PREC_SIG_1e12 = ERR_SIG_1e12/SIG_1e12"
   ]
  },
  {
   "cell_type": "markdown",
   "id": "314f6223",
   "metadata": {},
   "source": [
    "##### N($Z^0$) = 5e11"
   ]
  },
  {
   "cell_type": "code",
   "execution_count": 15,
   "id": "98dbf944",
   "metadata": {},
   "outputs": [],
   "source": [
    "sig_yield_10 = 400.7 \n",
    "err_sig_yield_10 = 80.84\n",
    "\n",
    "sig_yield_5 = 401.1\n",
    "err_sig_yield_5 = 60.41\n",
    "\n",
    "sig_yield_1 = 399.2\n",
    "err_sig_yield_1 = 40.26\n",
    "\n",
    "sig_yield_0_25 = 401.8\n",
    "err_sig_yield_0_25 = 34.12\n",
    "\n",
    "sig_yield_0_1 = 400.7\n",
    "err_sig_yield_0_1 = 32.48\n",
    "\n",
    "SIG_5e11 = np.array([sig_yield_0_1, sig_yield_0_25, sig_yield_1, sig_yield_5, sig_yield_10])\n",
    "ERR_SIG_5e11 = np.array([err_sig_yield_0_1, err_sig_yield_0_25, err_sig_yield_1, err_sig_yield_5, err_sig_yield_10])\n",
    "\n",
    "REL_PREC_SIG_5e11 = ERR_SIG_5e11/SIG_5e11"
   ]
  },
  {
   "cell_type": "code",
   "execution_count": 16,
   "id": "0b8d955c",
   "metadata": {},
   "outputs": [],
   "source": [
    "Z0 = np.array([5e11, 1e12, 2e12, 3e12, 4e12, 5e12])\n",
    "SIG = np.array([SIG_5e11, SIG_1e12, SIG_2e12, SIG_3e12, SIG_4e12, SIG_5e12])\n",
    "ERR_SIG = np.array([ERR_SIG_5e11, ERR_SIG_1e12, ERR_SIG_2e12, ERR_SIG_3e12, ERR_SIG_4e12, ERR_SIG_5e12])\n",
    "REL_PREC_SIG = np.array([[REL_PREC_SIG_5e11, REL_PREC_SIG_1e12, REL_PREC_SIG_2e12, REL_PREC_SIG_3e12, REL_PREC_SIG_4e12, REL_PREC_SIG_5e12]])"
   ]
  },
  {
   "cell_type": "markdown",
   "id": "binary-myanmar",
   "metadata": {},
   "source": [
    "   "
   ]
  },
  {
   "cell_type": "markdown",
   "id": "entertaining-criterion",
   "metadata": {},
   "source": [
    "    "
   ]
  },
  {
   "cell_type": "markdown",
   "id": "imposed-doctor",
   "metadata": {},
   "source": [
    "## Yield vs N($Z^0$)"
   ]
  },
  {
   "cell_type": "markdown",
   "id": "645b1a74",
   "metadata": {},
   "source": [
    "name_bc = r\"$B_c^+$ $\\rightarrow$ $\\tau^+$ $\\nu_\\tau$ \"\n",
    "name_bu = r\"$B^+$ $\\rightarrow$ $\\tau^+$ $\\nu_\\tau$ \"\n",
    "name_bb = r\"$Z^0$ $\\rightarrow$ $b\\bar{b}$ \"\n",
    "name_cc = r\"$Z^0$ $\\rightarrow$ $c\\bar{c}$ \"\n",
    "\n",
    "colour_bc = \"#fdae61\"\n",
    "colour_bu = \"#74add1\"\n",
    "colour_bb_cc = \"#4575b4\""
   ]
  },
  {
   "cell_type": "markdown",
   "id": "vanilla-vancouver",
   "metadata": {},
   "source": [
    "### Signal yield vs number of $Z^0$"
   ]
  },
  {
   "cell_type": "markdown",
   "id": "ed9dab1e",
   "metadata": {},
   "source": [
    "plt.figure(figsize=(10,6))\n",
    "\n",
    "#Yield and errors obtained with the fits for the optimized cut\n",
    "plt.errorbar(N_bkg, \n",
    "             SIG, \n",
    "             yerr = ERR_SIG,\n",
    "             fmt = 'o', \n",
    "             markersize = 2,\n",
    "             color = 'black', #colour_bc, \n",
    "             label = \"Fit value\"\n",
    "             )\n",
    "\n",
    "#Theoretical yield value for the optimized cut\n",
    "plt.plot(N_bkg,\n",
    "         N_SIG,\n",
    "         color = colour_bc, \n",
    "         label = \"Theoretical value\"\n",
    "        )\n",
    "\n",
    "plt.xlabel(\"Number of background events for N($Z^0$) = 5e12\", fontsize=15, labelpad=10)\n",
    "plt.ylabel(r\"$B_c^+$ $\\rightarrow$ $\\tau^+$ $\\nu_\\tau$ signal yield\", fontsize=15, labelpad=10)\n",
    "#plt.xscale('log')\n",
    "\n",
    "plt.tick_params(axis='both', which='major', labelsize=12)\n",
    "plt.legend(fontsize=13, loc='upper left')\n",
    "\n",
    "plt.plot()"
   ]
  },
  {
   "cell_type": "markdown",
   "id": "czech-wright",
   "metadata": {},
   "source": [
    "### $B^+$ yield vs number of $Z^0$"
   ]
  },
  {
   "cell_type": "markdown",
   "id": "textile-polyester",
   "metadata": {},
   "source": [
    "plt.figure(figsize=(10,6))\n",
    "\n",
    "#Yield and errors obtained with the fits for the optimized cut\n",
    "plt.errorbar(N_Z0, \n",
    "             BU, \n",
    "             yerr = ERR_BU,\n",
    "             fmt = 'o', \n",
    "             markersize = 2,\n",
    "             color = \"black\", \n",
    "             label = \"Fit value\"\n",
    "             )\n",
    "\n",
    "#Theoretical yield value for the optimized cut\n",
    "plt.plot(N_Z0,\n",
    "         N_BU,\n",
    "         color = colour_bu, \n",
    "         label = \"Theoretical value\"\n",
    "        )\n",
    "\n",
    "plt.xlabel(\"Number of $Z^0$ bosons\", fontsize=15, labelpad=10)\n",
    "plt.ylabel(r\"$B^+$ $\\rightarrow$ $\\tau^+$ $\\nu_\\tau$ yield\", fontsize=15, labelpad=10)\n",
    "\n",
    "plt.tick_params(axis='both', which='major', labelsize=12)\n",
    "plt.legend(fontsize=13)\n",
    "\n",
    "plt.plot()"
   ]
  },
  {
   "cell_type": "markdown",
   "id": "loose-inclusion",
   "metadata": {},
   "source": [
    "### $Z^0$ $\\rightarrow$ $b\\bar{b}$ and $Z^0$ $\\rightarrow$ $c\\bar{c}$ background yield vs number of $Z^0$"
   ]
  },
  {
   "cell_type": "markdown",
   "id": "broken-fifth",
   "metadata": {},
   "source": [
    "plt.figure(figsize=(10,6))\n",
    "\n",
    "#Yield and errors obtained with the fits for the optimized cut\n",
    "plt.errorbar(N_Z0, \n",
    "             INC_BKG, \n",
    "             yerr = ERR_INC_BKG,\n",
    "             fmt = 'o', \n",
    "             markersize = 2,\n",
    "             color = 'black', \n",
    "             label = \"Fit value\"\n",
    "             )\n",
    "\n",
    "#Theoretical yield value for the optimized cut\n",
    "plt.plot(N_Z0,\n",
    "         N_INC_BKG,\n",
    "         color = colour_bb_cc, \n",
    "         label = \"Theoretical value\"\n",
    "        )\n",
    "\n",
    "plt.xlabel(\"Number of $Z^0$ bosons\", fontsize=15, labelpad=10)\n",
    "plt.ylabel(r\"$Z^0$ $\\rightarrow$ $b\\bar{b}$ and $Z^0$ $\\rightarrow$ $c\\bar{c}$ background yield \", fontsize=15, labelpad=10)\n",
    "#plt.xscale('log')\n",
    "#plt.yscale('log')\n",
    "\n",
    "plt.tick_params(axis='both', which='major', labelsize=12)\n",
    "plt.legend(fontsize=13)\n",
    "\n",
    "plt.plot()"
   ]
  },
  {
   "cell_type": "markdown",
   "id": "chronic-league",
   "metadata": {},
   "source": [
    "   "
   ]
  },
  {
   "cell_type": "markdown",
   "id": "intermediate-prototype",
   "metadata": {},
   "source": [
    "## Relative precision vs number of $Z^0$ bosons"
   ]
  },
  {
   "cell_type": "markdown",
   "id": "b2167d7b",
   "metadata": {},
   "source": [
    "colour = [\"#fee090\", \"#fdae61\", \"#f46d43\", \"#d73027\", \"#a50026\"]\n",
    "\n",
    "plt.figure(figsize=(10,6))\n",
    "\n",
    "for i in range (len(N_Z0)) :\n",
    "    plt.errorbar(N_Z0, \n",
    "             REL_PREC_SIG[:,i], \n",
    "             fmt = 'o', \n",
    "             markersize = 5,\n",
    "             color = colour[i],\n",
    "             label = \"Values for (expected background level) $\\times$ (X = {})\".format(N_bkg[i])\n",
    "             )\n",
    "\n",
    "plt.xlabel(r\"Number of Z^0$ bosons\", fontsize=15, labelpad=10)\n",
    "plt.ylabel(r\"Relative precision of the signal yield\", fontsize=15, labelpad=10)\n",
    "\n",
    "plt.tick_params(axis='both', which='major', labelsize=12)\n",
    "plt.legend(fontsize=13)\n",
    "\n",
    "plt.plot()"
   ]
  },
  {
   "cell_type": "markdown",
   "id": "5dff1d23",
   "metadata": {},
   "source": [
    "colour = [\"#fee090\", \"#fdae61\", \"#f46d43\", \"#d73027\", \"#a50026\"]\n",
    "plt.figure(figsize=(10,6))\n",
    "\n",
    "for i in range (len(N_bkg)) :\n",
    "    plt.errorbar(N_bkg[i], \n",
    "             REL_PREC_SIG[i], \n",
    "             fmt = 'o', \n",
    "             markersize = 5,\n",
    "             color = colour[i],\n",
    "             label = \"X = {}\".format(N_bkg[i])\n",
    "             )\n",
    "\n",
    "plt.xlabel(r\"(Expected number of background events for N($Z^0$) = 5e12) $\\times$ X\", fontsize=15, labelpad=10)\n",
    "plt.ylabel(r\"Relative precision of the signal yield\", fontsize=15, labelpad=10)\n",
    "\n",
    "plt.tick_params(axis='both', which='major', labelsize=12)\n",
    "plt.legend(fontsize=13)\n",
    "\n",
    "plt.plot()"
   ]
  },
  {
   "cell_type": "markdown",
   "id": "d6c16fbc",
   "metadata": {},
   "source": [
    "\n",
    "\n",
    "plt.figure(figsize=(10,6))\n",
    "\n",
    "#Yield and errors obtained with the fits for the optimized cut\n",
    "#plt.errorbar(N_bkg[2], \n",
    "            # REL_PREC_SIG[2], \n",
    "            # fmt = 'o', \n",
    "            # mfc = 'w',\n",
    "            # markersize = 7,\n",
    "            # color = \"#a50026\",\n",
    "             #label = r\"Relative precision for the background level expected value with N($Z^0$) = 5e12\"\n",
    "             #)\n",
    "\n",
    "plt.errorbar(N_bkg, \n",
    "             REL_PREC_SIG, \n",
    "             fmt = 'o', \n",
    "             markersize = 5,\n",
    "             color = colour\n",
    "             #label = \"Relative precision for an hypothetical number of background events\"\n",
    "             )\n",
    "\n",
    "\n",
    "\n",
    "\n",
    "plt.xlabel(\"Multiple of the expected number of background events for N($Z^0$) = 5e12\", fontsize=15, labelpad=10)\n",
    "plt.ylabel(r\"Relative precision of the signal yield\", fontsize=15, labelpad=10)\n",
    "\n",
    "plt.tick_params(axis='both', which='major', labelsize=12)\n",
    "plt.legend(fontsize=13)\n",
    "\n",
    "plt.plot()"
   ]
  },
  {
   "cell_type": "markdown",
   "id": "colonial-hybrid",
   "metadata": {},
   "source": [
    "## Plot with systematic uncertainties "
   ]
  },
  {
   "cell_type": "markdown",
   "id": "6faaa32d",
   "metadata": {},
   "source": [
    "X = np.array([0, 0.25, 0.5, 0.75, 1])\n",
    "TOT_ERR = np.sqrt(ERR_SIG**2 + (X*ERR_SIG)**2)"
   ]
  },
  {
   "cell_type": "markdown",
   "id": "1cf79a4f",
   "metadata": {},
   "source": [
    "X = np.array([0, 0.25, 0.5, 0.75, 1])\n",
    "colour = [\"#fee090\", \"#fdae61\", \"#f46d43\", \"#d73027\", \"#a50026\"]\n",
    "\n",
    "plt.figure(figsize=(10,6))\n",
    "\n",
    "for i in range (len(X)) :\n",
    "    TOT_ERR = np.sqrt(ERR_SIG**2 + (X[i]*ERR_SIG)**2)\n",
    "    \n",
    "    plt.errorbar(N_bkg, \n",
    "             SIG, \n",
    "             yerr = TOT_ERR,\n",
    "             fmt = 'o', \n",
    "             ls = 'solid',\n",
    "             markersize = 2,\n",
    "             color = colour[i], \n",
    "             label = \"X = {}\".format(X[i])\n",
    "             )\n",
    "\n",
    "\n",
    "plt.xlabel(\"Number of background events for N($Z^0$)=5e12\", fontsize=15, labelpad=10)\n",
    "plt.ylabel(r\"$B_c^+$ $\\rightarrow$ $\\tau^+$ $\\nu_\\tau$ signal yield with systematic errors of value X\", fontsize=15, labelpad=10)\n",
    "\n",
    "plt.tick_params(axis='both', which='major', labelsize=12)\n",
    "plt.legend(fontsize=13)\n",
    "\n",
    "plt.plot()\n",
    "\n",
    "plt.figure(figsize=(10,6))\n",
    "\n",
    "for i in range (len(X)) :\n",
    "    TOT_ERR = np.sqrt(ERR_SIG**2 + (X[i]*ERR_SIG)**2)\n",
    "    \n",
    "    plt.errorbar(N_bkg, \n",
    "             TOT_ERR/SIG, \n",
    "             fmt = 'o', \n",
    "             ls = 'solid',\n",
    "             markersize = 2,\n",
    "             color = colour[i], \n",
    "             label = \"X = {}\".format(X[i])\n",
    "             )\n",
    "\n",
    "plt.xlabel(\"Number of background events for N($Z^0$)=5e12\", fontsize=15, labelpad=10)\n",
    "plt.ylabel(r\"\\noindent Relative precision of the signal yield \\\\ with systematic errors of value X\", fontsize=15, labelpad=20)\n",
    "\n",
    "plt.tick_params(axis='both', which='major', labelsize=12)\n",
    "plt.legend(fontsize=13)\n",
    "\n",
    "plt.plot()"
   ]
  },
  {
   "cell_type": "markdown",
   "id": "dried-drilling",
   "metadata": {},
   "source": [
    "X = np.array([0, 0.25, 0.5, 0.75, 1])\n",
    "colour = [\"#e0f3f8\", \"#abd9e9\", \"#74add1\", \"#4575b4\", \"#313695\"]\n",
    "\n",
    "plt.figure(figsize=(10,6))\n",
    "\n",
    "for i in range (len(X)) :\n",
    "    TOT_ERR = np.sqrt(ERR_INC_BKG**2 + (X[i]*ERR_INC_BKG)**2)\n",
    "    \n",
    "    plt.errorbar(N_Z0, \n",
    "             TOT_ERR/INC_BKG, \n",
    "             fmt = 'o', \n",
    "             ls = 'solid',\n",
    "             markersize = 2,\n",
    "             color = colour[i], \n",
    "             label = \"X = {}\".format(X[i])\n",
    "             )\n",
    "\n",
    "plt.xlabel(\"Number of background events for N($Z^0$)=5e12\", fontsize=15, labelpad=10)\n",
    "plt.ylabel(r\"Relative precision for the $Z^0$$\\rightarrow$$b\\bar{b}$ and $Z^0$$\\rightarrow$$c\\bar{c}$ yield\", fontsize=15, labelpad=10)\n",
    "\n",
    "plt.tick_params(axis='both', which='major', labelsize=12)\n",
    "plt.legend(fontsize=13)\n",
    "\n",
    "plt.plot()"
   ]
  },
  {
   "cell_type": "markdown",
   "id": "norman-garden",
   "metadata": {},
   "source": [
    "X = np.array([0, 0.25, 0.5, 0.75, 1])\n",
    "colour = [\"#e0f3f8\", \"#abd9e9\", \"#74add1\", \"#4575b4\", \"#313695\"]\n",
    "\n",
    "plt.figure(figsize=(10,6))\n",
    "\n",
    "for i in range (len(X)) :\n",
    "    TOT_ERR = np.sqrt(ERR_BU**2 + (X[i]*ERR_BU)**2)\n",
    "    \n",
    "    plt.errorbar(N_Z0, \n",
    "             TOT_ERR/BU, \n",
    "             fmt = 'o', \n",
    "             ls = 'solid',\n",
    "             markersize = 2,\n",
    "             color = colour[i], \n",
    "             label = \"X = {}\".format(X[i])\n",
    "             )\n",
    "\n",
    "plt.xlabel(\"Number of $Z^0$ bosons\", fontsize=15, labelpad=10)\n",
    "plt.ylabel(r\"Relative precision for the $B^+$ $\\rightarrow$ $\\tau^+$ $\\nu_\\tau$ yield\", fontsize=15, labelpad=10)\n",
    "\n",
    "plt.tick_params(axis='both', which='major', labelsize=12)\n",
    "plt.legend(fontsize=13)\n",
    "\n",
    "plt.plot()"
   ]
  },
  {
   "cell_type": "code",
   "execution_count": 17,
   "id": "collect-going",
   "metadata": {},
   "outputs": [],
   "source": [
    "BKG_LEVEL = [0.1, 0.25, 1, 5, 10]"
   ]
  },
  {
   "cell_type": "code",
   "execution_count": 26,
   "id": "0b143978",
   "metadata": {},
   "outputs": [
    {
     "name": "stdout",
     "output_type": "stream",
     "text": [
      "[ 401.8  800.5 1603.  2403.  3205.  4011. ]\n",
      "[5.e+11 1.e+12 2.e+12 3.e+12 4.e+12 5.e+12]\n"
     ]
    }
   ],
   "source": [
    "print(SIG[:,1])\n",
    "print(Z0)"
   ]
  },
  {
   "cell_type": "code",
   "execution_count": 18,
   "id": "fe4c7b54",
   "metadata": {},
   "outputs": [],
   "source": [
    "colour = [\"#fee090\", \"#fdae61\", \"#f46d43\", \"#d73027\", \"#a50026\"]"
   ]
  },
  {
   "cell_type": "code",
   "execution_count": 27,
   "id": "e6890197",
   "metadata": {},
   "outputs": [
    {
     "ename": "ValueError",
     "evalue": "'x' and 'y' must have the same size",
     "output_type": "error",
     "traceback": [
      "\u001b[0;31m---------------------------------------------------------------------------\u001b[0m",
      "\u001b[0;31mValueError\u001b[0m                                Traceback (most recent call last)",
      "\u001b[0;32m<ipython-input-27-11714fc4d0ea>\u001b[0m in \u001b[0;36m<module>\u001b[0;34m\u001b[0m\n\u001b[1;32m      1\u001b[0m \u001b[0;32mfor\u001b[0m \u001b[0mj\u001b[0m \u001b[0;32min\u001b[0m \u001b[0mrange\u001b[0m \u001b[0;34m(\u001b[0m\u001b[0mlen\u001b[0m\u001b[0;34m(\u001b[0m\u001b[0mBKG_LEVEL\u001b[0m\u001b[0;34m)\u001b[0m\u001b[0;34m)\u001b[0m \u001b[0;34m:\u001b[0m\u001b[0;34m\u001b[0m\u001b[0;34m\u001b[0m\u001b[0m\n\u001b[1;32m      2\u001b[0m \u001b[0;34m\u001b[0m\u001b[0m\n\u001b[0;32m----> 3\u001b[0;31m     plt.errorbar(Z0, \n\u001b[0m\u001b[1;32m      4\u001b[0m              \u001b[0mREL_PREC_SIG\u001b[0m\u001b[0;34m[\u001b[0m\u001b[0;34m:\u001b[0m\u001b[0;34m,\u001b[0m\u001b[0mj\u001b[0m\u001b[0;34m]\u001b[0m\u001b[0;34m,\u001b[0m\u001b[0;34m\u001b[0m\u001b[0;34m\u001b[0m\u001b[0m\n\u001b[1;32m      5\u001b[0m              \u001b[0mfmt\u001b[0m \u001b[0;34m=\u001b[0m \u001b[0;34m'o'\u001b[0m\u001b[0;34m,\u001b[0m\u001b[0;34m\u001b[0m\u001b[0;34m\u001b[0m\u001b[0m\n",
      "\u001b[0;32m~/opt/anaconda3/envs/myenv38/lib/python3.8/site-packages/matplotlib/pyplot.py\u001b[0m in \u001b[0;36merrorbar\u001b[0;34m(x, y, yerr, xerr, fmt, ecolor, elinewidth, capsize, barsabove, lolims, uplims, xlolims, xuplims, errorevery, capthick, data, **kwargs)\u001b[0m\n\u001b[1;32m   2770\u001b[0m         \u001b[0muplims\u001b[0m\u001b[0;34m=\u001b[0m\u001b[0;32mFalse\u001b[0m\u001b[0;34m,\u001b[0m \u001b[0mxlolims\u001b[0m\u001b[0;34m=\u001b[0m\u001b[0;32mFalse\u001b[0m\u001b[0;34m,\u001b[0m \u001b[0mxuplims\u001b[0m\u001b[0;34m=\u001b[0m\u001b[0;32mFalse\u001b[0m\u001b[0;34m,\u001b[0m \u001b[0merrorevery\u001b[0m\u001b[0;34m=\u001b[0m\u001b[0;36m1\u001b[0m\u001b[0;34m,\u001b[0m\u001b[0;34m\u001b[0m\u001b[0;34m\u001b[0m\u001b[0m\n\u001b[1;32m   2771\u001b[0m         capthick=None, *, data=None, **kwargs):\n\u001b[0;32m-> 2772\u001b[0;31m     return gca().errorbar(\n\u001b[0m\u001b[1;32m   2773\u001b[0m         \u001b[0mx\u001b[0m\u001b[0;34m,\u001b[0m \u001b[0my\u001b[0m\u001b[0;34m,\u001b[0m \u001b[0myerr\u001b[0m\u001b[0;34m=\u001b[0m\u001b[0myerr\u001b[0m\u001b[0;34m,\u001b[0m \u001b[0mxerr\u001b[0m\u001b[0;34m=\u001b[0m\u001b[0mxerr\u001b[0m\u001b[0;34m,\u001b[0m \u001b[0mfmt\u001b[0m\u001b[0;34m=\u001b[0m\u001b[0mfmt\u001b[0m\u001b[0;34m,\u001b[0m \u001b[0mecolor\u001b[0m\u001b[0;34m=\u001b[0m\u001b[0mecolor\u001b[0m\u001b[0;34m,\u001b[0m\u001b[0;34m\u001b[0m\u001b[0;34m\u001b[0m\u001b[0m\n\u001b[1;32m   2774\u001b[0m         \u001b[0melinewidth\u001b[0m\u001b[0;34m=\u001b[0m\u001b[0melinewidth\u001b[0m\u001b[0;34m,\u001b[0m \u001b[0mcapsize\u001b[0m\u001b[0;34m=\u001b[0m\u001b[0mcapsize\u001b[0m\u001b[0;34m,\u001b[0m \u001b[0mbarsabove\u001b[0m\u001b[0;34m=\u001b[0m\u001b[0mbarsabove\u001b[0m\u001b[0;34m,\u001b[0m\u001b[0;34m\u001b[0m\u001b[0;34m\u001b[0m\u001b[0m\n",
      "\u001b[0;32m~/opt/anaconda3/envs/myenv38/lib/python3.8/site-packages/matplotlib/__init__.py\u001b[0m in \u001b[0;36minner\u001b[0;34m(ax, data, *args, **kwargs)\u001b[0m\n\u001b[1;32m   1359\u001b[0m     \u001b[0;32mdef\u001b[0m \u001b[0minner\u001b[0m\u001b[0;34m(\u001b[0m\u001b[0max\u001b[0m\u001b[0;34m,\u001b[0m \u001b[0;34m*\u001b[0m\u001b[0margs\u001b[0m\u001b[0;34m,\u001b[0m \u001b[0mdata\u001b[0m\u001b[0;34m=\u001b[0m\u001b[0;32mNone\u001b[0m\u001b[0;34m,\u001b[0m \u001b[0;34m**\u001b[0m\u001b[0mkwargs\u001b[0m\u001b[0;34m)\u001b[0m\u001b[0;34m:\u001b[0m\u001b[0;34m\u001b[0m\u001b[0;34m\u001b[0m\u001b[0m\n\u001b[1;32m   1360\u001b[0m         \u001b[0;32mif\u001b[0m \u001b[0mdata\u001b[0m \u001b[0;32mis\u001b[0m \u001b[0;32mNone\u001b[0m\u001b[0;34m:\u001b[0m\u001b[0;34m\u001b[0m\u001b[0;34m\u001b[0m\u001b[0m\n\u001b[0;32m-> 1361\u001b[0;31m             \u001b[0;32mreturn\u001b[0m \u001b[0mfunc\u001b[0m\u001b[0;34m(\u001b[0m\u001b[0max\u001b[0m\u001b[0;34m,\u001b[0m \u001b[0;34m*\u001b[0m\u001b[0mmap\u001b[0m\u001b[0;34m(\u001b[0m\u001b[0msanitize_sequence\u001b[0m\u001b[0;34m,\u001b[0m \u001b[0margs\u001b[0m\u001b[0;34m)\u001b[0m\u001b[0;34m,\u001b[0m \u001b[0;34m**\u001b[0m\u001b[0mkwargs\u001b[0m\u001b[0;34m)\u001b[0m\u001b[0;34m\u001b[0m\u001b[0;34m\u001b[0m\u001b[0m\n\u001b[0m\u001b[1;32m   1362\u001b[0m \u001b[0;34m\u001b[0m\u001b[0m\n\u001b[1;32m   1363\u001b[0m         \u001b[0mbound\u001b[0m \u001b[0;34m=\u001b[0m \u001b[0mnew_sig\u001b[0m\u001b[0;34m.\u001b[0m\u001b[0mbind\u001b[0m\u001b[0;34m(\u001b[0m\u001b[0max\u001b[0m\u001b[0;34m,\u001b[0m \u001b[0;34m*\u001b[0m\u001b[0margs\u001b[0m\u001b[0;34m,\u001b[0m \u001b[0;34m**\u001b[0m\u001b[0mkwargs\u001b[0m\u001b[0;34m)\u001b[0m\u001b[0;34m\u001b[0m\u001b[0;34m\u001b[0m\u001b[0m\n",
      "\u001b[0;32m~/opt/anaconda3/envs/myenv38/lib/python3.8/site-packages/matplotlib/axes/_axes.py\u001b[0m in \u001b[0;36merrorbar\u001b[0;34m(self, x, y, yerr, xerr, fmt, ecolor, elinewidth, capsize, barsabove, lolims, uplims, xlolims, xuplims, errorevery, capthick, **kwargs)\u001b[0m\n\u001b[1;32m   3295\u001b[0m \u001b[0;34m\u001b[0m\u001b[0m\n\u001b[1;32m   3296\u001b[0m         \u001b[0;32mif\u001b[0m \u001b[0mlen\u001b[0m\u001b[0;34m(\u001b[0m\u001b[0mx\u001b[0m\u001b[0;34m)\u001b[0m \u001b[0;34m!=\u001b[0m \u001b[0mlen\u001b[0m\u001b[0;34m(\u001b[0m\u001b[0my\u001b[0m\u001b[0;34m)\u001b[0m\u001b[0;34m:\u001b[0m\u001b[0;34m\u001b[0m\u001b[0;34m\u001b[0m\u001b[0m\n\u001b[0;32m-> 3297\u001b[0;31m             \u001b[0;32mraise\u001b[0m \u001b[0mValueError\u001b[0m\u001b[0;34m(\u001b[0m\u001b[0;34m\"'x' and 'y' must have the same size\"\u001b[0m\u001b[0;34m)\u001b[0m\u001b[0;34m\u001b[0m\u001b[0;34m\u001b[0m\u001b[0m\n\u001b[0m\u001b[1;32m   3298\u001b[0m \u001b[0;34m\u001b[0m\u001b[0m\n\u001b[1;32m   3299\u001b[0m         \u001b[0;32mif\u001b[0m \u001b[0mxerr\u001b[0m \u001b[0;32mis\u001b[0m \u001b[0;32mnot\u001b[0m \u001b[0;32mNone\u001b[0m\u001b[0;34m:\u001b[0m\u001b[0;34m\u001b[0m\u001b[0;34m\u001b[0m\u001b[0m\n",
      "\u001b[0;31mValueError\u001b[0m: 'x' and 'y' must have the same size"
     ]
    },
    {
     "ename": "RuntimeError",
     "evalue": "latex was not able to process the following string:\nb'lp'\n\nHere is the full report generated by latex:\nKQ: bad file descriptor polling for events\n\n\n",
     "output_type": "error",
     "traceback": [
      "\u001b[0;31m---------------------------------------------------------------------------\u001b[0m",
      "\u001b[0;31mCalledProcessError\u001b[0m                        Traceback (most recent call last)",
      "\u001b[0;32m~/opt/anaconda3/envs/myenv38/lib/python3.8/site-packages/matplotlib/texmanager.py\u001b[0m in \u001b[0;36m_run_checked_subprocess\u001b[0;34m(self, command, tex, cwd)\u001b[0m\n\u001b[1;32m    251\u001b[0m         \u001b[0;32mtry\u001b[0m\u001b[0;34m:\u001b[0m\u001b[0;34m\u001b[0m\u001b[0;34m\u001b[0m\u001b[0m\n\u001b[0;32m--> 252\u001b[0;31m             report = subprocess.check_output(\n\u001b[0m\u001b[1;32m    253\u001b[0m                 \u001b[0mcommand\u001b[0m\u001b[0;34m,\u001b[0m \u001b[0mcwd\u001b[0m\u001b[0;34m=\u001b[0m\u001b[0mcwd\u001b[0m \u001b[0;32mif\u001b[0m \u001b[0mcwd\u001b[0m \u001b[0;32mis\u001b[0m \u001b[0;32mnot\u001b[0m \u001b[0;32mNone\u001b[0m \u001b[0;32melse\u001b[0m \u001b[0mself\u001b[0m\u001b[0;34m.\u001b[0m\u001b[0mtexcache\u001b[0m\u001b[0;34m,\u001b[0m\u001b[0;34m\u001b[0m\u001b[0;34m\u001b[0m\u001b[0m\n",
      "\u001b[0;32m~/opt/anaconda3/envs/myenv38/lib/python3.8/subprocess.py\u001b[0m in \u001b[0;36mcheck_output\u001b[0;34m(timeout, *popenargs, **kwargs)\u001b[0m\n\u001b[1;32m    414\u001b[0m \u001b[0;34m\u001b[0m\u001b[0m\n\u001b[0;32m--> 415\u001b[0;31m     return run(*popenargs, stdout=PIPE, timeout=timeout, check=True,\n\u001b[0m\u001b[1;32m    416\u001b[0m                **kwargs).stdout\n",
      "\u001b[0;32m~/opt/anaconda3/envs/myenv38/lib/python3.8/subprocess.py\u001b[0m in \u001b[0;36mrun\u001b[0;34m(input, capture_output, timeout, check, *popenargs, **kwargs)\u001b[0m\n\u001b[1;32m    515\u001b[0m         \u001b[0;32mif\u001b[0m \u001b[0mcheck\u001b[0m \u001b[0;32mand\u001b[0m \u001b[0mretcode\u001b[0m\u001b[0;34m:\u001b[0m\u001b[0;34m\u001b[0m\u001b[0;34m\u001b[0m\u001b[0m\n\u001b[0;32m--> 516\u001b[0;31m             raise CalledProcessError(retcode, process.args,\n\u001b[0m\u001b[1;32m    517\u001b[0m                                      output=stdout, stderr=stderr)\n",
      "\u001b[0;31mCalledProcessError\u001b[0m: Command '['latex', '-interaction=nonstopmode', '--halt-on-error', '/Users/mariehartmann/.matplotlib/tex.cache/f030a25623d71663b1f99ff52c1eadbe.tex']' died with <Signals.SIGABRT: 6>.",
      "\nThe above exception was the direct cause of the following exception:\n",
      "\u001b[0;31mRuntimeError\u001b[0m                              Traceback (most recent call last)",
      "\u001b[0;32m~/opt/anaconda3/envs/myenv38/lib/python3.8/site-packages/IPython/core/formatters.py\u001b[0m in \u001b[0;36m__call__\u001b[0;34m(self, obj)\u001b[0m\n\u001b[1;32m    339\u001b[0m                 \u001b[0;32mpass\u001b[0m\u001b[0;34m\u001b[0m\u001b[0;34m\u001b[0m\u001b[0m\n\u001b[1;32m    340\u001b[0m             \u001b[0;32melse\u001b[0m\u001b[0;34m:\u001b[0m\u001b[0;34m\u001b[0m\u001b[0;34m\u001b[0m\u001b[0m\n\u001b[0;32m--> 341\u001b[0;31m                 \u001b[0;32mreturn\u001b[0m \u001b[0mprinter\u001b[0m\u001b[0;34m(\u001b[0m\u001b[0mobj\u001b[0m\u001b[0;34m)\u001b[0m\u001b[0;34m\u001b[0m\u001b[0;34m\u001b[0m\u001b[0m\n\u001b[0m\u001b[1;32m    342\u001b[0m             \u001b[0;31m# Finally look for special method names\u001b[0m\u001b[0;34m\u001b[0m\u001b[0;34m\u001b[0m\u001b[0;34m\u001b[0m\u001b[0m\n\u001b[1;32m    343\u001b[0m             \u001b[0mmethod\u001b[0m \u001b[0;34m=\u001b[0m \u001b[0mget_real_method\u001b[0m\u001b[0;34m(\u001b[0m\u001b[0mobj\u001b[0m\u001b[0;34m,\u001b[0m \u001b[0mself\u001b[0m\u001b[0;34m.\u001b[0m\u001b[0mprint_method\u001b[0m\u001b[0;34m)\u001b[0m\u001b[0;34m\u001b[0m\u001b[0;34m\u001b[0m\u001b[0m\n",
      "\u001b[0;32m~/opt/anaconda3/envs/myenv38/lib/python3.8/site-packages/IPython/core/pylabtools.py\u001b[0m in \u001b[0;36m<lambda>\u001b[0;34m(fig)\u001b[0m\n\u001b[1;32m    248\u001b[0m \u001b[0;34m\u001b[0m\u001b[0m\n\u001b[1;32m    249\u001b[0m     \u001b[0;32mif\u001b[0m \u001b[0;34m'png'\u001b[0m \u001b[0;32min\u001b[0m \u001b[0mformats\u001b[0m\u001b[0;34m:\u001b[0m\u001b[0;34m\u001b[0m\u001b[0;34m\u001b[0m\u001b[0m\n\u001b[0;32m--> 250\u001b[0;31m         \u001b[0mpng_formatter\u001b[0m\u001b[0;34m.\u001b[0m\u001b[0mfor_type\u001b[0m\u001b[0;34m(\u001b[0m\u001b[0mFigure\u001b[0m\u001b[0;34m,\u001b[0m \u001b[0;32mlambda\u001b[0m \u001b[0mfig\u001b[0m\u001b[0;34m:\u001b[0m \u001b[0mprint_figure\u001b[0m\u001b[0;34m(\u001b[0m\u001b[0mfig\u001b[0m\u001b[0;34m,\u001b[0m \u001b[0;34m'png'\u001b[0m\u001b[0;34m,\u001b[0m \u001b[0;34m**\u001b[0m\u001b[0mkwargs\u001b[0m\u001b[0;34m)\u001b[0m\u001b[0;34m)\u001b[0m\u001b[0;34m\u001b[0m\u001b[0;34m\u001b[0m\u001b[0m\n\u001b[0m\u001b[1;32m    251\u001b[0m     \u001b[0;32mif\u001b[0m \u001b[0;34m'retina'\u001b[0m \u001b[0;32min\u001b[0m \u001b[0mformats\u001b[0m \u001b[0;32mor\u001b[0m \u001b[0;34m'png2x'\u001b[0m \u001b[0;32min\u001b[0m \u001b[0mformats\u001b[0m\u001b[0;34m:\u001b[0m\u001b[0;34m\u001b[0m\u001b[0;34m\u001b[0m\u001b[0m\n\u001b[1;32m    252\u001b[0m         \u001b[0mpng_formatter\u001b[0m\u001b[0;34m.\u001b[0m\u001b[0mfor_type\u001b[0m\u001b[0;34m(\u001b[0m\u001b[0mFigure\u001b[0m\u001b[0;34m,\u001b[0m \u001b[0;32mlambda\u001b[0m \u001b[0mfig\u001b[0m\u001b[0;34m:\u001b[0m \u001b[0mretina_figure\u001b[0m\u001b[0;34m(\u001b[0m\u001b[0mfig\u001b[0m\u001b[0;34m,\u001b[0m \u001b[0;34m**\u001b[0m\u001b[0mkwargs\u001b[0m\u001b[0;34m)\u001b[0m\u001b[0;34m)\u001b[0m\u001b[0;34m\u001b[0m\u001b[0;34m\u001b[0m\u001b[0m\n",
      "\u001b[0;32m~/opt/anaconda3/envs/myenv38/lib/python3.8/site-packages/IPython/core/pylabtools.py\u001b[0m in \u001b[0;36mprint_figure\u001b[0;34m(fig, fmt, bbox_inches, **kwargs)\u001b[0m\n\u001b[1;32m    132\u001b[0m         \u001b[0mFigureCanvasBase\u001b[0m\u001b[0;34m(\u001b[0m\u001b[0mfig\u001b[0m\u001b[0;34m)\u001b[0m\u001b[0;34m\u001b[0m\u001b[0;34m\u001b[0m\u001b[0m\n\u001b[1;32m    133\u001b[0m \u001b[0;34m\u001b[0m\u001b[0m\n\u001b[0;32m--> 134\u001b[0;31m     \u001b[0mfig\u001b[0m\u001b[0;34m.\u001b[0m\u001b[0mcanvas\u001b[0m\u001b[0;34m.\u001b[0m\u001b[0mprint_figure\u001b[0m\u001b[0;34m(\u001b[0m\u001b[0mbytes_io\u001b[0m\u001b[0;34m,\u001b[0m \u001b[0;34m**\u001b[0m\u001b[0mkw\u001b[0m\u001b[0;34m)\u001b[0m\u001b[0;34m\u001b[0m\u001b[0;34m\u001b[0m\u001b[0m\n\u001b[0m\u001b[1;32m    135\u001b[0m     \u001b[0mdata\u001b[0m \u001b[0;34m=\u001b[0m \u001b[0mbytes_io\u001b[0m\u001b[0;34m.\u001b[0m\u001b[0mgetvalue\u001b[0m\u001b[0;34m(\u001b[0m\u001b[0;34m)\u001b[0m\u001b[0;34m\u001b[0m\u001b[0;34m\u001b[0m\u001b[0m\n\u001b[1;32m    136\u001b[0m     \u001b[0;32mif\u001b[0m \u001b[0mfmt\u001b[0m \u001b[0;34m==\u001b[0m \u001b[0;34m'svg'\u001b[0m\u001b[0;34m:\u001b[0m\u001b[0;34m\u001b[0m\u001b[0;34m\u001b[0m\u001b[0m\n",
      "\u001b[0;32m~/opt/anaconda3/envs/myenv38/lib/python3.8/site-packages/matplotlib/backend_bases.py\u001b[0m in \u001b[0;36mprint_figure\u001b[0;34m(self, filename, dpi, facecolor, edgecolor, orientation, format, bbox_inches, pad_inches, bbox_extra_artists, backend, **kwargs)\u001b[0m\n\u001b[1;32m   2228\u001b[0m                        else suppress())\n\u001b[1;32m   2229\u001b[0m                 \u001b[0;32mwith\u001b[0m \u001b[0mctx\u001b[0m\u001b[0;34m:\u001b[0m\u001b[0;34m\u001b[0m\u001b[0;34m\u001b[0m\u001b[0m\n\u001b[0;32m-> 2230\u001b[0;31m                     \u001b[0mself\u001b[0m\u001b[0;34m.\u001b[0m\u001b[0mfigure\u001b[0m\u001b[0;34m.\u001b[0m\u001b[0mdraw\u001b[0m\u001b[0;34m(\u001b[0m\u001b[0mrenderer\u001b[0m\u001b[0;34m)\u001b[0m\u001b[0;34m\u001b[0m\u001b[0;34m\u001b[0m\u001b[0m\n\u001b[0m\u001b[1;32m   2231\u001b[0m \u001b[0;34m\u001b[0m\u001b[0m\n\u001b[1;32m   2232\u001b[0m             \u001b[0;32mif\u001b[0m \u001b[0mbbox_inches\u001b[0m\u001b[0;34m:\u001b[0m\u001b[0;34m\u001b[0m\u001b[0;34m\u001b[0m\u001b[0m\n",
      "\u001b[0;32m~/opt/anaconda3/envs/myenv38/lib/python3.8/site-packages/matplotlib/artist.py\u001b[0m in \u001b[0;36mdraw_wrapper\u001b[0;34m(artist, renderer, *args, **kwargs)\u001b[0m\n\u001b[1;32m     72\u001b[0m     \u001b[0;34m@\u001b[0m\u001b[0mwraps\u001b[0m\u001b[0;34m(\u001b[0m\u001b[0mdraw\u001b[0m\u001b[0;34m)\u001b[0m\u001b[0;34m\u001b[0m\u001b[0;34m\u001b[0m\u001b[0m\n\u001b[1;32m     73\u001b[0m     \u001b[0;32mdef\u001b[0m \u001b[0mdraw_wrapper\u001b[0m\u001b[0;34m(\u001b[0m\u001b[0martist\u001b[0m\u001b[0;34m,\u001b[0m \u001b[0mrenderer\u001b[0m\u001b[0;34m,\u001b[0m \u001b[0;34m*\u001b[0m\u001b[0margs\u001b[0m\u001b[0;34m,\u001b[0m \u001b[0;34m**\u001b[0m\u001b[0mkwargs\u001b[0m\u001b[0;34m)\u001b[0m\u001b[0;34m:\u001b[0m\u001b[0;34m\u001b[0m\u001b[0;34m\u001b[0m\u001b[0m\n\u001b[0;32m---> 74\u001b[0;31m         \u001b[0mresult\u001b[0m \u001b[0;34m=\u001b[0m \u001b[0mdraw\u001b[0m\u001b[0;34m(\u001b[0m\u001b[0martist\u001b[0m\u001b[0;34m,\u001b[0m \u001b[0mrenderer\u001b[0m\u001b[0;34m,\u001b[0m \u001b[0;34m*\u001b[0m\u001b[0margs\u001b[0m\u001b[0;34m,\u001b[0m \u001b[0;34m**\u001b[0m\u001b[0mkwargs\u001b[0m\u001b[0;34m)\u001b[0m\u001b[0;34m\u001b[0m\u001b[0;34m\u001b[0m\u001b[0m\n\u001b[0m\u001b[1;32m     75\u001b[0m         \u001b[0;32mif\u001b[0m \u001b[0mrenderer\u001b[0m\u001b[0;34m.\u001b[0m\u001b[0m_rasterizing\u001b[0m\u001b[0;34m:\u001b[0m\u001b[0;34m\u001b[0m\u001b[0;34m\u001b[0m\u001b[0m\n\u001b[1;32m     76\u001b[0m             \u001b[0mrenderer\u001b[0m\u001b[0;34m.\u001b[0m\u001b[0mstop_rasterizing\u001b[0m\u001b[0;34m(\u001b[0m\u001b[0;34m)\u001b[0m\u001b[0;34m\u001b[0m\u001b[0;34m\u001b[0m\u001b[0m\n",
      "\u001b[0;32m~/opt/anaconda3/envs/myenv38/lib/python3.8/site-packages/matplotlib/artist.py\u001b[0m in \u001b[0;36mdraw_wrapper\u001b[0;34m(artist, renderer, *args, **kwargs)\u001b[0m\n\u001b[1;32m     49\u001b[0m                 \u001b[0mrenderer\u001b[0m\u001b[0;34m.\u001b[0m\u001b[0mstart_filter\u001b[0m\u001b[0;34m(\u001b[0m\u001b[0;34m)\u001b[0m\u001b[0;34m\u001b[0m\u001b[0;34m\u001b[0m\u001b[0m\n\u001b[1;32m     50\u001b[0m \u001b[0;34m\u001b[0m\u001b[0m\n\u001b[0;32m---> 51\u001b[0;31m             \u001b[0;32mreturn\u001b[0m \u001b[0mdraw\u001b[0m\u001b[0;34m(\u001b[0m\u001b[0martist\u001b[0m\u001b[0;34m,\u001b[0m \u001b[0mrenderer\u001b[0m\u001b[0;34m,\u001b[0m \u001b[0;34m*\u001b[0m\u001b[0margs\u001b[0m\u001b[0;34m,\u001b[0m \u001b[0;34m**\u001b[0m\u001b[0mkwargs\u001b[0m\u001b[0;34m)\u001b[0m\u001b[0;34m\u001b[0m\u001b[0;34m\u001b[0m\u001b[0m\n\u001b[0m\u001b[1;32m     52\u001b[0m         \u001b[0;32mfinally\u001b[0m\u001b[0;34m:\u001b[0m\u001b[0;34m\u001b[0m\u001b[0;34m\u001b[0m\u001b[0m\n\u001b[1;32m     53\u001b[0m             \u001b[0;32mif\u001b[0m \u001b[0martist\u001b[0m\u001b[0;34m.\u001b[0m\u001b[0mget_agg_filter\u001b[0m\u001b[0;34m(\u001b[0m\u001b[0;34m)\u001b[0m \u001b[0;32mis\u001b[0m \u001b[0;32mnot\u001b[0m \u001b[0;32mNone\u001b[0m\u001b[0;34m:\u001b[0m\u001b[0;34m\u001b[0m\u001b[0;34m\u001b[0m\u001b[0m\n",
      "\u001b[0;32m~/opt/anaconda3/envs/myenv38/lib/python3.8/site-packages/matplotlib/figure.py\u001b[0m in \u001b[0;36mdraw\u001b[0;34m(self, renderer)\u001b[0m\n\u001b[1;32m   2778\u001b[0m \u001b[0;34m\u001b[0m\u001b[0m\n\u001b[1;32m   2779\u001b[0m             \u001b[0mself\u001b[0m\u001b[0;34m.\u001b[0m\u001b[0mpatch\u001b[0m\u001b[0;34m.\u001b[0m\u001b[0mdraw\u001b[0m\u001b[0;34m(\u001b[0m\u001b[0mrenderer\u001b[0m\u001b[0;34m)\u001b[0m\u001b[0;34m\u001b[0m\u001b[0;34m\u001b[0m\u001b[0m\n\u001b[0;32m-> 2780\u001b[0;31m             mimage._draw_list_compositing_images(\n\u001b[0m\u001b[1;32m   2781\u001b[0m                 renderer, self, artists, self.suppressComposite)\n\u001b[1;32m   2782\u001b[0m \u001b[0;34m\u001b[0m\u001b[0m\n",
      "\u001b[0;32m~/opt/anaconda3/envs/myenv38/lib/python3.8/site-packages/matplotlib/image.py\u001b[0m in \u001b[0;36m_draw_list_compositing_images\u001b[0;34m(renderer, parent, artists, suppress_composite)\u001b[0m\n\u001b[1;32m    130\u001b[0m     \u001b[0;32mif\u001b[0m \u001b[0mnot_composite\u001b[0m \u001b[0;32mor\u001b[0m \u001b[0;32mnot\u001b[0m \u001b[0mhas_images\u001b[0m\u001b[0;34m:\u001b[0m\u001b[0;34m\u001b[0m\u001b[0;34m\u001b[0m\u001b[0m\n\u001b[1;32m    131\u001b[0m         \u001b[0;32mfor\u001b[0m \u001b[0ma\u001b[0m \u001b[0;32min\u001b[0m \u001b[0martists\u001b[0m\u001b[0;34m:\u001b[0m\u001b[0;34m\u001b[0m\u001b[0;34m\u001b[0m\u001b[0m\n\u001b[0;32m--> 132\u001b[0;31m             \u001b[0ma\u001b[0m\u001b[0;34m.\u001b[0m\u001b[0mdraw\u001b[0m\u001b[0;34m(\u001b[0m\u001b[0mrenderer\u001b[0m\u001b[0;34m)\u001b[0m\u001b[0;34m\u001b[0m\u001b[0;34m\u001b[0m\u001b[0m\n\u001b[0m\u001b[1;32m    133\u001b[0m     \u001b[0;32melse\u001b[0m\u001b[0;34m:\u001b[0m\u001b[0;34m\u001b[0m\u001b[0;34m\u001b[0m\u001b[0m\n\u001b[1;32m    134\u001b[0m         \u001b[0;31m# Composite any adjacent images together\u001b[0m\u001b[0;34m\u001b[0m\u001b[0;34m\u001b[0m\u001b[0;34m\u001b[0m\u001b[0m\n",
      "\u001b[0;32m~/opt/anaconda3/envs/myenv38/lib/python3.8/site-packages/matplotlib/artist.py\u001b[0m in \u001b[0;36mdraw_wrapper\u001b[0;34m(artist, renderer, *args, **kwargs)\u001b[0m\n\u001b[1;32m     49\u001b[0m                 \u001b[0mrenderer\u001b[0m\u001b[0;34m.\u001b[0m\u001b[0mstart_filter\u001b[0m\u001b[0;34m(\u001b[0m\u001b[0;34m)\u001b[0m\u001b[0;34m\u001b[0m\u001b[0;34m\u001b[0m\u001b[0m\n\u001b[1;32m     50\u001b[0m \u001b[0;34m\u001b[0m\u001b[0m\n\u001b[0;32m---> 51\u001b[0;31m             \u001b[0;32mreturn\u001b[0m \u001b[0mdraw\u001b[0m\u001b[0;34m(\u001b[0m\u001b[0martist\u001b[0m\u001b[0;34m,\u001b[0m \u001b[0mrenderer\u001b[0m\u001b[0;34m,\u001b[0m \u001b[0;34m*\u001b[0m\u001b[0margs\u001b[0m\u001b[0;34m,\u001b[0m \u001b[0;34m**\u001b[0m\u001b[0mkwargs\u001b[0m\u001b[0;34m)\u001b[0m\u001b[0;34m\u001b[0m\u001b[0;34m\u001b[0m\u001b[0m\n\u001b[0m\u001b[1;32m     52\u001b[0m         \u001b[0;32mfinally\u001b[0m\u001b[0;34m:\u001b[0m\u001b[0;34m\u001b[0m\u001b[0;34m\u001b[0m\u001b[0m\n\u001b[1;32m     53\u001b[0m             \u001b[0;32mif\u001b[0m \u001b[0martist\u001b[0m\u001b[0;34m.\u001b[0m\u001b[0mget_agg_filter\u001b[0m\u001b[0;34m(\u001b[0m\u001b[0;34m)\u001b[0m \u001b[0;32mis\u001b[0m \u001b[0;32mnot\u001b[0m \u001b[0;32mNone\u001b[0m\u001b[0;34m:\u001b[0m\u001b[0;34m\u001b[0m\u001b[0;34m\u001b[0m\u001b[0m\n",
      "\u001b[0;32m~/opt/anaconda3/envs/myenv38/lib/python3.8/site-packages/matplotlib/_api/deprecation.py\u001b[0m in \u001b[0;36mwrapper\u001b[0;34m(*inner_args, **inner_kwargs)\u001b[0m\n\u001b[1;32m    429\u001b[0m                          \u001b[0;32melse\u001b[0m \u001b[0mdeprecation_addendum\u001b[0m\u001b[0;34m,\u001b[0m\u001b[0;34m\u001b[0m\u001b[0;34m\u001b[0m\u001b[0m\n\u001b[1;32m    430\u001b[0m                 **kwargs)\n\u001b[0;32m--> 431\u001b[0;31m         \u001b[0;32mreturn\u001b[0m \u001b[0mfunc\u001b[0m\u001b[0;34m(\u001b[0m\u001b[0;34m*\u001b[0m\u001b[0minner_args\u001b[0m\u001b[0;34m,\u001b[0m \u001b[0;34m**\u001b[0m\u001b[0minner_kwargs\u001b[0m\u001b[0;34m)\u001b[0m\u001b[0;34m\u001b[0m\u001b[0;34m\u001b[0m\u001b[0m\n\u001b[0m\u001b[1;32m    432\u001b[0m \u001b[0;34m\u001b[0m\u001b[0m\n\u001b[1;32m    433\u001b[0m     \u001b[0;32mreturn\u001b[0m \u001b[0mwrapper\u001b[0m\u001b[0;34m\u001b[0m\u001b[0;34m\u001b[0m\u001b[0m\n",
      "\u001b[0;32m~/opt/anaconda3/envs/myenv38/lib/python3.8/site-packages/matplotlib/axes/_base.py\u001b[0m in \u001b[0;36mdraw\u001b[0;34m(self, renderer, inframe)\u001b[0m\n\u001b[1;32m   2919\u001b[0m             \u001b[0mrenderer\u001b[0m\u001b[0;34m.\u001b[0m\u001b[0mstop_rasterizing\u001b[0m\u001b[0;34m(\u001b[0m\u001b[0;34m)\u001b[0m\u001b[0;34m\u001b[0m\u001b[0;34m\u001b[0m\u001b[0m\n\u001b[1;32m   2920\u001b[0m \u001b[0;34m\u001b[0m\u001b[0m\n\u001b[0;32m-> 2921\u001b[0;31m         \u001b[0mmimage\u001b[0m\u001b[0;34m.\u001b[0m\u001b[0m_draw_list_compositing_images\u001b[0m\u001b[0;34m(\u001b[0m\u001b[0mrenderer\u001b[0m\u001b[0;34m,\u001b[0m \u001b[0mself\u001b[0m\u001b[0;34m,\u001b[0m \u001b[0martists\u001b[0m\u001b[0;34m)\u001b[0m\u001b[0;34m\u001b[0m\u001b[0;34m\u001b[0m\u001b[0m\n\u001b[0m\u001b[1;32m   2922\u001b[0m \u001b[0;34m\u001b[0m\u001b[0m\n\u001b[1;32m   2923\u001b[0m         \u001b[0mrenderer\u001b[0m\u001b[0;34m.\u001b[0m\u001b[0mclose_group\u001b[0m\u001b[0;34m(\u001b[0m\u001b[0;34m'axes'\u001b[0m\u001b[0;34m)\u001b[0m\u001b[0;34m\u001b[0m\u001b[0;34m\u001b[0m\u001b[0m\n",
      "\u001b[0;32m~/opt/anaconda3/envs/myenv38/lib/python3.8/site-packages/matplotlib/image.py\u001b[0m in \u001b[0;36m_draw_list_compositing_images\u001b[0;34m(renderer, parent, artists, suppress_composite)\u001b[0m\n\u001b[1;32m    130\u001b[0m     \u001b[0;32mif\u001b[0m \u001b[0mnot_composite\u001b[0m \u001b[0;32mor\u001b[0m \u001b[0;32mnot\u001b[0m \u001b[0mhas_images\u001b[0m\u001b[0;34m:\u001b[0m\u001b[0;34m\u001b[0m\u001b[0;34m\u001b[0m\u001b[0m\n\u001b[1;32m    131\u001b[0m         \u001b[0;32mfor\u001b[0m \u001b[0ma\u001b[0m \u001b[0;32min\u001b[0m \u001b[0martists\u001b[0m\u001b[0;34m:\u001b[0m\u001b[0;34m\u001b[0m\u001b[0;34m\u001b[0m\u001b[0m\n\u001b[0;32m--> 132\u001b[0;31m             \u001b[0ma\u001b[0m\u001b[0;34m.\u001b[0m\u001b[0mdraw\u001b[0m\u001b[0;34m(\u001b[0m\u001b[0mrenderer\u001b[0m\u001b[0;34m)\u001b[0m\u001b[0;34m\u001b[0m\u001b[0;34m\u001b[0m\u001b[0m\n\u001b[0m\u001b[1;32m    133\u001b[0m     \u001b[0;32melse\u001b[0m\u001b[0;34m:\u001b[0m\u001b[0;34m\u001b[0m\u001b[0;34m\u001b[0m\u001b[0m\n\u001b[1;32m    134\u001b[0m         \u001b[0;31m# Composite any adjacent images together\u001b[0m\u001b[0;34m\u001b[0m\u001b[0;34m\u001b[0m\u001b[0;34m\u001b[0m\u001b[0m\n",
      "\u001b[0;32m~/opt/anaconda3/envs/myenv38/lib/python3.8/site-packages/matplotlib/artist.py\u001b[0m in \u001b[0;36mdraw_wrapper\u001b[0;34m(artist, renderer, *args, **kwargs)\u001b[0m\n\u001b[1;32m     49\u001b[0m                 \u001b[0mrenderer\u001b[0m\u001b[0;34m.\u001b[0m\u001b[0mstart_filter\u001b[0m\u001b[0;34m(\u001b[0m\u001b[0;34m)\u001b[0m\u001b[0;34m\u001b[0m\u001b[0;34m\u001b[0m\u001b[0m\n\u001b[1;32m     50\u001b[0m \u001b[0;34m\u001b[0m\u001b[0m\n\u001b[0;32m---> 51\u001b[0;31m             \u001b[0;32mreturn\u001b[0m \u001b[0mdraw\u001b[0m\u001b[0;34m(\u001b[0m\u001b[0martist\u001b[0m\u001b[0;34m,\u001b[0m \u001b[0mrenderer\u001b[0m\u001b[0;34m,\u001b[0m \u001b[0;34m*\u001b[0m\u001b[0margs\u001b[0m\u001b[0;34m,\u001b[0m \u001b[0;34m**\u001b[0m\u001b[0mkwargs\u001b[0m\u001b[0;34m)\u001b[0m\u001b[0;34m\u001b[0m\u001b[0;34m\u001b[0m\u001b[0m\n\u001b[0m\u001b[1;32m     52\u001b[0m         \u001b[0;32mfinally\u001b[0m\u001b[0;34m:\u001b[0m\u001b[0;34m\u001b[0m\u001b[0;34m\u001b[0m\u001b[0m\n\u001b[1;32m     53\u001b[0m             \u001b[0;32mif\u001b[0m \u001b[0martist\u001b[0m\u001b[0;34m.\u001b[0m\u001b[0mget_agg_filter\u001b[0m\u001b[0;34m(\u001b[0m\u001b[0;34m)\u001b[0m \u001b[0;32mis\u001b[0m \u001b[0;32mnot\u001b[0m \u001b[0;32mNone\u001b[0m\u001b[0;34m:\u001b[0m\u001b[0;34m\u001b[0m\u001b[0;34m\u001b[0m\u001b[0m\n",
      "\u001b[0;32m~/opt/anaconda3/envs/myenv38/lib/python3.8/site-packages/matplotlib/axis.py\u001b[0m in \u001b[0;36mdraw\u001b[0;34m(self, renderer, *args, **kwargs)\u001b[0m\n\u001b[1;32m   1135\u001b[0m \u001b[0;34m\u001b[0m\u001b[0m\n\u001b[1;32m   1136\u001b[0m         \u001b[0mticks_to_draw\u001b[0m \u001b[0;34m=\u001b[0m \u001b[0mself\u001b[0m\u001b[0;34m.\u001b[0m\u001b[0m_update_ticks\u001b[0m\u001b[0;34m(\u001b[0m\u001b[0;34m)\u001b[0m\u001b[0;34m\u001b[0m\u001b[0;34m\u001b[0m\u001b[0m\n\u001b[0;32m-> 1137\u001b[0;31m         ticklabelBoxes, ticklabelBoxes2 = self._get_tick_bboxes(ticks_to_draw,\n\u001b[0m\u001b[1;32m   1138\u001b[0m                                                                 renderer)\n\u001b[1;32m   1139\u001b[0m \u001b[0;34m\u001b[0m\u001b[0m\n",
      "\u001b[0;32m~/opt/anaconda3/envs/myenv38/lib/python3.8/site-packages/matplotlib/axis.py\u001b[0m in \u001b[0;36m_get_tick_bboxes\u001b[0;34m(self, ticks, renderer)\u001b[0m\n\u001b[1;32m   1061\u001b[0m     \u001b[0;32mdef\u001b[0m \u001b[0m_get_tick_bboxes\u001b[0m\u001b[0;34m(\u001b[0m\u001b[0mself\u001b[0m\u001b[0;34m,\u001b[0m \u001b[0mticks\u001b[0m\u001b[0;34m,\u001b[0m \u001b[0mrenderer\u001b[0m\u001b[0;34m)\u001b[0m\u001b[0;34m:\u001b[0m\u001b[0;34m\u001b[0m\u001b[0;34m\u001b[0m\u001b[0m\n\u001b[1;32m   1062\u001b[0m         \u001b[0;34m\"\"\"Return lists of bboxes for ticks' label1's and label2's.\"\"\"\u001b[0m\u001b[0;34m\u001b[0m\u001b[0;34m\u001b[0m\u001b[0m\n\u001b[0;32m-> 1063\u001b[0;31m         return ([tick.label1.get_window_extent(renderer)\n\u001b[0m\u001b[1;32m   1064\u001b[0m                  for tick in ticks if tick.label1.get_visible()],\n\u001b[1;32m   1065\u001b[0m                 [tick.label2.get_window_extent(renderer)\n",
      "\u001b[0;32m~/opt/anaconda3/envs/myenv38/lib/python3.8/site-packages/matplotlib/axis.py\u001b[0m in \u001b[0;36m<listcomp>\u001b[0;34m(.0)\u001b[0m\n\u001b[1;32m   1061\u001b[0m     \u001b[0;32mdef\u001b[0m \u001b[0m_get_tick_bboxes\u001b[0m\u001b[0;34m(\u001b[0m\u001b[0mself\u001b[0m\u001b[0;34m,\u001b[0m \u001b[0mticks\u001b[0m\u001b[0;34m,\u001b[0m \u001b[0mrenderer\u001b[0m\u001b[0;34m)\u001b[0m\u001b[0;34m:\u001b[0m\u001b[0;34m\u001b[0m\u001b[0;34m\u001b[0m\u001b[0m\n\u001b[1;32m   1062\u001b[0m         \u001b[0;34m\"\"\"Return lists of bboxes for ticks' label1's and label2's.\"\"\"\u001b[0m\u001b[0;34m\u001b[0m\u001b[0;34m\u001b[0m\u001b[0m\n\u001b[0;32m-> 1063\u001b[0;31m         return ([tick.label1.get_window_extent(renderer)\n\u001b[0m\u001b[1;32m   1064\u001b[0m                  for tick in ticks if tick.label1.get_visible()],\n\u001b[1;32m   1065\u001b[0m                 [tick.label2.get_window_extent(renderer)\n",
      "\u001b[0;32m~/opt/anaconda3/envs/myenv38/lib/python3.8/site-packages/matplotlib/text.py\u001b[0m in \u001b[0;36mget_window_extent\u001b[0;34m(self, renderer, dpi)\u001b[0m\n\u001b[1;32m    901\u001b[0m \u001b[0;34m\u001b[0m\u001b[0m\n\u001b[1;32m    902\u001b[0m         \u001b[0;32mwith\u001b[0m \u001b[0mcbook\u001b[0m\u001b[0;34m.\u001b[0m\u001b[0m_setattr_cm\u001b[0m\u001b[0;34m(\u001b[0m\u001b[0mself\u001b[0m\u001b[0;34m.\u001b[0m\u001b[0mfigure\u001b[0m\u001b[0;34m,\u001b[0m \u001b[0mdpi\u001b[0m\u001b[0;34m=\u001b[0m\u001b[0mdpi\u001b[0m\u001b[0;34m)\u001b[0m\u001b[0;34m:\u001b[0m\u001b[0;34m\u001b[0m\u001b[0;34m\u001b[0m\u001b[0m\n\u001b[0;32m--> 903\u001b[0;31m             \u001b[0mbbox\u001b[0m\u001b[0;34m,\u001b[0m \u001b[0minfo\u001b[0m\u001b[0;34m,\u001b[0m \u001b[0mdescent\u001b[0m \u001b[0;34m=\u001b[0m \u001b[0mself\u001b[0m\u001b[0;34m.\u001b[0m\u001b[0m_get_layout\u001b[0m\u001b[0;34m(\u001b[0m\u001b[0mself\u001b[0m\u001b[0;34m.\u001b[0m\u001b[0m_renderer\u001b[0m\u001b[0;34m)\u001b[0m\u001b[0;34m\u001b[0m\u001b[0;34m\u001b[0m\u001b[0m\n\u001b[0m\u001b[1;32m    904\u001b[0m             \u001b[0mx\u001b[0m\u001b[0;34m,\u001b[0m \u001b[0my\u001b[0m \u001b[0;34m=\u001b[0m \u001b[0mself\u001b[0m\u001b[0;34m.\u001b[0m\u001b[0mget_unitless_position\u001b[0m\u001b[0;34m(\u001b[0m\u001b[0;34m)\u001b[0m\u001b[0;34m\u001b[0m\u001b[0;34m\u001b[0m\u001b[0m\n\u001b[1;32m    905\u001b[0m             \u001b[0mx\u001b[0m\u001b[0;34m,\u001b[0m \u001b[0my\u001b[0m \u001b[0;34m=\u001b[0m \u001b[0mself\u001b[0m\u001b[0;34m.\u001b[0m\u001b[0mget_transform\u001b[0m\u001b[0;34m(\u001b[0m\u001b[0;34m)\u001b[0m\u001b[0;34m.\u001b[0m\u001b[0mtransform\u001b[0m\u001b[0;34m(\u001b[0m\u001b[0;34m(\u001b[0m\u001b[0mx\u001b[0m\u001b[0;34m,\u001b[0m \u001b[0my\u001b[0m\u001b[0;34m)\u001b[0m\u001b[0;34m)\u001b[0m\u001b[0;34m\u001b[0m\u001b[0;34m\u001b[0m\u001b[0m\n",
      "\u001b[0;32m~/opt/anaconda3/envs/myenv38/lib/python3.8/site-packages/matplotlib/text.py\u001b[0m in \u001b[0;36m_get_layout\u001b[0;34m(self, renderer)\u001b[0m\n\u001b[1;32m    304\u001b[0m \u001b[0;34m\u001b[0m\u001b[0m\n\u001b[1;32m    305\u001b[0m         \u001b[0;31m# Full vertical extent of font, including ascenders and descenders:\u001b[0m\u001b[0;34m\u001b[0m\u001b[0;34m\u001b[0m\u001b[0;34m\u001b[0m\u001b[0m\n\u001b[0;32m--> 306\u001b[0;31m         _, lp_h, lp_d = renderer.get_text_width_height_descent(\n\u001b[0m\u001b[1;32m    307\u001b[0m             \u001b[0;34m\"lp\"\u001b[0m\u001b[0;34m,\u001b[0m \u001b[0mself\u001b[0m\u001b[0;34m.\u001b[0m\u001b[0m_fontproperties\u001b[0m\u001b[0;34m,\u001b[0m\u001b[0;34m\u001b[0m\u001b[0;34m\u001b[0m\u001b[0m\n\u001b[1;32m    308\u001b[0m             ismath=\"TeX\" if self.get_usetex() else False)\n",
      "\u001b[0;32m~/opt/anaconda3/envs/myenv38/lib/python3.8/site-packages/matplotlib/backends/backend_agg.py\u001b[0m in \u001b[0;36mget_text_width_height_descent\u001b[0;34m(self, s, prop, ismath)\u001b[0m\n\u001b[1;32m    227\u001b[0m             \u001b[0mtexmanager\u001b[0m \u001b[0;34m=\u001b[0m \u001b[0mself\u001b[0m\u001b[0;34m.\u001b[0m\u001b[0mget_texmanager\u001b[0m\u001b[0;34m(\u001b[0m\u001b[0;34m)\u001b[0m\u001b[0;34m\u001b[0m\u001b[0;34m\u001b[0m\u001b[0m\n\u001b[1;32m    228\u001b[0m             \u001b[0mfontsize\u001b[0m \u001b[0;34m=\u001b[0m \u001b[0mprop\u001b[0m\u001b[0;34m.\u001b[0m\u001b[0mget_size_in_points\u001b[0m\u001b[0;34m(\u001b[0m\u001b[0;34m)\u001b[0m\u001b[0;34m\u001b[0m\u001b[0;34m\u001b[0m\u001b[0m\n\u001b[0;32m--> 229\u001b[0;31m             w, h, d = texmanager.get_text_width_height_descent(\n\u001b[0m\u001b[1;32m    230\u001b[0m                 s, fontsize, renderer=self)\n\u001b[1;32m    231\u001b[0m             \u001b[0;32mreturn\u001b[0m \u001b[0mw\u001b[0m\u001b[0;34m,\u001b[0m \u001b[0mh\u001b[0m\u001b[0;34m,\u001b[0m \u001b[0md\u001b[0m\u001b[0;34m\u001b[0m\u001b[0;34m\u001b[0m\u001b[0m\n",
      "\u001b[0;32m~/opt/anaconda3/envs/myenv38/lib/python3.8/site-packages/matplotlib/texmanager.py\u001b[0m in \u001b[0;36mget_text_width_height_descent\u001b[0;34m(self, tex, fontsize, renderer)\u001b[0m\n\u001b[1;32m    397\u001b[0m         \u001b[0;32melse\u001b[0m\u001b[0;34m:\u001b[0m\u001b[0;34m\u001b[0m\u001b[0;34m\u001b[0m\u001b[0m\n\u001b[1;32m    398\u001b[0m             \u001b[0;31m# use dviread.\u001b[0m\u001b[0;34m\u001b[0m\u001b[0;34m\u001b[0m\u001b[0;34m\u001b[0m\u001b[0m\n\u001b[0;32m--> 399\u001b[0;31m             \u001b[0mdvifile\u001b[0m \u001b[0;34m=\u001b[0m \u001b[0mself\u001b[0m\u001b[0;34m.\u001b[0m\u001b[0mmake_dvi\u001b[0m\u001b[0;34m(\u001b[0m\u001b[0mtex\u001b[0m\u001b[0;34m,\u001b[0m \u001b[0mfontsize\u001b[0m\u001b[0;34m)\u001b[0m\u001b[0;34m\u001b[0m\u001b[0;34m\u001b[0m\u001b[0m\n\u001b[0m\u001b[1;32m    400\u001b[0m             \u001b[0;32mwith\u001b[0m \u001b[0mdviread\u001b[0m\u001b[0;34m.\u001b[0m\u001b[0mDvi\u001b[0m\u001b[0;34m(\u001b[0m\u001b[0mdvifile\u001b[0m\u001b[0;34m,\u001b[0m \u001b[0;36m72\u001b[0m \u001b[0;34m*\u001b[0m \u001b[0mdpi_fraction\u001b[0m\u001b[0;34m)\u001b[0m \u001b[0;32mas\u001b[0m \u001b[0mdvi\u001b[0m\u001b[0;34m:\u001b[0m\u001b[0;34m\u001b[0m\u001b[0;34m\u001b[0m\u001b[0m\n\u001b[1;32m    401\u001b[0m                 \u001b[0mpage\u001b[0m\u001b[0;34m,\u001b[0m \u001b[0;34m=\u001b[0m \u001b[0mdvi\u001b[0m\u001b[0;34m\u001b[0m\u001b[0;34m\u001b[0m\u001b[0m\n",
      "\u001b[0;32m~/opt/anaconda3/envs/myenv38/lib/python3.8/site-packages/matplotlib/texmanager.py\u001b[0m in \u001b[0;36mmake_dvi\u001b[0;34m(self, tex, fontsize)\u001b[0m\n\u001b[1;32m    289\u001b[0m             \u001b[0;31m# and thus replace() works atomically.\u001b[0m\u001b[0;34m\u001b[0m\u001b[0;34m\u001b[0m\u001b[0;34m\u001b[0m\u001b[0m\n\u001b[1;32m    290\u001b[0m             \u001b[0;32mwith\u001b[0m \u001b[0mTemporaryDirectory\u001b[0m\u001b[0;34m(\u001b[0m\u001b[0mdir\u001b[0m\u001b[0;34m=\u001b[0m\u001b[0mPath\u001b[0m\u001b[0;34m(\u001b[0m\u001b[0mdvifile\u001b[0m\u001b[0;34m)\u001b[0m\u001b[0;34m.\u001b[0m\u001b[0mparent\u001b[0m\u001b[0;34m)\u001b[0m \u001b[0;32mas\u001b[0m \u001b[0mtmpdir\u001b[0m\u001b[0;34m:\u001b[0m\u001b[0;34m\u001b[0m\u001b[0;34m\u001b[0m\u001b[0m\n\u001b[0;32m--> 291\u001b[0;31m                 self._run_checked_subprocess(\n\u001b[0m\u001b[1;32m    292\u001b[0m                     [\"latex\", \"-interaction=nonstopmode\", \"--halt-on-error\",\n\u001b[1;32m    293\u001b[0m                      texfile], tex, cwd=tmpdir)\n",
      "\u001b[0;32m~/opt/anaconda3/envs/myenv38/lib/python3.8/site-packages/matplotlib/texmanager.py\u001b[0m in \u001b[0;36m_run_checked_subprocess\u001b[0;34m(self, command, tex, cwd)\u001b[0m\n\u001b[1;32m    258\u001b[0m                 'found'.format(command[0])) from exc\n\u001b[1;32m    259\u001b[0m         \u001b[0;32mexcept\u001b[0m \u001b[0msubprocess\u001b[0m\u001b[0;34m.\u001b[0m\u001b[0mCalledProcessError\u001b[0m \u001b[0;32mas\u001b[0m \u001b[0mexc\u001b[0m\u001b[0;34m:\u001b[0m\u001b[0;34m\u001b[0m\u001b[0;34m\u001b[0m\u001b[0m\n\u001b[0;32m--> 260\u001b[0;31m             raise RuntimeError(\n\u001b[0m\u001b[1;32m    261\u001b[0m                 \u001b[0;34m'{prog} was not able to process the following string:\\n'\u001b[0m\u001b[0;34m\u001b[0m\u001b[0;34m\u001b[0m\u001b[0m\n\u001b[1;32m    262\u001b[0m                 \u001b[0;34m'{tex!r}\\n\\n'\u001b[0m\u001b[0;34m\u001b[0m\u001b[0;34m\u001b[0m\u001b[0m\n",
      "\u001b[0;31mRuntimeError\u001b[0m: latex was not able to process the following string:\nb'lp'\n\nHere is the full report generated by latex:\nKQ: bad file descriptor polling for events\n\n\n"
     ]
    },
    {
     "data": {
      "text/plain": [
       "<Figure size 432x288 with 1 Axes>"
      ]
     },
     "metadata": {
      "needs_background": "light"
     },
     "output_type": "display_data"
    }
   ],
   "source": [
    "for j in range (len(BKG_LEVEL)) :\n",
    "    \n",
    "    plt.errorbar(Z0, \n",
    "             REL_PREC_SIG[:,j], \n",
    "             fmt = 'o', \n",
    "             ls = 'solid',\n",
    "             markersize = 8,\n",
    "             color = colour[j], \n",
    "             label = \"X = {}\".format(BKG_LEVEL[j])\n",
    "             )\n",
    "\n",
    "plt.xlabel(\"Number of $Z^0$ produced\", fontsize=15, labelpad=10)\n",
    "plt.ylabel(r\"Relative error on $N_\\text{fit}(B_c^+ \\rightarrow \\tau^+ \\nu_\\tau)$ \", fontsize=15, labelpad=20)\n",
    "\n",
    "plt.tick_params(axis='both', which='major', labelsize=12)\n",
    "plt.legend(fontsize=13)\n",
    "\n",
    "plt.plot()"
   ]
  },
  {
   "cell_type": "code",
   "execution_count": null,
   "id": "d3893adc",
   "metadata": {},
   "outputs": [],
   "source": []
  }
 ],
 "metadata": {
  "kernelspec": {
   "display_name": "Python 3",
   "language": "python",
   "name": "python3"
  },
  "language_info": {
   "codemirror_mode": {
    "name": "ipython",
    "version": 3
   },
   "file_extension": ".py",
   "mimetype": "text/x-python",
   "name": "python",
   "nbconvert_exporter": "python",
   "pygments_lexer": "ipython3",
   "version": "3.8.10"
  }
 },
 "nbformat": 4,
 "nbformat_minor": 5
}
