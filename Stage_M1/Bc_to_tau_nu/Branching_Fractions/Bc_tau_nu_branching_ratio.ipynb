{
 "cells": [
  {
   "cell_type": "code",
   "execution_count": 1,
   "id": "parliamentary-tonight",
   "metadata": {},
   "outputs": [
    {
     "name": "stderr",
     "output_type": "stream",
     "text": [
      "/cvmfs/sft.cern.ch/lcg/releases/Python/3.8.6-3199b/x86_64-centos7-gcc8-opt/lib/python3.8/_collections_abc.py:832: MatplotlibDeprecationWarning: Support for setting the 'text.latex.preamble' or 'pgf.preamble' rcParam to a list of strings is deprecated since 3.3 and will be removed two minor releases later; set it to a single string instead.\n",
      "  self[key] = other[key]\n"
     ]
    }
   ],
   "source": [
    "import pandas\n",
    "import uproot\n",
    "import matplotlib.pyplot as plt\n",
    "import numpy as np\n",
    "import scipy.interpolate as interpolate\n",
    "import pickle\n",
    "\n",
    "from uncertainties import ufloat\n",
    "\n",
    "from matplotlib import rc\n",
    "rc('font',**{'family':'serif','serif':['Roman']})\n",
    "rc('text', usetex=True)\n",
    "params= {'text.latex.preamble' : [r'\\usepackage{amsmath}']}\n",
    "plt.rcParams.update(params)\n",
    "plt.rcParams['text.latex.preamble'] = r\"\\usepackage{bm} \\usepackage{amsmath}\""
   ]
  },
  {
   "cell_type": "code",
   "execution_count": 2,
   "id": "incorrect-stockholm",
   "metadata": {},
   "outputs": [],
   "source": [
    "#Dowloading the data\n",
    "bc_tree = uproot.open('/eos/experiment/fcc/ee/analyses/case-studies/flavour/Bc2TauNu/flatNtuples/spring2021/prod_04/Analysis_stage2/p8_ee_Zbb_ecm91_EvtGen_Bc2TauNuTAUHADNU.root')['events']\n",
    "bu_tree = uproot.open('/eos/experiment/fcc/ee/analyses/case-studies/flavour/Bc2TauNu/flatNtuples/spring2021/prod_04/Analysis_stage2/p8_ee_Zbb_ecm91_EvtGen_Bu2TauNuTAUHADNU.root')['events']\n",
    "bb_tree = uproot.open('/eos/experiment/fcc/ee/analyses/case-studies/flavour/Bc2TauNu/flatNtuples/spring2021/prod_04/Analysis_stage2/p8_ee_Zbb_ecm91_EvtGen.root')['events']\n",
    "cc_tree = uproot.open('/eos/experiment/fcc/ee/analyses/case-studies/flavour/Bc2TauNu/flatNtuples/spring2021/prod_04/Analysis_stage2/p8_ee_Zcc_ecm91.root')['events']\n",
    "\n",
    "tree_gen = uproot.open(\"/eos/experiment/fcc/ee/analyses/case-studies/flavour/Bc2TauNu/flatNtuples/spring2021/prod_04/Analysis_stage2/p8_ee_Zbb_ecm91_EvtGen_Bc2TauNuTAUHADNU.root\")[\"metadata\"]"
   ]
  },
  {
   "cell_type": "markdown",
   "id": "electoral-fifteen",
   "metadata": {},
   "source": [
    "### General parameters"
   ]
  },
  {
   "cell_type": "code",
   "execution_count": null,
   "id": "lesser-peeing",
   "metadata": {},
   "outputs": [],
   "source": [
    "#the for theoretical\n",
    "#sim for simulated\n",
    "#exp for experimental\n",
    "\n",
    "#Number of Z0 produced\n",
    "N_Z0_init = 5*10**(12)\n",
    "N_Z0 = 5*10**(11)\n",
    "\n",
    "#Branching fraction Z->quark-pair\n",
    "exp_BF_Zbb = 0.1512\n",
    "err_BF_Zbb = 0.0005\n",
    "\n",
    "BF_Zbb = ufloat(exp_BF_Zbb, err_BF_Zbb)\n",
    "\n",
    "#Production ratio of Bc+ and B+\n",
    "sim_F_Bc = 0.0004 #pythia simulations\n",
    "err_F_Bc = \n",
    "\n",
    "F_Bc = ufloat(sim_F_Bc, err_F_Bc)\n",
    "\n",
    "#Branching fraction and errors for (Bc+ -> tau nu)\n",
    "the_BF_Bctaunu = 0.0194\n",
    "err_BF_Bctaunu = \n",
    "\n",
    "BF_Bctaunu = ufloat(the_BF_Bctaunu, err_BF_Bctaunu)\n",
    "\n",
    "#Branching fraction and errors for (tau -> 3pions nu)\n",
    "exp_BF_tau3pion = 0.0931\n",
    "err_BF_tau3pion = 0.0005\n",
    "\n",
    "BF_tau3pion = ufloat(exp_BF_tau3pion, err_BF_tau3pion)\n",
    "\n",
    "#Branching fraction and errors for (Bc+ -> J/psi tau nu) \n",
    "the_BF_BcJpsitaunu = 0.0135\n",
    "err_BF_BcJpsitaunu = 0.0011\n",
    "\n",
    "BF_BcJpsitaunu = ufloat(the_BF_BcJpsitaunu, err_BF_BcJpsitaunu)\n",
    "\n",
    "#Branching fraction and errors for (J/psi -> mu mu)\n",
    "exp_BF_Jpsimumu = 0.05961\n",
    "err_BF_Jpsimumu = 0.00033\n",
    "\n",
    "BF_Jpsimumu = ufloat(exp_BF_Jpsimumu, err_BF_Jpsimumu)\n",
    "\n",
    "#Cut efficiencies for the optimised cut\n",
    "epsilon_Bctaunu = \n",
    "epsilon_BcJpsitaunu = 0.1\n",
    "\n",
    "#Yields have to be computed"
   ]
  },
  {
   "cell_type": "markdown",
   "id": "general-vietnamese",
   "metadata": {},
   "source": [
    "### Signal yields for different number of $Z^0$ bosons"
   ]
  },
  {
   "cell_type": "code",
   "execution_count": null,
   "id": "wound-somewhere",
   "metadata": {},
   "outputs": [],
   "source": [
    "#5e12 Z0\n",
    "sig_5e12 = 4009.2649482816005\n",
    "err_sig_5e12 = 125.2\n",
    "uncertainty_sig_5e12 = ufloat(sig_5e12, err_sig_5e12)\n",
    "\n",
    "#4e12 Z0\n",
    "sig_4e12 = 3207.4119586252805\n",
    "err_sig_4e12 = 110.6\n",
    "uncertainty_sig_4e12 = ufloat(sig_4e12, err_sig_4e12)\n",
    "\n",
    "#3e12 Z0\n",
    "sig_3e12 = 2405.55896896896\n",
    "err_sig_3e12 = 98.76\n",
    "uncertainty_sig_3e12 = ufloat(sig_3e12, err_sig_3e12)\n",
    "\n",
    "#2e12 Z0\n",
    "sig_2e12 = 1603.7059793126402\n",
    "err_sig_2e12 = 80.78\n",
    "uncertainty_sig_2e12 = ufloat(sig_2e12, err_sig_2e12)\n",
    "\n",
    "#1e12 Z0\n",
    "sig_1e12 = 801.8529896563201\n",
    "err_sig_1e12 = 57.34\n",
    "uncertainty_sig_1e12 = ufloat(sig_1e12, err_sig_1e12)\n",
    "\n",
    "#0.5e12 Z0\n",
    "sig_5e11 = 400.92649482816006\n",
    "err_sig_5e11 = 40.26\n",
    "uncertainty_sig_5e11 = ufloat(sig_5e11, err_sig_5e11)"
   ]
  },
  {
   "cell_type": "code",
   "execution_count": null,
   "id": "fifth-irrigation",
   "metadata": {},
   "outputs": [],
   "source": [
    "#Creating the associated arrays\n",
    "SIG = np.array([sig_5e11, sig_1e12, sig_2e12, sig_3e12, sig_4e12, sig_5e12])\n",
    "ERR_SIG = np.array([err_sig_5e11, err_sig_1e12, err_sig_2e12, err_sig_3e12, err_sig_4e12, err_sig_5e12])"
   ]
  },
  {
   "cell_type": "markdown",
   "id": "understanding-violation",
   "metadata": {},
   "source": [
    "sig_yield_5e12 = 4010\n",
    "sig_yield_4e12 = 3214\n",
    "sig_yield_3e12 = 2403\n",
    "sig_yield_2e12 = 1607\n",
    "sig_yield_1e12 = 804\n",
    "sig_yield_5e11 = 399.2\n",
    "\n",
    "SIG = np.array([sig_yield_5e11, sig_yield_1e12, sig_yield_2e12, sig_yield_3e12, sig_yield_4e12, sig_yield_5e12])"
   ]
  },
  {
   "cell_type": "markdown",
   "id": "least-burner",
   "metadata": {},
   "source": [
    "### Normalisation channel yields for different number of $Z^0$ bosons"
   ]
  },
  {
   "cell_type": "code",
   "execution_count": null,
   "id": "consistent-gibraltar",
   "metadata": {},
   "outputs": [],
   "source": [
    "def norm(N_Z0) :\n",
    "    return N_Z0*BF_Zbb*2*F_Bc*BF_BcJpsitaunu*epsilon_Bctaunu\n",
    "\n",
    "#Est ce que je dois rajouter J/Psi -> mu mu ?"
   ]
  },
  {
   "cell_type": "code",
   "execution_count": null,
   "id": "exempt-elimination",
   "metadata": {},
   "outputs": [],
   "source": [
    "#5e12 Z0\n",
    "norm_5e12 = 4009.2649482816005\n",
    "err_sig_5e12 = 125.2\n",
    "uncertainty_sig_5e12 = ufloat(sig_5e12, err_sig_5e12)\n",
    "\n",
    "#4e12 Z0\n",
    "norm_4e12 = 3207.4119586252805\n",
    "err_sig_4e12 = 110.6\n",
    "uncertainty_sig_4e12 = ufloat(sig_4e12, err_sig_4e12)\n",
    "\n",
    "#3e12 Z0\n",
    "norm_3e12 = 2405.55896896896\n",
    "err_sig_3e12 = 98.76\n",
    "uncertainty_sig_3e12 = ufloat(sig_3e12, err_sig_3e12)\n",
    "\n",
    "#2e12 Z0\n",
    "norm_2e12 = 1603.7059793126402\n",
    "err_sig_2e12 = 80.78\n",
    "uncertainty_sig_2e12 = ufloat(sig_2e12, err_sig_2e12)\n",
    "\n",
    "#1e12 Z0\n",
    "norm_1e12 = 801.8529896563201\n",
    "err_sig_1e12 = 57.34\n",
    "uncertainty_sig_1e12 = ufloat(sig_1e12, err_sig_1e12)\n",
    "\n",
    "#0.5e12 Z0\n",
    "norm_5e11 = 400.92649482816006\n",
    "err_norm_5e11 = 40.26\n",
    "uncertainty_sig_5e11 = ufloat(sig_5e11, err_sig_5e11)"
   ]
  }
 ],
 "metadata": {
  "kernelspec": {
   "display_name": "Python 3",
   "language": "python",
   "name": "python3"
  },
  "language_info": {
   "codemirror_mode": {
    "name": "ipython",
    "version": 3
   },
   "file_extension": ".py",
   "mimetype": "text/x-python",
   "name": "python",
   "nbconvert_exporter": "python",
   "pygments_lexer": "ipython3",
   "version": "3.8.6"
  }
 },
 "nbformat": 4,
 "nbformat_minor": 5
}
