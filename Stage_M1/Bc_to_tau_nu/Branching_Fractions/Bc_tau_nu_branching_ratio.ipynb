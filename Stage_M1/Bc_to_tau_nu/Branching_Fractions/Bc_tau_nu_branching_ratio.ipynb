{
 "cells": [
  {
   "cell_type": "code",
   "execution_count": 1,
   "id": "medical-reality",
   "metadata": {},
   "outputs": [
    {
     "name": "stderr",
     "output_type": "stream",
     "text": [
      "/cvmfs/sft.cern.ch/lcg/releases/Python/3.9.5-82945/x86_64-centos7-gcc8-opt/lib/python3.9/_collections_abc.py:940: MatplotlibDeprecationWarning: Support for setting the 'text.latex.preamble' or 'pgf.preamble' rcParam to a list of strings is deprecated since 3.3 and will be removed two minor releases later; set it to a single string instead.\n",
      "  self[key] = other[key]\n"
     ]
    }
   ],
   "source": [
    "import pandas\n",
    "import uproot\n",
    "import matplotlib.pyplot as plt\n",
    "import numpy as np\n",
    "import scipy.interpolate as interpolate\n",
    "import pickle\n",
    "\n",
    "from uncertainties import ufloat\n",
    "from uncertainties import unumpy\n",
    "import uncertainties as u\n",
    "\n",
    "from matplotlib import rc\n",
    "rc('font',**{'family':'serif','serif':['Roman']})\n",
    "rc('text', usetex=True)\n",
    "params= {'text.latex.preamble' : [r'\\usepackage{amsmath}']}\n",
    "plt.rcParams.update(params)\n",
    "plt.rcParams['text.latex.preamble'] = r\"\\usepackage{bm} \\usepackage{amsmath}\""
   ]
  },
  {
   "cell_type": "code",
   "execution_count": 2,
   "id": "careful-classification",
   "metadata": {},
   "outputs": [],
   "source": [
    "#Dowloading the data\n",
    "bc_tree = uproot.open('/eos/experiment/fcc/ee/analyses/case-studies/flavour/Bc2TauNu/flatNtuples/spring2021/prod_04/Analysis_stage2/p8_ee_Zbb_ecm91_EvtGen_Bc2TauNuTAUHADNU.root')['events']\n",
    "tree_gen = uproot.open(\"/eos/experiment/fcc/ee/analyses/case-studies/flavour/Bc2TauNu/flatNtuples/spring2021/prod_04/Analysis_stage2/p8_ee_Zbb_ecm91_EvtGen_Bc2TauNuTAUHADNU.root\")[\"metadata\"]\n",
    "\n",
    "#Transforming the data into a dataframe\n",
    "bc_df = bc_tree.arrays(library=\"pd\", how=\"zip\", filter_name=[\"EVT_*\"])\n",
    "df_gen = tree_gen.arrays(library=\"pd\", how=\"zip\")"
   ]
  },
  {
   "cell_type": "markdown",
   "id": "political-belarus",
   "metadata": {},
   "source": [
    "### General parameters"
   ]
  },
  {
   "cell_type": "code",
   "execution_count": 3,
   "id": "universal-wholesale",
   "metadata": {},
   "outputs": [],
   "source": [
    "#the for theoretical\n",
    "#sim for simulated\n",
    "#exp for experimental"
   ]
  },
  {
   "cell_type": "code",
   "execution_count": 4,
   "id": "agricultural-dayton",
   "metadata": {},
   "outputs": [],
   "source": [
    "N_Z0_array = np.array([5e11, 1e12, 2e12, 3e12, 4e12, 5e12])"
   ]
  },
  {
   "cell_type": "code",
   "execution_count": 5,
   "id": "upset-guatemala",
   "metadata": {},
   "outputs": [
    {
     "name": "stdout",
     "output_type": "stream",
     "text": [
      "BF_BcJpsitaunu = 0.08148148148148149\n"
     ]
    }
   ],
   "source": [
    "### VALUES TO COMPUTE THE NORMALISATION CHANNEL YIELD\n",
    "\n",
    "#Branching fraction Z->quark-pair\n",
    "BF_Zbb = 0.1512\n",
    "\n",
    "#Production ratio of Bc+ and B+\n",
    "F_Bc = 0.0004 \n",
    "\n",
    "#Branching fraction and errors for (Bc+ -> J/psi tau nu) \n",
    "the_BF_BcJpsitaunu = 0.0135 \n",
    "err_BF_BcJpsitaunu = 0.0011 \n",
    "\n",
    "print(\"BF_BcJpsitaunu = {}\".format(err_BF_BcJpsitaunu/the_BF_BcJpsitaunu))\n",
    "\n",
    "BF_BcJpsitaunu = ufloat(the_BF_BcJpsitaunu, err_BF_BcJpsitaunu) #\n"
   ]
  },
  {
   "cell_type": "code",
   "execution_count": 6,
   "id": "willing-rebound",
   "metadata": {},
   "outputs": [
    {
     "name": "stdout",
     "output_type": "stream",
     "text": [
      "BF_Jpsimumu = 0.00033\n",
      "BF_tau3pion = 0.0005\n"
     ]
    }
   ],
   "source": [
    "### EXPERIMENTAL VALUES\n",
    "\n",
    "#Branching fraction and errors for (J/psi -> mu mu)\n",
    "exp_BF_Jpsimumu = 0.05961\n",
    "err_BF_Jpsimumu = 0.00033\n",
    "\n",
    "BF_Jpsimumu = ufloat(exp_BF_Jpsimumu, err_BF_Jpsimumu) #\n",
    "\n",
    "print(\"BF_Jpsimumu = {}\".format(err_BF_Jpsimumu, exp_BF_Jpsimumu))\n",
    "\n",
    "#Branching fraction and errors for (tau -> 3pions nu)\n",
    "exp_BF_tau3pion = 0.0931\n",
    "err_BF_tau3pion = 0.0005\n",
    "\n",
    "BF_tau3pion = ufloat(exp_BF_tau3pion, err_BF_tau3pion) #\n",
    "\n",
    "print(\"BF_tau3pion = {}\".format(err_BF_tau3pion, exp_BF_tau3pion))\n",
    "\n",
    "#BF_Bctaunu = 0.0194\n",
    "#BF_Butaunu = 1.09*10**(-4)\n",
    "#BF_tau3pion = 0.0931"
   ]
  },
  {
   "cell_type": "code",
   "execution_count": 27,
   "id": "foster-justice",
   "metadata": {},
   "outputs": [
    {
     "name": "stdout",
     "output_type": "stream",
     "text": [
      "0.1000+/-0.0010\n",
      "epsilon_BcJpsitaunu = 0.01\n",
      "eff = 0.015815861538494687\n",
      "0.003670+/-0.000019\n",
      "epsilon_Bctaunu = 0.005210156353886405\n"
     ]
    }
   ],
   "source": [
    "### CUT EFFICIENCIES\n",
    "\n",
    "#Cut efficiencies for the optimised cut\n",
    "the_epsilon_BcJpsitaunu = 0.1\n",
    "err_epsilon_BcJpsitaunu = 0.001\n",
    "\n",
    "epsilon_BcJpsitaunu = ufloat(the_epsilon_BcJpsitaunu, err_epsilon_BcJpsitaunu) #\n",
    "print(epsilon_BcJpsitaunu)\n",
    "print(\"epsilon_BcJpsitaunu = {}\".format(err_epsilon_BcJpsitaunu/the_epsilon_BcJpsitaunu))\n",
    "\n",
    "#Cut efficiency for Bc+ -> tau nu\n",
    "nb_total_events = df_gen.iloc[0][\"eventsProcessed\"]\n",
    "\n",
    "bc_sig = bc_df[bc_df['EVT_MVA2']> 0.95]\n",
    "bc_sig = bc_sig[bc_sig['EVT_MVA1']> 0.95]\n",
    "\n",
    "nb_bc_events = len(bc_sig)\n",
    "\n",
    "Optimized_MVA1 = 0.9998599999999961  #+-0.00001\n",
    "Optimized_MVA2 = 0.9963399999999984 #+-0.00001\n",
    "\n",
    "df_bc_sig = bc_sig[bc_sig['EVT_MVA1']>Optimized_MVA1]\n",
    "df_bc_sig = df_bc_sig[df_bc_sig['EVT_MVA2']>Optimized_MVA2]\n",
    "\n",
    "nb_bc_after_cut = len(df_bc_sig)\n",
    "\n",
    "initial_eff_Bctaunu = nb_bc_events / nb_total_events\n",
    "eff_Bctaunu = nb_bc_after_cut / nb_bc_events\n",
    "print(\"eff = {}\".format(eff_Bctaunu))\n",
    "\n",
    "sim_epsilon_Bctaunu = initial_eff_Bctaunu * eff_Bctaunu\n",
    "err_epsilon_Bctaunu = (1/nb_total_events)*np.sqrt(nb_bc_after_cut*(1-nb_bc_after_cut/nb_total_events))\n",
    "\n",
    "epsilon_Bctaunu = ufloat(sim_epsilon_Bctaunu, err_epsilon_Bctaunu) #\n",
    "print(epsilon_Bctaunu)\n",
    "print(\"epsilon_Bctaunu = {}\".format(err_epsilon_Bctaunu/sim_epsilon_Bctaunu))\n"
   ]
  },
  {
   "cell_type": "markdown",
   "id": "medical-retail",
   "metadata": {},
   "source": [
    "### Signal yields for different number of $Z^0$ bosons"
   ]
  },
  {
   "cell_type": "code",
   "execution_count": 8,
   "id": "alive-scientist",
   "metadata": {},
   "outputs": [
    {
     "name": "stdout",
     "output_type": "stream",
     "text": [
      "Signal yield precision for 5e12 = 0.03122766931471107\n",
      "Signal yield precision for 4e12 = 0.03448263005398407\n",
      "Signal yield precision for 3e12 = 0.04105490710224795\n",
      "Signal yield precision for 2e12 = 0.05037082921809825\n",
      "Signal yield precision for 1e12 = 0.07150936735245739\n",
      "Signal yield precision for 5e11 = 0.10041740947366354\n"
     ]
    }
   ],
   "source": [
    "#5e12 Z0\n",
    "sim_sig_5e12 = 4009.2649482816005\n",
    "err_sig_5e12 = 125.2\n",
    "sig_5e12 = ufloat(sim_sig_5e12, err_sig_5e12)\n",
    "\n",
    "print(\"Signal yield precision for 5e12 = {}\".format(err_sig_5e12/sim_sig_5e12))\n",
    "\n",
    "#4e12 Z0\n",
    "sim_sig_4e12 = 3207.4119586252805\n",
    "err_sig_4e12 = 110.6\n",
    "sig_4e12 = ufloat(sim_sig_4e12, err_sig_4e12)\n",
    "\n",
    "print(\"Signal yield precision for 4e12 = {}\".format(err_sig_4e12/sim_sig_4e12))\n",
    "\n",
    "#3e12 Z0\n",
    "sim_sig_3e12 = 2405.55896896896\n",
    "err_sig_3e12 = 98.76\n",
    "sig_3e12 = ufloat(sim_sig_3e12, err_sig_3e12)\n",
    "\n",
    "print(\"Signal yield precision for 3e12 = {}\".format(err_sig_3e12/sim_sig_3e12))\n",
    "\n",
    "#2e12 Z0\n",
    "sim_sig_2e12 = 1603.7059793126402\n",
    "err_sig_2e12 = 80.78\n",
    "sig_2e12 = ufloat(sim_sig_2e12, err_sig_2e12)\n",
    "\n",
    "print(\"Signal yield precision for 2e12 = {}\".format(err_sig_2e12/sim_sig_2e12))\n",
    "\n",
    "#1e12 Z0\n",
    "sim_sig_1e12 = 801.8529896563201\n",
    "err_sig_1e12 = 57.34\n",
    "sig_1e12 = ufloat(sim_sig_1e12, err_sig_1e12)\n",
    "print(\"Signal yield precision for 1e12 = {}\".format(err_sig_1e12/sim_sig_1e12))\n",
    "\n",
    "#0.5e12 Z0\n",
    "sim_sig_5e11 = 400.92649482816006\n",
    "err_sig_5e11 = 40.26\n",
    "sig_5e11 = ufloat(sim_sig_5e11, err_sig_5e11)\n",
    "print(\"Signal yield precision for 5e11 = {}\".format(err_sig_5e11/sim_sig_5e11))"
   ]
  },
  {
   "cell_type": "code",
   "execution_count": 9,
   "id": "assured-davis",
   "metadata": {},
   "outputs": [
    {
     "name": "stdout",
     "output_type": "stream",
     "text": [
      "[400.92649482816006+/-40.26 801.8529896563201+/-57.34\n",
      " 1603.7059793126402+/-80.78 2405.55896896896+/-98.76\n",
      " 3207.4119586252805+/-110.6 4009.2649482816005+/-125.2]\n",
      "(4.0+/-0.4)e+02\n",
      "[ 400.92649483  801.85298966 1603.70597931 2405.55896897 3207.41195863\n",
      " 4009.26494828]\n",
      "[ 40.26  57.34  80.78  98.76 110.6  125.2 ]\n"
     ]
    }
   ],
   "source": [
    "#Creating the associated arrays\n",
    "SIG = np.array([sig_5e11, sig_1e12, sig_2e12, sig_3e12, sig_4e12, sig_5e12])\n",
    "print(SIG)\n",
    "print(SIG[0])\n",
    "print(unumpy.nominal_values(SIG))\n",
    "print(unumpy.std_devs(SIG))"
   ]
  },
  {
   "cell_type": "markdown",
   "id": "finite-butter",
   "metadata": {},
   "source": [
    "### Normalisation channel yields for different number of $Z^0$ bosons"
   ]
  },
  {
   "cell_type": "markdown",
   "id": "occasional-senegal",
   "metadata": {},
   "source": [
    "Ici on n'a pas d'incertitudes car on essaye juste d'observer la propagation des erreurs. Lors de la phase experimentale de cette étude, le yield de la normalisation channel sera calculé à l'aide de fit et on aura alors uneincertitude sur cette valeur mesurée."
   ]
  },
  {
   "cell_type": "code",
   "execution_count": 10,
   "id": "empirical-christian",
   "metadata": {},
   "outputs": [],
   "source": [
    "def NORM_CHANNEL(N_Z0) :\n",
    "    return N_Z0*BF_Zbb*2*F_Bc*the_BF_BcJpsitaunu*exp_BF_Jpsimumu*the_epsilon_BcJpsitaunu\n",
    "\n",
    "#on met \"exp_BF_Jpsimumu\" car on suppose qu'il n'y a pas d'erreurs"
   ]
  },
  {
   "cell_type": "code",
   "execution_count": 11,
   "id": "outside-enemy",
   "metadata": {},
   "outputs": [
    {
     "name": "stdout",
     "output_type": "stream",
     "text": [
      "(4.867+/-0.022)e+04\n",
      "Normalisation channel yield precision for 5e12 = 0.00453281154784069\n",
      "Normalisation channel yield precision for 4e12 = 0.005067837375083911\n",
      "Normalisation channel yield precision for 3e12 = 0.0058518345454278845\n",
      "Normalisation channel yield precision for 2e12 = 0.007167004347744933\n",
      "Normalisation channel yield precision for 1e12 = 0.010135674750167823\n",
      "Normalisation channel yield precision for 5e11 = 0.014334008695489866\n"
     ]
    }
   ],
   "source": [
    "#5e12 Z0\n",
    "sim_norm_5e12 = NORM_CHANNEL(5*10**(12))\n",
    "err_norm_5e12 = np.sqrt(sim_norm_5e12)\n",
    "norm_5e12 = ufloat(sim_norm_5e12, err_norm_5e12)\n",
    "print(norm_5e12)\n",
    "\n",
    "print(\"Normalisation channel yield precision for 5e12 = {}\".format(err_norm_5e12/sim_norm_5e12))\n",
    "\n",
    "#4e12 Z0\n",
    "sim_norm_4e12 = NORM_CHANNEL(4*10**(12))\n",
    "err_norm_4e12 = np.sqrt(sim_norm_4e12)\n",
    "norm_4e12 = ufloat(sim_norm_4e12, err_norm_4e12)\n",
    "\n",
    "print(\"Normalisation channel yield precision for 4e12 = {}\".format(err_norm_4e12/sim_norm_4e12))\n",
    "\n",
    "#3e12 Z0\n",
    "sim_norm_3e12 = NORM_CHANNEL(3*10**(12))\n",
    "err_norm_3e12 = np.sqrt(sim_norm_3e12)\n",
    "norm_3e12 = ufloat(sim_norm_3e12, err_norm_3e12)\n",
    "\n",
    "print(\"Normalisation channel yield precision for 3e12 = {}\".format(err_norm_3e12/sim_norm_3e12))\n",
    "\n",
    "#2e12 Z0\n",
    "sim_norm_2e12 = NORM_CHANNEL(2*10**(12))\n",
    "err_norm_2e12 = np.sqrt(sim_norm_2e12)\n",
    "norm_2e12 = ufloat(sim_norm_2e12, err_norm_2e12)\n",
    "\n",
    "print(\"Normalisation channel yield precision for 2e12 = {}\".format(err_norm_2e12/sim_norm_2e12))\n",
    "\n",
    "#1e12 Z0\n",
    "sim_norm_1e12 = NORM_CHANNEL(1*10**(12))\n",
    "err_norm_1e12 = np.sqrt(sim_norm_1e12)\n",
    "norm_1e12 = ufloat(sim_norm_1e12, err_norm_1e12)\n",
    "\n",
    "print(\"Normalisation channel yield precision for 1e12 = {}\".format(err_norm_1e12/sim_norm_1e12))\n",
    "\n",
    "#0.5e12 Z0\n",
    "sim_norm_5e11 = NORM_CHANNEL(5*10**(11))\n",
    "err_norm_5e11 = np.sqrt(sim_norm_5e11)\n",
    "norm_5e11 = ufloat(sim_norm_5e11, err_norm_5e11)\n",
    "\n",
    "print(\"Normalisation channel yield precision for 5e11 = {}\".format(err_norm_5e11/sim_norm_5e11))"
   ]
  },
  {
   "cell_type": "code",
   "execution_count": 12,
   "id": "extraordinary-spanish",
   "metadata": {},
   "outputs": [
    {
     "name": "stdout",
     "output_type": "stream",
     "text": [
      "[4867.0372800000005+/-69.76415469279335\n",
      " 9734.074560000001+/-98.66141373404297\n",
      " 19468.149120000002+/-139.5283093855867\n",
      " 29202.223680000003+/-170.88658133393622\n",
      " 38936.298240000004+/-197.32282746808593\n",
      " 48670.372800000005+/-220.61362786555142]\n",
      "[ 4867.03728  9734.07456 19468.14912 29202.22368 38936.29824 48670.3728 ]\n",
      "[ 69.76415469  98.66141373 139.52830939 170.88658133 197.32282747\n",
      " 220.61362787]\n"
     ]
    }
   ],
   "source": [
    "#Creating the associated arrays\n",
    "NORM = np.array([norm_5e11, norm_1e12, norm_2e12, norm_3e12, norm_4e12, norm_5e12])\n",
    "print(NORM)\n",
    "print(unumpy.nominal_values(NORM))\n",
    "print(unumpy.std_devs(NORM))"
   ]
  },
  {
   "cell_type": "code",
   "execution_count": null,
   "id": "charitable-paradise",
   "metadata": {},
   "outputs": [],
   "source": []
  },
  {
   "cell_type": "code",
   "execution_count": 13,
   "id": "moral-appearance",
   "metadata": {},
   "outputs": [],
   "source": [
    "BF_SIG= []\n",
    "\n",
    "for i in range (len(NORM)) :\n",
    "    BF_SIG.append(SIG[i]/NORM[i] * epsilon_BcJpsitaunu/epsilon_Bctaunu * BF_Jpsimumu/BF_tau3pion * BF_BcJpsitaunu)\n",
    "\n",
    "BF_SIG = np.array(BF_SIG)"
   ]
  },
  {
   "cell_type": "code",
   "execution_count": 14,
   "id": "animal-airfare",
   "metadata": {},
   "outputs": [
    {
     "name": "stdout",
     "output_type": "stream",
     "text": [
      "[0.0194+/-0.0025379906893672178 0.0194+/-0.0021288960355412795\n",
      " 0.0194+/-0.0018823453283016993\n",
      " 0.019399999999999997+/-0.0017933846305544805\n",
      " 0.0194+/-0.001739586483370865 0.0194+/-0.0017157302744338703]\n",
      "[0.0194 0.0194 0.0194 0.0194 0.0194 0.0194]\n",
      "[0.00253799 0.0021289  0.00188235 0.00179338 0.00173959 0.00171573]\n"
     ]
    }
   ],
   "source": [
    "print(BF_SIG)\n",
    "print(unumpy.nominal_values(BF_SIG))\n",
    "print(unumpy.std_devs(BF_SIG))\n",
    "\n",
    "#remarque : on met un s à values et devs quand on considère plusieurs variables (par exemple dans un array) \n",
    "#           mais pas quand on considère un unique élement"
   ]
  },
  {
   "cell_type": "code",
   "execution_count": 15,
   "id": "isolated-gauge",
   "metadata": {},
   "outputs": [
    {
     "name": "stdout",
     "output_type": "stream",
     "text": [
      "For 5e+11 Z0 bosons we have B(Bc+ -> tau+ nu) = 0.0194 ± 0.0025\n",
      "For 1e+12 Z0 bosons we have B(Bc+ -> tau+ nu) = 0.0194 ± 0.0021\n",
      "For 2e+12 Z0 bosons we have B(Bc+ -> tau+ nu) = 0.0194 ± 0.0019\n",
      "For 3e+12 Z0 bosons we have B(Bc+ -> tau+ nu) = 0.0194 ± 0.0018\n",
      "For 4e+12 Z0 bosons we have B(Bc+ -> tau+ nu) = 0.0194 ± 0.0017\n",
      "For 5e+12 Z0 bosons we have B(Bc+ -> tau+ nu) = 0.0194 ± 0.0017\n"
     ]
    }
   ],
   "source": [
    "for i in range (len(BF_SIG)):\n",
    "    text = r\"For {:.0e} Z0 bosons we have B(Bc+ -> tau+ nu) = {:.4f} ± {:.4f}\"\n",
    "    print(text.format(N_Z0_array[i], unumpy.nominal_values(BF_SIG)[i], unumpy.std_devs(BF_SIG)[i]))                                                                                      "
   ]
  },
  {
   "cell_type": "code",
   "execution_count": 16,
   "id": "classical-protest",
   "metadata": {},
   "outputs": [],
   "source": [
    "RATIO = []\n",
    "\n",
    "for elt in BF_SIG :\n",
    "    RATIO.append(elt/BF_BcJpsitaunu)  \n",
    "    \n",
    "RATIO = np.array(RATIO)"
   ]
  },
  {
   "cell_type": "code",
   "execution_count": 17,
   "id": "increased-experience",
   "metadata": {},
   "outputs": [
    {
     "name": "stdout",
     "output_type": "stream",
     "text": [
      "[1.4370370370370371+/-0.1470823784905105\n",
      " 1.4370370370370371+/-0.10562913720486201\n",
      " 1.4370370370370371+/-0.07570365461843902\n",
      " 1.437037037037037+/-0.06274415766074659\n",
      " 1.4370370370370371+/-0.053795316173338444\n",
      " 1.4370370370370371+/-0.049412964603421344]\n",
      "[1.43703704 1.43703704 1.43703704 1.43703704 1.43703704 1.43703704]\n",
      "[0.14708238 0.10562914 0.07570365 0.06274416 0.05379532 0.04941296]\n"
     ]
    }
   ],
   "source": [
    "print(RATIO)\n",
    "print(unumpy.nominal_values(RATIO))\n",
    "print(unumpy.std_devs(RATIO))"
   ]
  },
  {
   "cell_type": "code",
   "execution_count": 18,
   "id": "incident-objective",
   "metadata": {},
   "outputs": [
    {
     "name": "stdout",
     "output_type": "stream",
     "text": [
      "For 5e+11 Z0 bosons we have R = B(Bc+ -> tau+ nu)/B(Bc+ -> J/psi tau+ nu) = 1.43703704 ± 0.14708238\n",
      "For 1e+12 Z0 bosons we have R = B(Bc+ -> tau+ nu)/B(Bc+ -> J/psi tau+ nu) = 1.43703704 ± 0.10562914\n",
      "For 2e+12 Z0 bosons we have R = B(Bc+ -> tau+ nu)/B(Bc+ -> J/psi tau+ nu) = 1.43703704 ± 0.07570365\n",
      "For 3e+12 Z0 bosons we have R = B(Bc+ -> tau+ nu)/B(Bc+ -> J/psi tau+ nu) = 1.43703704 ± 0.06274416\n",
      "For 4e+12 Z0 bosons we have R = B(Bc+ -> tau+ nu)/B(Bc+ -> J/psi tau+ nu) = 1.43703704 ± 0.05379532\n",
      "For 5e+12 Z0 bosons we have R = B(Bc+ -> tau+ nu)/B(Bc+ -> J/psi tau+ nu) = 1.43703704 ± 0.04941296\n"
     ]
    }
   ],
   "source": [
    "for i in range (len(RATIO)):\n",
    "    text = r\"For {:.0e} Z0 bosons we have R = B(Bc+ -> tau+ nu)/B(Bc+ -> J/psi tau+ nu) = {:.8f} ± {:.8f}\"\n",
    "    print(text.format(N_Z0_array[i], unumpy.nominal_values(RATIO)[i], unumpy.std_devs(RATIO)[i]))                                                                                      "
   ]
  },
  {
   "cell_type": "code",
   "execution_count": 19,
   "id": "toxic-sport",
   "metadata": {},
   "outputs": [
    {
     "name": "stdout",
     "output_type": "stream",
     "text": [
      "$Z^0$\n"
     ]
    }
   ],
   "source": [
    "print(r\"$Z^0$\")"
   ]
  },
  {
   "cell_type": "code",
   "execution_count": 20,
   "id": "auburn-management",
   "metadata": {},
   "outputs": [],
   "source": [
    "### Branching fraction vs Number of Z0 bosons"
   ]
  },
  {
   "cell_type": "code",
   "execution_count": 21,
   "id": "choice-catering",
   "metadata": {},
   "outputs": [],
   "source": [
    "colour_bc = \"#fdae61\""
   ]
  },
  {
   "cell_type": "code",
   "execution_count": 22,
   "id": "failing-nowhere",
   "metadata": {},
   "outputs": [
    {
     "data": {
      "text/plain": [
       "[]"
      ]
     },
     "execution_count": 22,
     "metadata": {},
     "output_type": "execute_result"
    },
    {
     "data": {
      "image/png": "[encoded data removed]",
      "text/plain": [
       "<Figure size 720x432 with 1 Axes>"
      ]
     },
     "metadata": {
      "needs_background": "light"
     },
     "output_type": "display_data"
    }
   ],
   "source": [
    "plt.figure(figsize=(10,6))\n",
    "\n",
    "plt.errorbar(N_Z0_array,\n",
    "             unumpy.nominal_values(BF_SIG),\n",
    "             yerr = unumpy.std_devs(BF_SIG),\n",
    "             fmt = 'o', \n",
    "             color = colour_bc, \n",
    "             markersize = 5)\n",
    "\n",
    "#plt.xlim(min_bin,max_bin)\n",
    "plt.xlabel(r\"Number of $Z^0$ produced\", fontsize=18, labelpad=10)\n",
    "plt.ylabel(r\"$B_c^+$ $\\rightarrow$ $\\tau^+$ $\\nu_\\tau$ branching fraction\", fontsize=18, labelpad=10)\n",
    "plt.tick_params(axis='both', which='major', labelsize=15)\n",
    "#plt.legend(fontsize=15)\n",
    "plt.plot()\n"
   ]
  },
  {
   "cell_type": "code",
   "execution_count": 23,
   "id": "desperate-break",
   "metadata": {},
   "outputs": [
    {
     "data": {
      "text/plain": [
       "[]"
      ]
     },
     "execution_count": 23,
     "metadata": {},
     "output_type": "execute_result"
    },
    {
     "data": {
      "image/png": "[encoded data removed]",
      "text/plain": [
       "<Figure size 720x432 with 1 Axes>"
      ]
     },
     "metadata": {
      "needs_background": "light"
     },
     "output_type": "display_data"
    }
   ],
   "source": [
    "plt.figure(figsize=(10,6))\n",
    "\n",
    "plt.errorbar(N_Z0_array,\n",
    "             unumpy.nominal_values(RATIO),\n",
    "             yerr = unumpy.std_devs(RATIO),\n",
    "             fmt = 'o', \n",
    "             color = colour_bc, \n",
    "             markersize = 5)\n",
    "\n",
    "#plt.xlim(min_bin,max_bin)\n",
    "plt.xlabel(r\"Number of $Z^0$ produced\", fontsize=15, labelpad=10)\n",
    "plt.ylabel(r\"Relative error on R = $\\frac{B(B_c^+ \\rightarrow \\tau^+ \\nu_\\tau)}{B(B_c^+ \\rightarrow J\\Psi \\tau^+ \\nu_\\tau)}$\", fontsize=18, labelpad=10)\n",
    "plt.tick_params(axis='both', which='major', labelsize=12)\n",
    "#plt.legend(fontsize=15)\n",
    "plt.plot()\n",
    "\n",
    "#{B($B_c^+$ $\\rightarrow$ $J/\\Psi$ $\\tau^+$ $\\nu_\\tau$)"
   ]
  },
  {
   "cell_type": "code",
   "execution_count": 28,
   "id": "committed-witness",
   "metadata": {},
   "outputs": [
    {
     "data": {
      "text/plain": [
       "[]"
      ]
     },
     "execution_count": 28,
     "metadata": {},
     "output_type": "execute_result"
    },
    {
     "data": {
      "image/png": "[encoded data removed]",
      "text/plain": [
       "<Figure size 720x432 with 1 Axes>"
      ]
     },
     "metadata": {
      "needs_background": "light"
     },
     "output_type": "display_data"
    }
   ],
   "source": [
    "plt.figure(figsize=(10,6))\n",
    "\n",
    "plt.errorbar(N_Z0_array,\n",
    "             unumpy.std_devs(BF_SIG)/unumpy.nominal_values(BF_SIG),\n",
    "             fmt = 'o', \n",
    "             color = \"k\", #colour_bc, \n",
    "             markersize = 8)\n",
    "\n",
    "#plt.xlim(min_bin,max_bin)\n",
    "plt.xlabel(r\"Number of $Z^0$ produced\", fontsize=18, labelpad=10)\n",
    "plt.ylabel(r\"Relative error on the B($B_c^+$ $\\rightarrow$ $\\tau^+$ $\\nu_\\tau$)\", fontsize=18, labelpad=10)\n",
    "plt.tick_params(axis='both', which='major', labelsize=15)\n",
    "#plt.legend(fontsize=15)\n",
    "plt.plot()"
   ]
  },
  {
   "cell_type": "code",
   "execution_count": 25,
   "id": "skilled-crowd",
   "metadata": {},
   "outputs": [
    {
     "data": {
      "text/plain": [
       "[]"
      ]
     },
     "execution_count": 25,
     "metadata": {},
     "output_type": "execute_result"
    },
    {
     "data": {
      "image/png": "[encoded data removed]",
      "text/plain": [
       "<Figure size 720x432 with 1 Axes>"
      ]
     },
     "metadata": {
      "needs_background": "light"
     },
     "output_type": "display_data"
    }
   ],
   "source": [
    "plt.figure(figsize=(10,6))\n",
    "\n",
    "plt.errorbar(N_Z0_array,\n",
    "             unumpy.std_devs(RATIO)/unumpy.nominal_values(RATIO),\n",
    "             fmt = 'o', \n",
    "             color = \"k\",#colour_bc, \n",
    "             markersize = 8)\n",
    "\n",
    "#plt.xlim(min_bin,max_bin)\n",
    "plt.xlabel(r\"Number of $Z^0$ produced\", fontsize=18, labelpad=10)\n",
    "plt.ylabel(r\"Relative error on R = $\\frac{B(B_c^+ \\rightarrow \\tau^+ \\nu_\\tau)}{B(B_c^+ \\rightarrow J\\Psi \\tau^+ \\nu_\\tau)}$\", fontsize=18, labelpad=10)\n",
    "plt.tick_params(axis='both', which='major', labelsize=15)\n",
    "#plt.legend(fontsize=15)\n",
    "plt.plot()"
   ]
  },
  {
   "cell_type": "code",
   "execution_count": null,
   "id": "horizontal-armor",
   "metadata": {},
   "outputs": [],
   "source": []
  },
  {
   "cell_type": "code",
   "execution_count": null,
   "id": "focal-store",
   "metadata": {},
   "outputs": [],
   "source": []
  }
 ],
 "metadata": {
  "kernelspec": {
   "display_name": "Python 3",
   "language": "python",
   "name": "python3"
  },
  "language_info": {
   "codemirror_mode": {
    "name": "ipython",
    "version": 3
   },
   "file_extension": ".py",
   "mimetype": "text/x-python",
   "name": "python",
   "nbconvert_exporter": "python",
   "pygments_lexer": "ipython3",
   "version": "3.9.5"
  }
 },
 "nbformat": 4,
 "nbformat_minor": 5
}
