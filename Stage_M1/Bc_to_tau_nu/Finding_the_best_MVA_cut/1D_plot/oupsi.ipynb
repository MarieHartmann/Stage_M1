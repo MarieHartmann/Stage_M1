{
 "cells": [
  {
   "cell_type": "code",
   "execution_count": null,
   "id": "juvenile-antique",
   "metadata": {},
   "outputs": [],
   "source": []
  },
  {
   "cell_type": "code",
   "execution_count": 1,
   "id": "japanese-receptor",
   "metadata": {},
   "outputs": [
    {
     "name": "stderr",
     "output_type": "stream",
     "text": [
      "/cvmfs/sft.cern.ch/lcg/releases/Python/3.8.6-3199b/x86_64-centos7-gcc8-opt/lib/python3.8/_collections_abc.py:832: MatplotlibDeprecationWarning: Support for setting the 'text.latex.preamble' or 'pgf.preamble' rcParam to a list of strings is deprecated since 3.3 and will be removed two minor releases later; set it to a single string instead.\n",
      "  self[key] = other[key]\n"
     ]
    }
   ],
   "source": [
    "import pandas\n",
    "import uproot\n",
    "import matplotlib.pyplot as plt\n",
    "import numpy as np\n",
    "\n",
    "from matplotlib import rc\n",
    "rc('font',**{'family':'serif','serif':['Roman']})\n",
    "rc('text', usetex=True)\n",
    "params= {'text.latex.preamble' : [r'\\usepackage{amsmath}']}\n",
    "plt.rcParams.update(params)\n",
    "plt.rcParams['text.latex.preamble'] = r\"\\usepackage{bm} \\usepackage{amsmath}\""
   ]
  },
  {
   "cell_type": "code",
   "execution_count": 2,
   "id": "collaborative-excuse",
   "metadata": {},
   "outputs": [],
   "source": [
    "bc_tree = uproot.open('/eos/experiment/fcc/ee/analyses/case-studies/flavour/Bc2TauNu/flatNtuples/spring2021/prod_04/Analysis_stage2/p8_ee_Zbb_ecm91_EvtGen_Bc2TauNuTAUHADNU.root')['events']\n",
    "bb_tree = uproot.open('/eos/experiment/fcc/ee/analyses/case-studies/flavour/Bc2TauNu/flatNtuples/spring2021/prod_04/Analysis_stage2/p8_ee_Zbb_ecm91_EvtGen.root')['events']\n",
    "tree_gen = uproot.open(\"/eos/experiment/fcc/ee/analyses/case-studies/flavour/Bc2TauNu/flatNtuples/spring2021/prod_04/Analysis_stage2/p8_ee_Zbb_ecm91_EvtGen_Bc2TauNuTAUHADNU.root\")[\"metadata\"]"
   ]
  },
  {
   "cell_type": "code",
   "execution_count": 3,
   "id": "christian-emperor",
   "metadata": {},
   "outputs": [],
   "source": [
    "bc_df = bc_tree.arrays(library=\"pd\", how=\"zip\", filter_name=[\"EVT_*\"])\n",
    "bb_df = bb_tree.arrays(library=\"pd\", how=\"zip\", filter_name=[\"EVT_*\"])\n",
    "df_gen = tree_gen.arrays(library=\"pd\", how=\"zip\")"
   ]
  },
  {
   "cell_type": "code",
   "execution_count": null,
   "id": "communist-andorra",
   "metadata": {},
   "outputs": [],
   "source": []
  },
  {
   "cell_type": "code",
   "execution_count": 11,
   "id": "heavy-blake",
   "metadata": {},
   "outputs": [],
   "source": [
    "var_1 = 'EVT_MVA1'\n",
    "var_2 = 'EVT_MVA2'"
   ]
  },
  {
   "cell_type": "code",
   "execution_count": 12,
   "id": "humanitarian-gasoline",
   "metadata": {},
   "outputs": [],
   "source": [
    "N_Z0 = 5*10**(12)\n",
    "BF_Zbb = 0.1512\n",
    "f_Bc = 0.0004\n",
    "f_Bu = 0.43\n",
    "BF_Bctaunu = 0.0194\n",
    "BF_Butaunu = 1.09*10**(-4)\n",
    "BF_tau3pion = 0.0931"
   ]
  },
  {
   "cell_type": "code",
   "execution_count": 13,
   "id": "sensitive-million",
   "metadata": {},
   "outputs": [],
   "source": [
    "total_nb_gen = df_gen.iloc[0][\"eventsProcessed\"]\n",
    "\n",
    "#Variable_1\n",
    "nb_signal_events_1 = len(bc_df[var_1])\n",
    "nb_incl_bkg_events_1 = len(bb_df[var_1])\n",
    "\n",
    "initial_eff_signal_1 = nb_signal_events_1/total_nb_gen\n",
    "initial_eff_incl_bkg_1 = nb_incl_bkg_events_1/total_nb_gen\n",
    "\n",
    "#Variable_2\n",
    "nb_signal_events_2 = len(bc_df[var_2])\n",
    "nb_incl_bkg_events_2 = len(bb_df[var_2])\n",
    "\n",
    "initial_eff_signal_2 = nb_signal_events_2/total_nb_gen\n",
    "initial_eff_incl_bkg_2 = nb_incl_bkg_events_2/total_nb_gen"
   ]
  },
  {
   "cell_type": "code",
   "execution_count": 14,
   "id": "balanced-pioneer",
   "metadata": {},
   "outputs": [],
   "source": [
    "def S_cut(initial_eff_signal, cut_eff) :\n",
    "    return N_Z0*BF_Zbb*2*f_Bc*BF_Bctaunu*BF_tau3pion*initial_eff_signal*cut_eff\n",
    "\n",
    "def B_incl_cut(initial_eff_incl_bkg, cut_eff) :\n",
    "    return N_Z0*BF_Zbb*2*initial_eff_incl_bkg*cut_eff"
   ]
  },
  {
   "cell_type": "code",
   "execution_count": null,
   "id": "rising-banking",
   "metadata": {},
   "outputs": [],
   "source": []
  },
  {
   "cell_type": "code",
   "execution_count": 20,
   "id": "previous-question",
   "metadata": {},
   "outputs": [
    {
     "name": "stdout",
     "output_type": "stream",
     "text": [
      "[5.07350546e-05 5.10669782e-05 5.14018008e-05 5.17119066e-05\n",
      " 5.20432036e-05 5.24020515e-05 5.27371935e-05 5.30614210e-05\n",
      " 5.34276492e-05 5.38069430e-05 5.42094175e-05 5.45830463e-05\n",
      " 5.49401294e-05 5.53315863e-05 5.57941855e-05 5.62164388e-05\n",
      " 5.66759868e-05 5.70876984e-05 5.75370823e-05 5.80059626e-05\n",
      " 5.84410111e-05 5.89055167e-05 5.93660485e-05 5.98810897e-05\n",
      " 6.04017359e-05 6.09746330e-05 6.14809263e-05 6.20757070e-05\n",
      " 6.25755264e-05 6.31110848e-05 6.37145302e-05 6.42934465e-05\n",
      " 6.48990006e-05 6.55234686e-05 6.62281807e-05 6.69016028e-05\n",
      " 6.74706996e-05 6.82213899e-05 6.89200336e-05 6.96681166e-05\n",
      " 7.04636904e-05 7.12894129e-05 7.20992282e-05 7.29296673e-05\n",
      " 7.37382884e-05 7.46476976e-05 7.55962989e-05 7.65843225e-05\n",
      " 7.76624724e-05 7.86519171e-05 7.96620250e-05 8.08607706e-05\n",
      " 8.19539159e-05 8.30520154e-05 8.42794114e-05 8.56149644e-05\n",
      " 8.68704817e-05 8.81511020e-05 8.94551224e-05 9.09381582e-05\n",
      " 9.24903873e-05 9.41408478e-05 9.58981863e-05 9.76714733e-05\n",
      " 9.95369343e-05 1.01576938e-04 1.03679371e-04 1.05778572e-04\n",
      " 1.07918814e-04 1.10469201e-04 1.13182873e-04 1.15715869e-04\n",
      " 1.18769612e-04 1.22098983e-04 1.25441665e-04 1.29291519e-04\n",
      " 1.33370871e-04 1.38006296e-04 1.42560443e-04 1.47930465e-04\n",
      " 1.53241359e-04 1.59322528e-04 1.66164685e-04 1.73785292e-04\n",
      " 1.81951552e-04 1.90772026e-04 2.01049453e-04 2.12610895e-04\n",
      " 2.25959923e-04 2.40536365e-04 2.58673496e-04 2.81975335e-04\n",
      " 3.08732034e-04 3.38327469e-04 3.82255086e-04 4.39348571e-04\n",
      " 5.10928785e-04 6.44522813e-04 8.60494293e-04 1.41616902e-03]\n"
     ]
    }
   ],
   "source": [
    "#Variable 1\n",
    "var = var_1 #:)\n",
    "nb_signal_events = nb_signal_events_1 #:)\n",
    "nb_incl_bkg_events = nb_incl_bkg_events_1 #:)\n",
    "initial_eff_signal = initial_eff_signal_1 #:)\n",
    "initial_eff_incl_bkg = initial_eff_incl_bkg_1 #:)\n",
    "\n",
    "initial_cut = 0.95\n",
    "max_cut_value = bb_df[var].max()\n",
    "cut_step = 0.0005\n",
    "\n",
    "cut = np.arange(initial_cut, max_cut_value, cut_step)\n",
    "p_tab = np.zeros(np.size(cut))\n",
    "\n",
    "\n",
    "for i, cut_i in enumerate(cut) :\n",
    "    \n",
    "    df_signal = bc_df[bc_df[var] > cut_i]\n",
    "    df_bkg = bb_df[bb_df[var] > cut_i]\n",
    "\n",
    "    cut_eff_signal = len(df_signal)/nb_signal_events\n",
    "    cut_eff_bkg = len(df_bkg)/nb_incl_bkg_events\n",
    "\n",
    "    s = S_cut(initial_eff_signal, cut_eff_signal)\n",
    "    b = B_incl_cut(initial_eff_incl_bkg, cut_eff_bkg)\n",
    "        \n",
    "    p_tab[i] = s/(s+b)\n",
    "    \n",
    "print (p_tab)"
   ]
  },
  {
   "cell_type": "code",
   "execution_count": 30,
   "id": "accepting-patrol",
   "metadata": {},
   "outputs": [
    {
     "data": {
      "text/plain": [
       "[]"
      ]
     },
     "execution_count": 30,
     "metadata": {},
     "output_type": "execute_result"
    },
    {
     "data": {
      "image/png": "[encoded data removed]",
      "text/plain": [
       "<Figure size 432x288 with 1 Axes>"
      ]
     },
     "metadata": {
      "needs_background": "light"
     },
     "output_type": "display_data"
    }
   ],
   "source": [
    "plt.figure()\n",
    "plt.scatter(-np.log(1-cut), p_tab, color= '#3182bd', s=2)\n",
    "plt.xlabel('-log(1-MVA1)')\n",
    "plt.ylabel('P(MVA1)')\n",
    "plt.title(r'$B_c^+ \\rightarrow \\tau^+ \\nu_\\tau$ and inclusive $Z^0 \\rightarrow b\\bar{b}$ background')\n",
    "plt.plot()"
   ]
  },
  {
   "cell_type": "code",
   "execution_count": 26,
   "id": "technical-prayer",
   "metadata": {},
   "outputs": [
    {
     "name": "stdout",
     "output_type": "stream",
     "text": [
      "[0.00010057 0.00010135 0.00010222 0.00010307 0.0001039  0.00010471\n",
      " 0.00010556 0.0001064  0.00010735 0.00010837 0.0001093  0.00011024\n",
      " 0.00011132 0.00011242 0.00011357 0.00011473 0.00011589 0.00011701\n",
      " 0.00011794 0.00011928 0.00012048 0.00012178 0.00012294 0.00012438\n",
      " 0.00012571 0.00012728 0.00012878 0.00013049 0.00013192 0.00013327\n",
      " 0.00013482 0.0001365  0.00013797 0.00013943 0.00014127 0.00014276\n",
      " 0.00014465 0.00014637 0.00014831 0.00015008 0.00015176 0.00015379\n",
      " 0.00015579 0.00015825 0.00016092 0.0001634  0.00016562 0.0001685\n",
      " 0.00017151 0.00017437 0.00017717 0.00018065 0.00018386 0.00018701\n",
      " 0.00019014 0.00019306 0.00019633 0.0002004  0.0002038  0.00020732\n",
      " 0.00021122 0.00021561 0.00021996 0.00022437 0.00022897 0.00023479\n",
      " 0.0002407  0.00024724 0.00025321 0.0002599  0.00026639 0.00027299\n",
      " 0.00027966 0.00028689 0.00029688 0.00030626 0.00031721 0.00032535\n",
      " 0.00033381 0.00034739 0.00036354 0.00038161 0.00039356 0.00041054\n",
      " 0.00043052 0.00045414 0.00047775 0.00050437 0.00052352 0.00055933\n",
      " 0.00060232 0.00064838 0.00067827 0.00069527 0.00071621 0.00080261\n",
      " 0.00086232 0.0009451  0.00092851 0.00072987]\n"
     ]
    }
   ],
   "source": [
    "#Variable 2\n",
    "var = var_2 #:)\n",
    "nb_signal_events = nb_signal_events_2 #:)\n",
    "nb_incl_bkg_events = nb_incl_bkg_events_2 #:)\n",
    "initial_eff_signal = initial_eff_signal_2 #:)\n",
    "initial_eff_incl_bkg = initial_eff_incl_bkg_2 #:)\n",
    "\n",
    "initial_cut = 0.95\n",
    "max_cut_value = bb_df[var].max()\n",
    "cut_step = 0.0005\n",
    "\n",
    "cut_bis = np.arange(initial_cut, max_cut_value, cut_step)\n",
    "p_tab_bis = np.zeros(np.size(cut))\n",
    "\n",
    "\n",
    "for i, cut_i in enumerate(cut) :\n",
    "    \n",
    "    df_signal = bc_df[bc_df[var] > cut_i]\n",
    "    df_bkg = bb_df[bb_df[var] > cut_i]\n",
    "\n",
    "    cut_eff_signal = len(df_signal)/nb_signal_events\n",
    "    cut_eff_bkg = len(df_bkg)/nb_incl_bkg_events\n",
    "\n",
    "    s = S_cut(initial_eff_signal, cut_eff_signal)\n",
    "    b = B_incl_cut(initial_eff_incl_bkg, cut_eff_bkg)\n",
    "        \n",
    "    p_tab_bis[i] = s/(s+b)\n",
    "    \n",
    "print (p_tab_bis)"
   ]
  },
  {
   "cell_type": "code",
   "execution_count": 31,
   "id": "homeless-treasurer",
   "metadata": {},
   "outputs": [
    {
     "data": {
      "text/plain": [
       "[]"
      ]
     },
     "execution_count": 31,
     "metadata": {},
     "output_type": "execute_result"
    },
    {
     "data": {
      "image/png": "[encoded data removed]",
      "text/plain": [
       "<Figure size 432x288 with 1 Axes>"
      ]
     },
     "metadata": {
      "needs_background": "light"
     },
     "output_type": "display_data"
    }
   ],
   "source": [
    "plt.figure()\n",
    "plt.scatter(-np.log(1-cut_bis), p_tab_bis, color= '#3182bd', s=2)\n",
    "plt.xlabel('-log(1-MVA2)')\n",
    "plt.ylabel('P(MVA2)')\n",
    "plt.title(r'$B_c^+ \\rightarrow \\tau^+ \\nu_\\tau$ and inclusive $Z^0 \\rightarrow b\\bar{b}$ background')\n",
    "plt.plot()"
   ]
  },
  {
   "cell_type": "code",
   "execution_count": null,
   "id": "young-group",
   "metadata": {},
   "outputs": [],
   "source": []
  }
 ],
 "metadata": {
  "kernelspec": {
   "display_name": "Python 3",
   "language": "python",
   "name": "python3"
  },
  "language_info": {
   "codemirror_mode": {
    "name": "ipython",
    "version": 3
   },
   "file_extension": ".py",
   "mimetype": "text/x-python",
   "name": "python",
   "nbconvert_exporter": "python",
   "pygments_lexer": "ipython3",
   "version": "3.8.6"
  }
 },
 "nbformat": 4,
 "nbformat_minor": 5
}
