{
 "cells": [
  {
   "cell_type": "markdown",
   "id": "dress-escape",
   "metadata": {},
   "source": [
    "# Trouver un compromis entre une valeur de pureté élevée et un nombre d'élements de signal sufisament important "
   ]
  },
  {
   "cell_type": "code",
   "execution_count": 2,
   "id": "deadly-berkeley",
   "metadata": {},
   "outputs": [
    {
     "name": "stderr",
     "output_type": "stream",
     "text": [
      "/cvmfs/sft.cern.ch/lcg/releases/Python/3.8.6-3199b/x86_64-centos7-gcc8-opt/lib/python3.8/_collections_abc.py:832: MatplotlibDeprecationWarning: Support for setting the 'text.latex.preamble' or 'pgf.preamble' rcParam to a list of strings is deprecated since 3.3 and will be removed two minor releases later; set it to a single string instead.\n",
      "  self[key] = other[key]\n"
     ]
    }
   ],
   "source": [
    "import pandas\n",
    "import uproot\n",
    "import matplotlib.pyplot as plt\n",
    "import numpy as np\n",
    "import scipy.interpolate as interpolate\n",
    "import pickle\n",
    "\n",
    "from matplotlib import rc\n",
    "rc('font',**{'family':'serif','serif':['Roman']})\n",
    "rc('text', usetex=True)\n",
    "params= {'text.latex.preamble' : [r'\\usepackage{amsmath}']}\n",
    "plt.rcParams.update(params)\n",
    "plt.rcParams['text.latex.preamble'] = r\"\\usepackage{bm} \\usepackage{amsmath}\""
   ]
  },
  {
   "cell_type": "code",
   "execution_count": 3,
   "id": "appropriate-entertainment",
   "metadata": {},
   "outputs": [],
   "source": [
    "bc_tree = uproot.open('/eos/experiment/fcc/ee/analyses/case-studies/flavour/Bc2TauNu/flatNtuples/spring2021/prod_04/Analysis_stage2/p8_ee_Zbb_ecm91_EvtGen_Bc2TauNuTAUHADNU.root')['events']\n",
    "bb_tree = uproot.open('/eos/experiment/fcc/ee/analyses/case-studies/flavour/Bc2TauNu/flatNtuples/spring2021/prod_04/Analysis_stage2/p8_ee_Zbb_ecm91_EvtGen.root')['events']\n",
    "bu_tree = uproot.open('/eos/experiment/fcc/ee/analyses/case-studies/flavour/Bc2TauNu/flatNtuples/spring2021/prod_04/Analysis_stage2/p8_ee_Zbb_ecm91_EvtGen_Bu2TauNuTAUHADNU.root')['events']\n",
    "tree_gen = uproot.open(\"/eos/experiment/fcc/ee/analyses/case-studies/flavour/Bc2TauNu/flatNtuples/spring2021/prod_04/Analysis_stage2/p8_ee_Zbb_ecm91_EvtGen_Bc2TauNuTAUHADNU.root\")[\"metadata\"]"
   ]
  },
  {
   "cell_type": "code",
   "execution_count": null,
   "id": "alive-davis",
   "metadata": {},
   "outputs": [],
   "source": [
    "bc_df = bc_tree.arrays(library=\"pd\", how=\"zip\", filter_name=[\"EVT_*\"])\n",
    "bb_df = bb_tree.arrays(library=\"pd\", how=\"zip\", filter_name=[\"EVT_*\"])\n",
    "bu_df = bu_tree.arrays(library=\"pd\", how=\"zip\", filter_name=[\"EVT_*\"])\n",
    "df_gen = tree_gen.arrays(library=\"pd\", how=\"zip\")"
   ]
  },
  {
   "cell_type": "code",
   "execution_count": 4,
   "id": "pending-topic",
   "metadata": {},
   "outputs": [],
   "source": [
    "N_Z0 = 5*10**(12)\n",
    "BF_Zbb = 0.1512\n",
    "f_Bc = 0.0004\n",
    "BF_Bctaunu = 0.0194\n",
    "BF_tau3pion = 0.0931"
   ]
  },
  {
   "cell_type": "code",
   "execution_count": 5,
   "id": "specific-facing",
   "metadata": {},
   "outputs": [],
   "source": [
    "def S_cut(initial_eff_signal, cut_eff) :\n",
    "    return N_Z0*BF_Zbb*2*f_Bc*BF_Bctaunu*BF_tau3pion*initial_eff_signal*cut_eff\n",
    "\n",
    "def B_incl_cut(initial_eff_incl_bkg, cut_eff) :\n",
    "    return N_Z0*BF_Zbb*2*initial_eff_incl_bkg*cut_eff"
   ]
  },
  {
   "cell_type": "code",
   "execution_count": 6,
   "id": "stock-spanking",
   "metadata": {},
   "outputs": [],
   "source": [
    "spline_MVA1_log = pickle.load(open('Spline_functions/MVA1_spline_log.pkl','rb'))\n",
    "spline_MVA2_log = pickle.load(open('Spline_functions/MVA2_spline_log.pkl','rb'))"
   ]
  },
  {
   "cell_type": "markdown",
   "id": "invalid-light",
   "metadata": {},
   "source": [
    "# Superposition plot imshow purity et scatter du nombre d'évènements de signal"
   ]
  },
  {
   "cell_type": "markdown",
   "id": "american-creek",
   "metadata": {},
   "source": [
    "cut_min = 0.995, cut_step = 0.0001 --> bcp points pour scatter + imshow"
   ]
  },
  {
   "cell_type": "markdown",
   "id": "automatic-survey",
   "metadata": {},
   "source": [
    "cut_min = 0.999, cut_step = 0.00007"
   ]
  },
  {
   "cell_type": "markdown",
   "id": "piano-tunnel",
   "metadata": {},
   "source": [
    "cut_min = 0.999, cut_step = 0.0005 "
   ]
  },
  {
   "cell_type": "code",
   "execution_count": null,
   "id": "stock-cabin",
   "metadata": {},
   "outputs": [],
   "source": [
    "cut_step = 0.00005\n",
    "#100 valeurs donne un effet continu\n",
    "\n",
    "#MVA1\n",
    "var1 = 'EVT_MVA1'\n",
    "min_cut_1 = 0.995\n",
    "max_cut_1_log = 9\n",
    "\n",
    "min_cut_1_log = -np.log(1 - min_cut_1)\n",
    "max_cut_1 = 1 - np.exp(-max_cut_1_log)\n",
    "nb_bkg_events_1 = interpolate.splint(0.95, 9, spline_MVA1_log) # Valeurs extrémales def spline\n",
    "\n",
    "#MVA2\n",
    "var2 = 'EVT_MVA2'\n",
    "min_cut_2 = 0.995\n",
    "max_cut_2_log = 8\n",
    "\n",
    "max_cut_2 = 1 - np.exp(-max_cut_2_log)\n",
    "min_cut_2_log = -np.log(1 - min_cut_2)\n",
    "nb_bkg_events_2 = interpolate.splint(0.95, 8, spline_MVA2_log) # Valeurs extrémales def spline\n",
    "\n",
    "#Parameters\n",
    "sig = bc_df[bc_df[var2]> 0.95]\n",
    "sig = sig[sig[var1]> 0.95]\n",
    "bkg = bb_df[bb_df[var2]> 0.95]  #Il faut que l'on considère le même cut de départ pour tous\n",
    "bkg = bkg[bkg[var1]> 0.95] # (pour les len ou pour les splines)\n",
    "\n",
    "nb_total_events = df_gen.iloc[0][\"eventsProcessed\"]\n",
    "nb_signal_events = len(sig)\n",
    "nb_bkg_events = len(bkg)\n",
    "\n",
    "initial_eff_signal = nb_signal_events / nb_total_events\n",
    "initial_eff_incl_bkg = nb_bkg_events / nb_total_events\n",
    "\n",
    "#print('eff sig {}'.format(initial_eff_signal))\n",
    "#print('eff bkg {}'.format(initial_eff_incl_bkg))\n",
    "\n",
    "#np.array()\n",
    "cut_1 = np.arange(min_cut_1, max_cut_1, cut_step)\n",
    "cut_2 = np.arange(min_cut_2, max_cut_2, cut_step)\n",
    "p_tab = np.zeros((np.size(cut_2),np.size(cut_1)))\n",
    "s_tab = np.zeros((np.size(cut_2),np.size(cut_1)))\n",
    "b_tab = np.zeros((np.size(cut_2),np.size(cut_1)))\n",
    "\n",
    "print(cut_1)\n",
    "print(cut_2)\n",
    "\n",
    "#To help find a compromise between the purity and the number of signal events\n",
    "N_sig = 4000\n",
    "mva1 = []\n",
    "mva2 = []\n",
    "N_sig_list = []\n",
    "\n",
    "\n",
    "for i1, cut_i1 in enumerate(cut_1) :\n",
    "    \n",
    "    cut_i1_log = -np.log(1 - cut_i1)\n",
    "    df_sig = bc_df[ bc_df[var1] > cut_i1 ]\n",
    "    \n",
    "    for i2, cut_i2 in enumerate(cut_2) :\n",
    "\n",
    "        cut_i2_log = -np.log(1-cut_i2) #log\n",
    "        df_signal = df_sig[df_sig[var2]>cut_i2]\n",
    "\n",
    "        nb_sig_cut_i1_i2 = len(df_signal)\n",
    "        nb_bkg_cut_i1 = interpolate.splint(cut_i1_log, max_cut_1_log, spline_MVA1_log) #log\n",
    "        nb_bkg_cut_i2 = interpolate.splint(cut_i2_log, max_cut_2_log, spline_MVA2_log) #log\n",
    "        \n",
    "        signal_cut_eff = nb_sig_cut_i1_i2 / nb_signal_events\n",
    "        bkg_cut_eff = (nb_bkg_cut_i1 / nb_bkg_events_1) * (nb_bkg_cut_i2 / nb_bkg_events_2)\n",
    "\n",
    "        s = S_cut(initial_eff_signal, signal_cut_eff)\n",
    "        b = B_incl_cut(initial_eff_incl_bkg, bkg_cut_eff) \n",
    "        \n",
    "        if b==0 :\n",
    "            print('B(MVA1,MVA2)=0 pour le cut MVA1 = {} et pour le cut MVA2 = {} ce qui correspond à la coordonées ({},{})'.format(cut_i1,cut_i2,i2,i1))\n",
    "            ##### Vérification qu'il n'y a pas de valeurs de background égales à 0\n",
    "            \n",
    "        s_tab[i2,i1] = s\n",
    "        b_tab[i2,i1] = b\n",
    "        p_tab[i2,i1] = s/(s+b)\n",
    "\n",
    "        mva1.append(i1)\n",
    "        mva2.append(i2)\n",
    "        N_sig_list.append(nb_sig_cut_i1_i2)"
   ]
  },
  {
   "cell_type": "code",
   "execution_count": null,
   "id": "sixth-newton",
   "metadata": {},
   "outputs": [],
   "source": [
    "precision = 4\n",
    "\n",
    "plt.figure(figsize=(25,8))\n",
    "\n",
    "nb_sig = plt.scatter(mva1, mva2, c=N_sig_list, cmap='plasma_r', s=20, label='nb sig events $>$ {}'.format(N_sig))\n",
    "cb_nb_sig = plt.colorbar(nb_sig, fraction=0.0345)\n",
    "cb_nb_sig.ax.tick_params(labelsize=15)\n",
    "cb_nb_sig.set_label('Number of signal events', fontsize=20, labelpad=10) #$>$ {}'.format(N_sig)\n",
    "\n",
    "purity = plt.imshow(p_tab, cmap='Blues', origin='lower')\n",
    "cb_purity = plt.colorbar(purity, fraction=0.0355)\n",
    "cb_purity.ax.tick_params(labelsize=15)\n",
    "cb_purity.set_label('P(MVA1,MVA2)', fontsize=20, labelpad=15)\n",
    "\n",
    "plt.tick_params(axis='both', which='major', labelsize=15)\n",
    "\n",
    "plt.xticks(np.arange(len(cut_1)),np.around(cut_1,precision), rotation=60)\n",
    "plt.yticks(np.arange(len(cut_2)),np.around(cut_2,precision))\n",
    "plt.xlabel('Value of the MVA1 cut', fontsize=20, labelpad=20)\n",
    "plt.ylabel('Value of the MVA2 cut', fontsize=20, labelpad=20)\n",
    "\n",
    "plt.show()"
   ]
  },
  {
   "cell_type": "code",
   "execution_count": null,
   "id": "dental-details",
   "metadata": {},
   "outputs": [],
   "source": [
    "plt.figure()\n",
    "plt.imshow(s_tab, cmap='Orangess', origin='lower', extent=(cut_1[0], cut_1[-1], cut_2[0], cut_2[-1])) #(vmin=0, vmax=0.01)\n",
    "plt.xlabel('Value of the MVA1 cut')\n",
    "plt.ylabel('Value of the MVA2 cut')\n",
    "plt.title('S(MVA1,MVA2)')\n",
    "plt.xlim(cut_1[0],cut_1[-1])\n",
    "plt.ylim(cut_2[0],cut_2[-1])\n",
    "plt.colorbar()\n",
    "plt.show()"
   ]
  },
  {
   "cell_type": "code",
   "execution_count": null,
   "id": "german-stephen",
   "metadata": {},
   "outputs": [],
   "source": [
    "plt.figure()\n",
    "plt.imshow(b_tab, cmap='Purples', origin='lower', extent=(cut_1[0], cut_1[-1], cut_2[0], cut_2[-1])) #(vmin=0, vmax=0.01)\n",
    "plt.xlabel('Value of the MVA1 cut')\n",
    "plt.ylabel('Value of the MVA2 cut')\n",
    "plt.title('B(MVA1,MVA2)')\n",
    "plt.xlim(cut_1[0],cut_1[-1])\n",
    "plt.ylim(cut_2[0],cut_2[-1])\n",
    "plt.colorbar()\n",
    "plt.show()"
   ]
  },
  {
   "cell_type": "markdown",
   "id": "thirty-camcorder",
   "metadata": {},
   "source": [
    "# Déterminer les valeurs associées au meilleur compromis "
   ]
  },
  {
   "cell_type": "code",
   "execution_count": 1,
   "id": "satisfied-execution",
   "metadata": {},
   "outputs": [
    {
     "ename": "NameError",
     "evalue": "name 'np' is not defined",
     "output_type": "error",
     "traceback": [
      "\u001b[0;31m---------------------------------------------------------------------------\u001b[0m",
      "\u001b[0;31mNameError\u001b[0m                                 Traceback (most recent call last)",
      "\u001b[0;32m<ipython-input-1-7d3db032d3a8>\u001b[0m in \u001b[0;36m<module>\u001b[0;34m\u001b[0m\n\u001b[1;32m      7\u001b[0m \u001b[0mmax_cut_1_log\u001b[0m \u001b[0;34m=\u001b[0m \u001b[0;36m9\u001b[0m\u001b[0;34m\u001b[0m\u001b[0;34m\u001b[0m\u001b[0m\n\u001b[1;32m      8\u001b[0m \u001b[0;34m\u001b[0m\u001b[0m\n\u001b[0;32m----> 9\u001b[0;31m \u001b[0mmin_cut_1_log\u001b[0m \u001b[0;34m=\u001b[0m \u001b[0;34m-\u001b[0m\u001b[0mnp\u001b[0m\u001b[0;34m.\u001b[0m\u001b[0mlog\u001b[0m\u001b[0;34m(\u001b[0m\u001b[0;36m1\u001b[0m \u001b[0;34m-\u001b[0m \u001b[0mmin_cut_1\u001b[0m\u001b[0;34m)\u001b[0m\u001b[0;34m\u001b[0m\u001b[0;34m\u001b[0m\u001b[0m\n\u001b[0m\u001b[1;32m     10\u001b[0m \u001b[0mmax_cut_1\u001b[0m \u001b[0;34m=\u001b[0m \u001b[0;36m1\u001b[0m \u001b[0;34m-\u001b[0m \u001b[0mnp\u001b[0m\u001b[0;34m.\u001b[0m\u001b[0mexp\u001b[0m\u001b[0;34m(\u001b[0m\u001b[0;34m-\u001b[0m\u001b[0mmax_cut_1_log\u001b[0m\u001b[0;34m)\u001b[0m\u001b[0;34m\u001b[0m\u001b[0;34m\u001b[0m\u001b[0m\n\u001b[1;32m     11\u001b[0m \u001b[0mnb_bkg_events_1\u001b[0m \u001b[0;34m=\u001b[0m \u001b[0minterpolate\u001b[0m\u001b[0;34m.\u001b[0m\u001b[0msplint\u001b[0m\u001b[0;34m(\u001b[0m\u001b[0;36m0.95\u001b[0m\u001b[0;34m,\u001b[0m \u001b[0;36m9\u001b[0m\u001b[0;34m,\u001b[0m \u001b[0mspline_MVA1_log\u001b[0m\u001b[0;34m)\u001b[0m \u001b[0;31m# Valeurs extrémales def spline\u001b[0m\u001b[0;34m\u001b[0m\u001b[0;34m\u001b[0m\u001b[0m\n",
      "\u001b[0;31mNameError\u001b[0m: name 'np' is not defined"
     ]
    }
   ],
   "source": [
    "cut_step = 0.000005\n",
    "#100 valeurs donnent un effet continu\n",
    "\n",
    "#MVA1\n",
    "var1 = 'EVT_MVA1'\n",
    "min_cut_1 = 0.999\n",
    "max_cut_1_log = 9\n",
    "\n",
    "min_cut_1_log = -np.log(1 - min_cut_1)\n",
    "max_cut_1 = 1 - np.exp(-max_cut_1_log)\n",
    "nb_bkg_events_1 = interpolate.splint(0.95, 9, spline_MVA1_log) # Valeurs extrémales def spline\n",
    "\n",
    "#MVA2\n",
    "var2 = 'EVT_MVA2'\n",
    "min_cut_2 = 0.996\n",
    "max_cut_2_log = 8\n",
    "\n",
    "max_cut_2 = 1 - np.exp(-max_cut_2_log)\n",
    "min_cut_2_log = -np.log(1 - min_cut_2)\n",
    "nb_bkg_events_2 = interpolate.splint(0.95, 8, spline_MVA2_log) # Valeurs extrémales def spline\n",
    "\n",
    "#Parameters\n",
    "sig = bc_df[bc_df[var2]> 0.95]\n",
    "sig = sig[sig[var1]> 0.95]\n",
    "bkg = bb_df[bb_df[var2]> 0.95]  #Il faut que l'on considère le même cut de départ pour tous\n",
    "bkg = bkg[bkg[var1]> 0.95] # (pour les len ou pour les splines)\n",
    "\n",
    "nb_total_events = df_gen.iloc[0][\"eventsProcessed\"]\n",
    "nb_signal_events = len(sig)\n",
    "nb_bkg_events = len(bkg)\n",
    "\n",
    "initial_eff_signal = nb_signal_events / nb_total_events\n",
    "initial_eff_incl_bkg = nb_bkg_events / nb_total_events\n",
    "\n",
    "#print('eff sig {}'.format(initial_eff_signal))\n",
    "#print('eff bkg {}'.format(initial_eff_incl_bkg))\n",
    "\n",
    "#np.array()\n",
    "cut_1_ = np.arange(min_cut_1, max_cut_1, cut_step)\n",
    "cut_2_ = np.arange(min_cut_2, max_cut_2, cut_step)\n",
    "\n",
    "Best_p = 0\n",
    "Best_MVA1 = 0.95\n",
    "Best_MVA2 = 0.95 #0.95 correspond à la valeur minimale des cuts\n",
    "Best_n_sig = 0\n",
    "Target_n_sig = 4000\n",
    "\n",
    "\n",
    "for i1, cut_i1 in enumerate(cut_1_) :\n",
    "   \n",
    "    cut_i1_log = -np.log(1 - cut_i1)\n",
    "    df_sig = bc_df[ bc_df[var1] > cut_i1 ]\n",
    "    print(i1)\n",
    "    \n",
    "    for i2, cut_i2 in enumerate(cut_2_) :\n",
    "        \n",
    "        cut_i2_log = -np.log(1-cut_i2) #log\n",
    "        df_signal = df_sig[df_sig[var2]>cut_i2]\n",
    "\n",
    "        nb_sig_cut_i1_i2 = len(df_signal)\n",
    "        nb_bkg_cut_i1 = interpolate.splint(cut_i1_log, max_cut_1_log, spline_MVA1_log) #log\n",
    "        nb_bkg_cut_i2 = interpolate.splint(cut_i2_log, max_cut_2_log, spline_MVA2_log) #log\n",
    "        \n",
    "        signal_cut_eff = nb_sig_cut_i1_i2 / nb_signal_events\n",
    "        bkg_cut_eff = (nb_bkg_cut_i1 / nb_bkg_events_1) * (nb_bkg_cut_i2 / nb_bkg_events_2)\n",
    "\n",
    "        s = S_cut(initial_eff_signal, signal_cut_eff)\n",
    "        b = B_incl_cut(initial_eff_incl_bkg, bkg_cut_eff) \n",
    "        p = s/(s+b)\n",
    "        \n",
    "        #if b==0 :\n",
    "            #print('B(MVA1,MVA2)=0 pour le cut MVA1 = {} et pour le cut MVA2 = {} ce qui correspond à la coordonées ({},{})'.format(cut_i1,cut_i2,i2,i1))\n",
    "            ##### Vérification qu'il n'y a pas de valeurs de background égales à 0\n",
    "        \n",
    "        if (s > Target_n_sig) & (p > Best_p) & (b>0) :\n",
    "            \n",
    "            Best_MVA1 = cut_i1\n",
    "            Best_MVA2 = cut_i2\n",
    "            Best_p = p\n",
    "            Best_n_sig = s\n",
    "\n",
    "    "
   ]
  },
  {
   "cell_type": "code",
   "execution_count": null,
   "id": "welsh-image",
   "metadata": {
    "scrolled": true
   },
   "outputs": [],
   "source": [
    "print('The best purity for a target of {} sig events is equal to = {}'.format(Target_n_sig, Best_p ))\n",
    "print('It is associated to a MVA1 cut = {} and a MVA2 cut = {}'.format(Best_MVA1, Best_MVA2))\n",
    "print('Total number of signal = {}'.format(Best_n_sig))"
   ]
  },
  {
   "cell_type": "code",
   "execution_count": null,
   "id": "absolute-family",
   "metadata": {},
   "outputs": [],
   "source": []
  },
  {
   "cell_type": "code",
   "execution_count": null,
   "id": "honest-attendance",
   "metadata": {},
   "outputs": [],
   "source": [
    "print(len(cut_1))\n",
    "print(cut_1)\n",
    "print(len(cut_2))\n",
    "print(cut_2)"
   ]
  },
  {
   "cell_type": "markdown",
   "id": "laughing-bulgaria",
   "metadata": {},
   "source": [
    "##### Valeurs retenues pour les best cuts"
   ]
  },
  {
   "cell_type": "markdown",
   "id": "thousand-challenge",
   "metadata": {},
   "source": [
    "cut_min = 0.995, cut1_max = 9, cut2_max = 8, cut_step=0.0005 -> The best purity for a target of 4000 sig events is equal to = 0.09334691238899527. It is associated to a MVA1 cut = 0.9994999999999995 and a MVA2 cut = 0.9984999999999996"
   ]
  },
  {
   "cell_type": "markdown",
   "id": "infectious-lying",
   "metadata": {},
   "source": [
    "cut_min = 0.995, cut1_max = 9, cut2_max = 8, cut_step=0.0001 -> The best purity for a target of 4000 sig events is equal to = 0.22525469254541738\n",
    "It is associated to a MVA1 cut = 0.9997999999999995 and a MVA2 cut = 0.9986999999999996"
   ]
  },
  {
   "cell_type": "markdown",
   "id": "eleven-amendment",
   "metadata": {},
   "source": [
    "cut_min = 0.995, cut1_max = 9, cut2_max = 8, cut_step=0.00009 --> The best purity for a target of 4000 sig events is equal to = 0.6079378810011188\n",
    "It is associated to a MVA1 cut = 0.9998600000000019 and a MVA2 cut = 0.9986900000000014"
   ]
  },
  {
   "cell_type": "markdown",
   "id": "planned-bulletin",
   "metadata": {},
   "source": [
    "cut_min = 0.995, cut1_max = 9, cut2_max = 8, cut_step=0.000085 --> The best purity for a target of 4000 sig events is equal to = 0.3929455591316377. It is associated to a MVA1 cut = 0.9998450000000001 and a MVA2 cut = 0.9986550000000001"
   ]
  },
  {
   "cell_type": "markdown",
   "id": "included-gospel",
   "metadata": {},
   "source": [
    "The best purity for a target of 4000 sig events is equal to = 0.6079378810011188\n",
    "It is associated to a MVA1 cut = 0.9998600000000019 and a MVA2 cut = 0.9986900000000014\n",
    "Total number of signal = 5999"
   ]
  },
  {
   "cell_type": "markdown",
   "id": "sustainable-sterling",
   "metadata": {},
   "source": [
    "    $B$ = $N(Z^0) \\times \\mathscr{B}(Z^0 \\rightarrow b\\bar{b}) \\times 2 \\times f(B^+) \\times \\mathscr{B}(B^+ \\rightarrow \\tau^+ \\nu_\\tau) \\times \\mathscr{B}(\\tau^+ \\rightarrow \\pi^+ \\pi^- \\pi^+ \\bar{\\nu_\\tau})$ + $N(Z^0) \\times \\mathscr{B}(Z^0 \\rightarrow b\\bar{b})$"
   ]
  },
  {
   "cell_type": "markdown",
   "id": "innocent-accuracy",
   "metadata": {},
   "source": [
    "The best purity for a target of 4000 sig events is equal to = 0.4414495369842852\n",
    "It is associated to a MVA1 cut = 0.9998499999999995 and a MVA2 cut = 0.9986499999999996\n",
    "Total number of signal = 6862"
   ]
  },
  {
   "cell_type": "markdown",
   "id": "precise-mixer",
   "metadata": {},
   "source": [
    "cut1_min = 0.999, cut1_max = 9, cut2_min = 0.998, cut2_max = 8, cut_step=0.000005.\n",
    "The best purity for a target of 4000 sig events is equal to = 0.7728891548557775\n",
    "It is associated to a MVA1 cut = 0.9998650000000057 and a MVA2 cut = 0.9986700000000044\n",
    "Total number of signal = 6016"
   ]
  },
  {
   "cell_type": "markdown",
   "id": "ongoing-venezuela",
   "metadata": {},
   "source": [
    "The best purity for a target of 4000 sig events is equal to = 0.3681102610809521\n",
    "It is associated to a MVA1 cut = 0.9998499999999995 and a MVA2 cut = 0.9964999999999998\n",
    "Total number of signal = 4044.7664361216002"
   ]
  },
  {
   "cell_type": "markdown",
   "id": "aware-czech",
   "metadata": {},
   "source": [
    "The best purity for a target of 4000 sig events is equal to = 0.5258430335310698\n",
    "It is associated to a MVA1 cut = 0.9998599999999915 and a MVA2 cut = 0.9963399999999939\n",
    "Total number of signal = 4009.2649482816005"
   ]
  },
  {
   "cell_type": "code",
   "execution_count": null,
   "id": "falling-manitoba",
   "metadata": {},
   "outputs": [],
   "source": []
  }
 ],
 "metadata": {
  "kernelspec": {
   "display_name": "Python 3",
   "language": "python",
   "name": "python3"
  },
  "language_info": {
   "codemirror_mode": {
    "name": "ipython",
    "version": 3
   },
   "file_extension": ".py",
   "mimetype": "text/x-python",
   "name": "python",
   "nbconvert_exporter": "python",
   "pygments_lexer": "ipython3",
   "version": "3.8.6"
  }
 },
 "nbformat": 4,
 "nbformat_minor": 5
}
